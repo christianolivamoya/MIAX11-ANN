{
 "cells": [
  {
   "cell_type": "markdown",
   "metadata": {
    "id": "tEVM4ha3u5UC"
   },
   "source": [
    "### Ajuste de parámetros mediante validación cruzada"
   ]
  },
  {
   "cell_type": "markdown",
   "metadata": {
    "id": "g3JprHHwWB2y"
   },
   "source": [
    "Imports:"
   ]
  },
  {
   "cell_type": "code",
   "execution_count": 1,
   "metadata": {
    "executionInfo": {
     "elapsed": 6169,
     "status": "ok",
     "timestamp": 1685098509182,
     "user": {
      "displayName": "Luis Lago",
      "userId": "15983579116795900663"
     },
     "user_tz": -120
    },
    "id": "ch3Yqr4Hu5UH"
   },
   "outputs": [],
   "source": [
    "import tensorflow as tf\n",
    "from tensorflow import keras\n",
    "\n",
    "import numpy as np\n",
    "import matplotlib.pyplot as plt\n",
    "from time import time\n",
    "import shutil"
   ]
  },
  {
   "cell_type": "markdown",
   "metadata": {
    "id": "LjSlzkrqWD7l"
   },
   "source": [
    "Carga de datos, MNIST:"
   ]
  },
  {
   "cell_type": "code",
   "execution_count": 2,
   "metadata": {
    "colab": {
     "base_uri": "https://localhost:8080/"
    },
    "executionInfo": {
     "elapsed": 1706,
     "status": "ok",
     "timestamp": 1685098514120,
     "user": {
      "displayName": "Luis Lago",
      "userId": "15983579116795900663"
     },
     "user_tz": -120
    },
    "id": "5bOxkDX-u5UT",
    "outputId": "d057db0b-74f0-4c66-f0f9-3dfb6a76e854"
   },
   "outputs": [
    {
     "name": "stdout",
     "output_type": "stream",
     "text": [
      "Downloading data from https://storage.googleapis.com/tensorflow/tf-keras-datasets/mnist.npz\n",
      "11490434/11490434 [==============================] - 0s 0us/step\n"
     ]
    }
   ],
   "source": [
    "(train_images, train_labels), (test_images, test_labels) = tf.keras.datasets.mnist.load_data()"
   ]
  },
  {
   "cell_type": "code",
   "execution_count": 3,
   "metadata": {
    "executionInfo": {
     "elapsed": 2046,
     "status": "ok",
     "timestamp": 1685098516529,
     "user": {
      "displayName": "Luis Lago",
      "userId": "15983579116795900663"
     },
     "user_tz": -120
    },
    "id": "MtgU9wHMu5Ua"
   },
   "outputs": [],
   "source": [
    "mean_img = train_images.mean(axis=0)\n",
    "train_images = train_images - mean_img\n",
    "test_images = test_images - mean_img"
   ]
  },
  {
   "cell_type": "markdown",
   "metadata": {
    "id": "kipy7dW3WJ6y"
   },
   "source": [
    "Reduzco mucho el tamaño del conjunto de entrenamiento, para que las pruebas vayan más rápido:"
   ]
  },
  {
   "cell_type": "code",
   "execution_count": 4,
   "metadata": {
    "colab": {
     "base_uri": "https://localhost:8080/"
    },
    "executionInfo": {
     "elapsed": 413,
     "status": "ok",
     "timestamp": 1685098520828,
     "user": {
      "displayName": "Luis Lago",
      "userId": "15983579116795900663"
     },
     "user_tz": -120
    },
    "id": "8rsoGrDCu5Uh",
    "outputId": "597fd9ce-8caa-4525-a558-2fecea9d5e92"
   },
   "outputs": [
    {
     "name": "stdout",
     "output_type": "stream",
     "text": [
      "(5000, 28, 28)\n",
      "(5000,)\n"
     ]
    }
   ],
   "source": [
    "# Numero de ejemplos para entrenamiento\n",
    "num_train = 5000\n",
    "\n",
    "# Seleccionamos imagenes para training\n",
    "tr_images = train_images[:num_train]\n",
    "tr_labels = train_labels[:num_train]\n",
    "print(tr_images.shape)\n",
    "print(tr_labels.shape)"
   ]
  },
  {
   "cell_type": "markdown",
   "metadata": {
    "id": "bMdV5vLqWW6o"
   },
   "source": [
    "Validación de un modelo:\n",
    "\n",
    "Usamos la clase ``StratifiedKFold`` (https://scikit-learn.org/stable/modules/generated/sklearn.model_selection.StratifiedKFold.html) de ``scikitlearn``, que genera índices para entrenamiento y validación de acuerdo a una estrategia de validación cruzada con k folds. \n",
    "\n",
    "En el siguiente ejemplo se usa ``k = 5``:\n"
   ]
  },
  {
   "cell_type": "code",
   "execution_count": 5,
   "metadata": {
    "colab": {
     "base_uri": "https://localhost:8080/"
    },
    "executionInfo": {
     "elapsed": 47896,
     "status": "ok",
     "timestamp": 1685098600818,
     "user": {
      "displayName": "Luis Lago",
      "userId": "15983579116795900663"
     },
     "user_tz": -120
    },
    "id": "lkluCzI0u5Up",
    "outputId": "2a5d8cce-3232-41a5-db4a-1b1ace1c4f4a"
   },
   "outputs": [
    {
     "name": "stdout",
     "output_type": "stream",
     "text": [
      "Accuracy: 89.80%\n",
      "Accuracy: 90.70%\n",
      "Accuracy: 88.50%\n",
      "Accuracy: 89.70%\n",
      "Accuracy: 89.90%\n",
      "89.72% ± 0.71%\n"
     ]
    }
   ],
   "source": [
    "from sklearn.model_selection import StratifiedKFold\n",
    "\n",
    "kfold = StratifiedKFold(n_splits=5, shuffle=True)\n",
    "# kfold.split(...) devuelve un generador que genera los índices de entrenamiento\n",
    "# y test para cada una de las particiones\n",
    "\n",
    "cvscores = []\n",
    "for itrain, itest in kfold.split(tr_images, tr_labels):\n",
    "    # Creamos el modelo:\n",
    "    model = keras.Sequential()\n",
    "    model.add(keras.layers.Flatten(input_shape=(28, 28)))\n",
    "    model.add(keras.layers.Dense(64, activation=\"relu\", kernel_regularizer=keras.regularizers.l2(1.0)))\n",
    "    model.add(keras.layers.Dense(10, activation=\"softmax\"))\n",
    "\n",
    "    # Lo compilamos:\n",
    "    model.compile(optimizer=keras.optimizers.Adam(0.001), \n",
    "                  loss='sparse_categorical_crossentropy',\n",
    "                  metrics=['acc'])    \n",
    "    \n",
    "    # Lo entrenamos:\n",
    "    nepochs = 30\n",
    "    history = model.fit(tr_images[itrain], \n",
    "                        tr_labels[itrain], \n",
    "                        epochs=nepochs,\n",
    "                        verbose=0,\n",
    "                        batch_size=50)    \n",
    "    \n",
    "    # Lo evaluamos:\n",
    "    loss, acc = model.evaluate(tr_images[itest], tr_labels[itest], verbose=0)\n",
    "    \n",
    "    print(\"Accuracy: %.2f%%\" % (acc*100.0))\n",
    "    cvscores.append(acc * 100.)\n",
    "print(\"%.2f%% \\u00B1 %.2f%%\" % (np.mean(cvscores), np.std(cvscores)))"
   ]
  },
  {
   "cell_type": "markdown",
   "metadata": {
    "id": "XFpu23AZu5Uv"
   },
   "source": [
    "A continuación definimos algunas funciones para simplificar la tarea.\n",
    "\n",
    "Esta función crea una red neuronal con ``nhidden`` neuronas ocultas y constante de regularización ``lreg``:"
   ]
  },
  {
   "cell_type": "code",
   "execution_count": 6,
   "metadata": {
    "executionInfo": {
     "elapsed": 393,
     "status": "ok",
     "timestamp": 1685098626081,
     "user": {
      "displayName": "Luis Lago",
      "userId": "15983579116795900663"
     },
     "user_tz": -120
    },
    "id": "T6OuRz7Hu5Ux"
   },
   "outputs": [],
   "source": [
    "def create_model(nhidden, lreg):\n",
    "    model = keras.Sequential()\n",
    "    model.add(keras.layers.Flatten(input_shape=(28, 28)))\n",
    "    model.add(keras.layers.Dense(nhidden, activation=\"relu\", kernel_regularizer=keras.regularizers.l2(lreg)))\n",
    "    model.add(keras.layers.Dense(10, activation=\"softmax\"))\n",
    "\n",
    "    return model"
   ]
  },
  {
   "cell_type": "markdown",
   "metadata": {
    "id": "0VoSU7J-ZAzM"
   },
   "source": [
    "Esta función evalúa un modelo haciendo validación cruzada: "
   ]
  },
  {
   "cell_type": "code",
   "execution_count": 7,
   "metadata": {
    "executionInfo": {
     "elapsed": 409,
     "status": "ok",
     "timestamp": 1685098643295,
     "user": {
      "displayName": "Luis Lago",
      "userId": "15983579116795900663"
     },
     "user_tz": -120
    },
    "id": "fj82dqh_u5U3"
   },
   "outputs": [],
   "source": [
    "def xvalidation(x, y, nhidden, lreg, lrate, num_epochs, bsize, nfolds, semilla):\n",
    "\n",
    "    kfold = StratifiedKFold(n_splits=nfolds, shuffle=True, random_state=semilla)\n",
    "    cvscores = np.zeros(nfolds)\n",
    "    for i, (train, test) in enumerate(kfold.split(x, y)):\n",
    "        model = create_model(nhidden, lreg)\n",
    "        model.compile(optimizer=keras.optimizers.Adam(lrate), \n",
    "                      loss='sparse_categorical_crossentropy',\n",
    "                      metrics=['acc'])    \n",
    "    \n",
    "        history = model.fit(x[train], \n",
    "                            y[train], \n",
    "                            epochs=num_epochs,\n",
    "                            verbose=0,\n",
    "                            batch_size=bsize)    \n",
    "    \n",
    "        loss, acc = model.evaluate(x[test], y[test], verbose=0)\n",
    "    \n",
    "        cvscores[i] = acc\n",
    "    return cvscores"
   ]
  },
  {
   "cell_type": "markdown",
   "metadata": {
    "id": "FmQG_z46ZjP_"
   },
   "source": [
    "En la función anterior, ¿por qué se crea el ``StratifiedKFold`` pasando como argumento ``random_state=semilla``?"
   ]
  },
  {
   "cell_type": "markdown",
   "metadata": {
    "id": "XWI41O-1u5U9"
   },
   "source": [
    "Búsqueda del número de neuronas y la constante de regularización:"
   ]
  },
  {
   "cell_type": "code",
   "execution_count": 8,
   "metadata": {
    "colab": {
     "base_uri": "https://localhost:8080/"
    },
    "executionInfo": {
     "elapsed": 265773,
     "status": "ok",
     "timestamp": 1685098921046,
     "user": {
      "displayName": "Luis Lago",
      "userId": "15983579116795900663"
     },
     "user_tz": -120
    },
    "id": "f9Qgwuf8u5U-",
    "outputId": "643f2cf8-189d-409f-f1fd-3000bad907cf"
   },
   "outputs": [
    {
     "name": "stdout",
     "output_type": "stream",
     "text": [
      "nhidden = 32\n",
      "lreg = 1.000000\n",
      "[0.903      0.884      0.89700001 0.90700001 0.90200001]\n",
      "   89.86% ± 0.80%\n",
      "nhidden = 32\n",
      "lreg = 0.100000\n",
      "[0.90700001 0.91799998 0.90799999 0.89700001 0.903     ]\n",
      "   90.66% ± 0.69%\n",
      "nhidden = 32\n",
      "lreg = 0.010000\n",
      "[0.92000002 0.89499998 0.88099998 0.90799999 0.89899999]\n",
      "   90.06% ± 1.30%\n",
      "nhidden = 32\n",
      "lreg = 0.001000\n",
      "[0.92000002 0.89399999 0.88200003 0.91399997 0.89099997]\n",
      "   90.02% ± 1.44%\n",
      "nhidden = 64\n",
      "lreg = 1.000000\n",
      "[0.912      0.90799999 0.88       0.91299999 0.89399999]\n",
      "   90.14% ± 1.27%\n",
      "nhidden = 64\n",
      "lreg = 0.100000\n",
      "[0.92699999 0.917      0.90100002 0.917      0.921     ]\n",
      "   91.66% ± 0.86%\n",
      "nhidden = 64\n",
      "lreg = 0.010000\n",
      "[0.92400002 0.92500001 0.90399998 0.94       0.92299998]\n",
      "   92.32% ± 1.14%\n",
      "nhidden = 64\n",
      "lreg = 0.001000\n",
      "[0.91100001 0.90799999 0.90600002 0.921      0.90899998]\n",
      "   91.10% ± 0.53%\n"
     ]
    }
   ],
   "source": [
    "for nhidden in [32, 64]:\n",
    "  for lreg in [1.0, 0.1, 0.01, 0.001]:\n",
    "      cvscores = xvalidation(tr_images, tr_labels, nhidden, lreg, 0.001, 30, 50, 5, 13)\n",
    "      print(\"nhidden = %d\" % (nhidden))\n",
    "      print(\"lreg = %f\" % (lreg))\n",
    "      print(cvscores)\n",
    "      print(\"   %.2f%% \\u00B1 %.2f%%\" % (100*np.mean(cvscores), 100*np.std(cvscores)))"
   ]
  },
  {
   "cell_type": "markdown",
   "metadata": {
    "id": "UMh0yXZSu5VE"
   },
   "source": [
    "Elegimos los mejores parámetros de acuerdo a la búsqueda anterior y volvemos a entrenar el modelo con esos parámetros usando todos los datos de entrenamiento:"
   ]
  },
  {
   "cell_type": "code",
   "execution_count": 9,
   "metadata": {
    "executionInfo": {
     "elapsed": 11486,
     "status": "ok",
     "timestamp": 1685098958314,
     "user": {
      "displayName": "Luis Lago",
      "userId": "15983579116795900663"
     },
     "user_tz": -120
    },
    "id": "CG0re_w7u5VF"
   },
   "outputs": [],
   "source": [
    "nhidden = 64\n",
    "lreg = 0.001\n",
    "\n",
    "model = create_model(nhidden, lreg)\n",
    "\n",
    "model.compile(optimizer=keras.optimizers.Adam(0.001), \n",
    "              loss='sparse_categorical_crossentropy',\n",
    "              metrics=['acc'])    \n",
    "    \n",
    "history = model.fit(tr_images, \n",
    "                    tr_labels, \n",
    "                    epochs=30,\n",
    "                    verbose=0,\n",
    "                    batch_size=50)  "
   ]
  },
  {
   "cell_type": "markdown",
   "metadata": {
    "id": "gCu84V8xu5VK"
   },
   "source": [
    "Y lo aplicamos a los datos de test:"
   ]
  },
  {
   "cell_type": "code",
   "execution_count": 10,
   "metadata": {
    "colab": {
     "base_uri": "https://localhost:8080/"
    },
    "executionInfo": {
     "elapsed": 861,
     "status": "ok",
     "timestamp": 1685098967329,
     "user": {
      "displayName": "Luis Lago",
      "userId": "15983579116795900663"
     },
     "user_tz": -120
    },
    "id": "pjqkqtKZu5VL",
    "outputId": "1e037653-8b0f-42d4-deaf-3be60e3b8688"
   },
   "outputs": [
    {
     "name": "stdout",
     "output_type": "stream",
     "text": [
      "0.9168999791145325\n"
     ]
    }
   ],
   "source": [
    "loss, acc = model.evaluate(test_images, test_labels, verbose=0)\n",
    "print(acc)"
   ]
  },
  {
   "cell_type": "markdown",
   "metadata": {
    "id": "Ugy_E2ve88aP"
   },
   "source": [
    "**Otras métricas:** ¿Cómo calcular, por ejemplo el ROC-AUC?\n",
    "\n",
    "Como ejemplo, calculemos la ROC para una de las clases frente al resto:"
   ]
  },
  {
   "cell_type": "code",
   "execution_count": 11,
   "metadata": {
    "colab": {
     "base_uri": "https://localhost:8080/",
     "height": 581
    },
    "executionInfo": {
     "elapsed": 1345,
     "status": "ok",
     "timestamp": 1685098990551,
     "user": {
      "displayName": "Luis Lago",
      "userId": "15983579116795900663"
     },
     "user_tz": -120
    },
    "id": "ft_gtutv9Frh",
    "outputId": "63c4e338-e4dc-4f81-8055-359ed76f9deb"
   },
   "outputs": [
    {
     "name": "stdout",
     "output_type": "stream",
     "text": [
      "313/313 [==============================] - 0s 1ms/step\n"
     ]
    },
    {
     "data": {
      "image/png": "[encoded data removed]",
      "text/plain": [
       "<Figure size 600x600 with 1 Axes>"
      ]
     },
     "metadata": {},
     "output_type": "display_data"
    }
   ],
   "source": [
    "from sklearn import metrics\n",
    "\n",
    "target = 8\n",
    "probs = model.predict(test_images)\n",
    "prob_target = probs[:, target]\n",
    "ytrue = test_labels == target\n",
    "\n",
    "fpr, tpr, thresholds = metrics.roc_curve(ytrue, prob_target, pos_label=1)\n",
    "auc = metrics.roc_auc_score(ytrue, prob_target)\n",
    "                            \n",
    "plt.figure(figsize=(6, 6))\n",
    "plt.plot(fpr, tpr)\n",
    "plt.xlabel('FPR')\n",
    "plt.ylabel('TPR')\n",
    "plt.title(f'ROC for {target}, AUC = {auc:.3f}')\n",
    "plt.grid(True)\n",
    "plt.show()"
   ]
  },
  {
   "cell_type": "markdown",
   "metadata": {
    "id": "Qssu7SCy_8cS"
   },
   "source": [
    "**Ejercicio:** Realizar una validación cruzada utilizando una métrica de evaluación distinta."
   ]
  },
  {
   "cell_type": "markdown",
   "metadata": {
    "id": "-isrEaOty_Zj"
   },
   "source": [
    "Cómo hacer todo esto de una manera más automática:\n",
    "\n",
    "- [GridSearchCV](https://scikit-learn.org/stable/modules/generated/sklearn.model_selection.GridSearchCV.html) de ``scikit-learn``.\n",
    "\n",
    "- Keras Tuner: https://www.tensorflow.org/tutorials/keras/keras_tuner\n",
    "\n",
    "- HParams dashboard en tensorboard: https://www.tensorflow.org/tensorboard/hyperparameter_tuning_with_hparams"
   ]
  },
  {
   "cell_type": "markdown",
   "metadata": {
    "id": "PCWvcf_xJzdx"
   },
   "source": [
    "### Ejemplo de uso de GridSearchCV:\n",
    "\n",
    "Usamos ``scikeras``, un wrapper de keras para ``scikit-learn``."
   ]
  },
  {
   "cell_type": "code",
   "execution_count": 13,
   "metadata": {
    "colab": {
     "base_uri": "https://localhost:8080/"
    },
    "executionInfo": {
     "elapsed": 5737,
     "status": "ok",
     "timestamp": 1685099061094,
     "user": {
      "displayName": "Luis Lago",
      "userId": "15983579116795900663"
     },
     "user_tz": -120
    },
    "id": "GxE9rAquzjR5",
    "outputId": "760c2313-044f-487c-e41e-91b8895a2de6"
   },
   "outputs": [
    {
     "name": "stdout",
     "output_type": "stream",
     "text": [
      "Looking in indexes: https://pypi.org/simple, https://us-python.pkg.dev/colab-wheels/public/simple/\n",
      "Collecting scikeras\n",
      "  Downloading scikeras-0.10.0-py3-none-any.whl (27 kB)\n",
      "Requirement already satisfied: packaging>=0.21 in /usr/local/lib/python3.10/dist-packages (from scikeras) (23.1)\n",
      "Requirement already satisfied: scikit-learn>=1.0.0 in /usr/local/lib/python3.10/dist-packages (from scikeras) (1.2.2)\n",
      "Requirement already satisfied: numpy>=1.17.3 in /usr/local/lib/python3.10/dist-packages (from scikit-learn>=1.0.0->scikeras) (1.22.4)\n",
      "Requirement already satisfied: scipy>=1.3.2 in /usr/local/lib/python3.10/dist-packages (from scikit-learn>=1.0.0->scikeras) (1.10.1)\n",
      "Requirement already satisfied: joblib>=1.1.1 in /usr/local/lib/python3.10/dist-packages (from scikit-learn>=1.0.0->scikeras) (1.2.0)\n",
      "Requirement already satisfied: threadpoolctl>=2.0.0 in /usr/local/lib/python3.10/dist-packages (from scikit-learn>=1.0.0->scikeras) (3.1.0)\n",
      "Installing collected packages: scikeras\n",
      "Successfully installed scikeras-0.10.0\n"
     ]
    }
   ],
   "source": [
    "!pip install scikeras"
   ]
  },
  {
   "cell_type": "code",
   "execution_count": 14,
   "metadata": {
    "executionInfo": {
     "elapsed": 421,
     "status": "ok",
     "timestamp": 1685099095923,
     "user": {
      "displayName": "Luis Lago",
      "userId": "15983579116795900663"
     },
     "user_tz": -120
    },
    "id": "YyUadk_sJ_Ui"
   },
   "outputs": [],
   "source": [
    "from sklearn.model_selection import GridSearchCV\n",
    "from scikeras.wrappers import KerasClassifier"
   ]
  },
  {
   "cell_type": "markdown",
   "metadata": {
    "id": "3Knt7dAOKCna"
   },
   "source": [
    "Función para crear el modelo. Devuelve el modelo ya compilado:"
   ]
  },
  {
   "cell_type": "code",
   "execution_count": 15,
   "metadata": {
    "executionInfo": {
     "elapsed": 305,
     "status": "ok",
     "timestamp": 1685099106356,
     "user": {
      "displayName": "Luis Lago",
      "userId": "15983579116795900663"
     },
     "user_tz": -120
    },
    "id": "TJfQ-vX7AAV4"
   },
   "outputs": [],
   "source": [
    "def create_model(nhidden, lreg, lrate):\n",
    "    model = keras.Sequential()\n",
    "    model.add(keras.layers.Flatten(input_shape=(28, 28)))\n",
    "    model.add(keras.layers.Dense(nhidden, activation=\"relu\", kernel_regularizer=keras.regularizers.l2(lreg)))\n",
    "    model.add(keras.layers.Dense(10, activation=\"softmax\"))\n",
    "\n",
    "    model.compile(optimizer=keras.optimizers.Adam(lrate), \n",
    "                  loss='sparse_categorical_crossentropy',\n",
    "                  metrics=['acc'])    \n",
    "\n",
    "    return model"
   ]
  },
  {
   "cell_type": "markdown",
   "metadata": {
    "id": "nWeE53ggKLvo"
   },
   "source": [
    "Usamos la clase [KerasClassifier](https://www.tensorflow.org/api_docs/python/tf/keras/wrappers/scikit_learn/KerasClassifier) para adaptar el modelo al estilo de ``scikit-learn``:"
   ]
  },
  {
   "cell_type": "code",
   "execution_count": 16,
   "metadata": {
    "executionInfo": {
     "elapsed": 416,
     "status": "ok",
     "timestamp": 1685099118850,
     "user": {
      "displayName": "Luis Lago",
      "userId": "15983579116795900663"
     },
     "user_tz": -120
    },
    "id": "xJrApF5G-4Ro"
   },
   "outputs": [],
   "source": [
    "model = KerasClassifier(model=create_model, lreg=1.0, nhidden=50, lrate=0.001)"
   ]
  },
  {
   "cell_type": "markdown",
   "metadata": {
    "id": "639B_2OhKuOg"
   },
   "source": [
    "Ahora podemos usar los métodos típicos de ``scikit-learn``, como ``fit``, ``predict``, ``predict_proba``, ``score``, etc. Por ejemplo:"
   ]
  },
  {
   "cell_type": "code",
   "execution_count": 17,
   "metadata": {
    "colab": {
     "base_uri": "https://localhost:8080/",
     "height": 599
    },
    "executionInfo": {
     "elapsed": 3948,
     "status": "ok",
     "timestamp": 1685099197957,
     "user": {
      "displayName": "Luis Lago",
      "userId": "15983579116795900663"
     },
     "user_tz": -120
    },
    "id": "y2cDqbSV-4b6",
    "outputId": "21039203-7530-417c-e3e9-739d79ae82ec"
   },
   "outputs": [
    {
     "name": "stdout",
     "output_type": "stream",
     "text": [
      "Epoch 1/10\n",
      "100/100 [==============================] - 1s 2ms/step - loss: 75.1997 - acc: 0.7324\n",
      "Epoch 2/10\n",
      "100/100 [==============================] - 0s 2ms/step - loss: 34.6931 - acc: 0.8922\n",
      "Epoch 3/10\n",
      "100/100 [==============================] - 0s 2ms/step - loss: 21.3527 - acc: 0.9206\n",
      "Epoch 4/10\n",
      "100/100 [==============================] - 0s 2ms/step - loss: 13.5710 - acc: 0.9320\n",
      "Epoch 5/10\n",
      "100/100 [==============================] - 0s 2ms/step - loss: 8.9761 - acc: 0.9396\n",
      "Epoch 6/10\n",
      "100/100 [==============================] - 0s 2ms/step - loss: 6.5563 - acc: 0.9230\n",
      "Epoch 7/10\n",
      "100/100 [==============================] - 0s 3ms/step - loss: 4.6028 - acc: 0.9434\n",
      "Epoch 8/10\n",
      "100/100 [==============================] - 0s 2ms/step - loss: 3.6121 - acc: 0.9374\n",
      "Epoch 9/10\n",
      "100/100 [==============================] - 0s 2ms/step - loss: 3.4580 - acc: 0.9270\n",
      "Epoch 10/10\n",
      "100/100 [==============================] - 0s 2ms/step - loss: 3.1058 - acc: 0.9332\n"
     ]
    },
    {
     "data": {
      "text/html": [
       "<style>#sk-container-id-1 {color: black;background-color: white;}#sk-container-id-1 pre{padding: 0;}#sk-container-id-1 div.sk-toggleable {background-color: white;}#sk-container-id-1 label.sk-toggleable__label {cursor: pointer;display: block;width: 100%;margin-bottom: 0;padding: 0.3em;box-sizing: border-box;text-align: center;}#sk-container-id-1 label.sk-toggleable__label-arrow:before {content: \"▸\";float: left;margin-right: 0.25em;color: #696969;}#sk-container-id-1 label.sk-toggleable__label-arrow:hover:before {color: black;}#sk-container-id-1 div.sk-estimator:hover label.sk-toggleable__label-arrow:before {color: black;}#sk-container-id-1 div.sk-toggleable__content {max-height: 0;max-width: 0;overflow: hidden;text-align: left;background-color: #f0f8ff;}#sk-container-id-1 div.sk-toggleable__content pre {margin: 0.2em;color: black;border-radius: 0.25em;background-color: #f0f8ff;}#sk-container-id-1 input.sk-toggleable__control:checked~div.sk-toggleable__content {max-height: 200px;max-width: 100%;overflow: auto;}#sk-container-id-1 input.sk-toggleable__control:checked~label.sk-toggleable__label-arrow:before {content: \"▾\";}#sk-container-id-1 div.sk-estimator input.sk-toggleable__control:checked~label.sk-toggleable__label {background-color: #d4ebff;}#sk-container-id-1 div.sk-label input.sk-toggleable__control:checked~label.sk-toggleable__label {background-color: #d4ebff;}#sk-container-id-1 input.sk-hidden--visually {border: 0;clip: rect(1px 1px 1px 1px);clip: rect(1px, 1px, 1px, 1px);height: 1px;margin: -1px;overflow: hidden;padding: 0;position: absolute;width: 1px;}#sk-container-id-1 div.sk-estimator {font-family: monospace;background-color: #f0f8ff;border: 1px dotted black;border-radius: 0.25em;box-sizing: border-box;margin-bottom: 0.5em;}#sk-container-id-1 div.sk-estimator:hover {background-color: #d4ebff;}#sk-container-id-1 div.sk-parallel-item::after {content: \"\";width: 100%;border-bottom: 1px solid gray;flex-grow: 1;}#sk-container-id-1 div.sk-label:hover label.sk-toggleable__label {background-color: #d4ebff;}#sk-container-id-1 div.sk-serial::before {content: \"\";position: absolute;border-left: 1px solid gray;box-sizing: border-box;top: 0;bottom: 0;left: 50%;z-index: 0;}#sk-container-id-1 div.sk-serial {display: flex;flex-direction: column;align-items: center;background-color: white;padding-right: 0.2em;padding-left: 0.2em;position: relative;}#sk-container-id-1 div.sk-item {position: relative;z-index: 1;}#sk-container-id-1 div.sk-parallel {display: flex;align-items: stretch;justify-content: center;background-color: white;position: relative;}#sk-container-id-1 div.sk-item::before, #sk-container-id-1 div.sk-parallel-item::before {content: \"\";position: absolute;border-left: 1px solid gray;box-sizing: border-box;top: 0;bottom: 0;left: 50%;z-index: -1;}#sk-container-id-1 div.sk-parallel-item {display: flex;flex-direction: column;z-index: 1;position: relative;background-color: white;}#sk-container-id-1 div.sk-parallel-item:first-child::after {align-self: flex-end;width: 50%;}#sk-container-id-1 div.sk-parallel-item:last-child::after {align-self: flex-start;width: 50%;}#sk-container-id-1 div.sk-parallel-item:only-child::after {width: 0;}#sk-container-id-1 div.sk-dashed-wrapped {border: 1px dashed gray;margin: 0 0.4em 0.5em 0.4em;box-sizing: border-box;padding-bottom: 0.4em;background-color: white;}#sk-container-id-1 div.sk-label label {font-family: monospace;font-weight: bold;display: inline-block;line-height: 1.2em;}#sk-container-id-1 div.sk-label-container {text-align: center;}#sk-container-id-1 div.sk-container {/* jupyter's `normalize.less` sets `[hidden] { display: none; }` but bootstrap.min.css set `[hidden] { display: none !important; }` so we also need the `!important` here to be able to override the default hidden behavior on the sphinx rendered scikit-learn.org. See: https://github.com/scikit-learn/scikit-learn/issues/21755 */display: inline-block !important;position: relative;}#sk-container-id-1 div.sk-text-repr-fallback {display: none;}</style><div id=\"sk-container-id-1\" class=\"sk-top-container\"><div class=\"sk-text-repr-fallback\"><pre>KerasClassifier(\n",
       "\tmodel=&lt;function create_model at 0x7efcb1a1b910&gt;\n",
       "\tbuild_fn=None\n",
       "\twarm_start=False\n",
       "\trandom_state=None\n",
       "\toptimizer=rmsprop\n",
       "\tloss=None\n",
       "\tmetrics=None\n",
       "\tbatch_size=None\n",
       "\tvalidation_batch_size=None\n",
       "\tverbose=1\n",
       "\tcallbacks=None\n",
       "\tvalidation_split=0.0\n",
       "\tshuffle=True\n",
       "\trun_eagerly=False\n",
       "\tepochs=1\n",
       "\tlreg=1.0\n",
       "\tnhidden=50\n",
       "\tlrate=0.001\n",
       "\tclass_weight=None\n",
       ")</pre><b>In a Jupyter environment, please rerun this cell to show the HTML representation or trust the notebook. <br />On GitHub, the HTML representation is unable to render, please try loading this page with nbviewer.org.</b></div><div class=\"sk-container\" hidden><div class=\"sk-item\"><div class=\"sk-estimator sk-toggleable\"><input class=\"sk-toggleable__control sk-hidden--visually\" id=\"sk-estimator-id-1\" type=\"checkbox\" checked><label for=\"sk-estimator-id-1\" class=\"sk-toggleable__label sk-toggleable__label-arrow\">KerasClassifier</label><div class=\"sk-toggleable__content\"><pre>KerasClassifier(\n",
       "\tmodel=&lt;function create_model at 0x7efcb1a1b910&gt;\n",
       "\tbuild_fn=None\n",
       "\twarm_start=False\n",
       "\trandom_state=None\n",
       "\toptimizer=rmsprop\n",
       "\tloss=None\n",
       "\tmetrics=None\n",
       "\tbatch_size=None\n",
       "\tvalidation_batch_size=None\n",
       "\tverbose=1\n",
       "\tcallbacks=None\n",
       "\tvalidation_split=0.0\n",
       "\tshuffle=True\n",
       "\trun_eagerly=False\n",
       "\tepochs=1\n",
       "\tlreg=1.0\n",
       "\tnhidden=50\n",
       "\tlrate=0.001\n",
       "\tclass_weight=None\n",
       ")</pre></div></div></div></div></div>"
      ],
      "text/plain": [
       "KerasClassifier(\n",
       "\tmodel=<function create_model at 0x7efcb1a1b910>\n",
       "\tbuild_fn=None\n",
       "\twarm_start=False\n",
       "\trandom_state=None\n",
       "\toptimizer=rmsprop\n",
       "\tloss=None\n",
       "\tmetrics=None\n",
       "\tbatch_size=None\n",
       "\tvalidation_batch_size=None\n",
       "\tverbose=1\n",
       "\tcallbacks=None\n",
       "\tvalidation_split=0.0\n",
       "\tshuffle=True\n",
       "\trun_eagerly=False\n",
       "\tepochs=1\n",
       "\tlreg=1.0\n",
       "\tnhidden=50\n",
       "\tlrate=0.001\n",
       "\tclass_weight=None\n",
       ")"
      ]
     },
     "execution_count": 17,
     "metadata": {},
     "output_type": "execute_result"
    }
   ],
   "source": [
    "model.fit(tr_images, tr_labels, epochs=10, batch_size=50)"
   ]
  },
  {
   "cell_type": "code",
   "execution_count": 18,
   "metadata": {
    "colab": {
     "base_uri": "https://localhost:8080/"
    },
    "executionInfo": {
     "elapsed": 1309,
     "status": "ok",
     "timestamp": 1685099221607,
     "user": {
      "displayName": "Luis Lago",
      "userId": "15983579116795900663"
     },
     "user_tz": -120
    },
    "id": "Xf4a31uDAaoO",
    "outputId": "7849c0c8-f05c-4ed8-c5b7-8b99a19ccdb1"
   },
   "outputs": [
    {
     "name": "stdout",
     "output_type": "stream",
     "text": [
      "157/157 [==============================] - 0s 1ms/step\n",
      "[5 0 4 1 9 2 1 3 1 4]\n",
      "157/157 [==============================] - 0s 1ms/step\n",
      "[[6.76197365e-32 0.00000000e+00 0.00000000e+00 5.19920639e-15\n",
      "  0.00000000e+00 9.99999940e-01 0.00000000e+00 1.19147179e-31\n",
      "  1.47544504e-34 0.00000000e+00]\n",
      " [9.99999940e-01 0.00000000e+00 0.00000000e+00 0.00000000e+00\n",
      "  0.00000000e+00 0.00000000e+00 0.00000000e+00 2.84863898e-36\n",
      "  0.00000000e+00 0.00000000e+00]\n",
      " [0.00000000e+00 3.86119831e-32 1.54044503e-15 9.30464434e-31\n",
      "  9.99995887e-01 1.54618943e-32 3.37908084e-33 4.09650374e-06\n",
      "  9.94098468e-35 1.04493025e-20]\n",
      " [0.00000000e+00 9.99999940e-01 3.37744503e-18 1.26659417e-38\n",
      "  7.44220702e-38 0.00000000e+00 3.78632872e-32 9.53136003e-33\n",
      "  2.44704298e-26 0.00000000e+00]\n",
      " [0.00000000e+00 6.96613379e-18 0.00000000e+00 0.00000000e+00\n",
      "  1.00077166e-04 0.00000000e+00 0.00000000e+00 2.67169715e-24\n",
      "  1.45432586e-35 9.99899805e-01]\n",
      " [0.00000000e+00 1.56934218e-38 9.99999940e-01 2.09472692e-27\n",
      "  0.00000000e+00 2.42633524e-32 0.00000000e+00 2.70728749e-18\n",
      "  3.87039408e-28 8.65978361e-18]\n",
      " [0.00000000e+00 9.99999940e-01 5.41352033e-38 1.22762482e-31\n",
      "  0.00000000e+00 3.02350262e-35 1.70261517e-30 2.47538533e-35\n",
      "  4.54437030e-15 1.81388751e-26]\n",
      " [0.00000000e+00 0.00000000e+00 0.00000000e+00 9.99999940e-01\n",
      "  0.00000000e+00 0.00000000e+00 0.00000000e+00 0.00000000e+00\n",
      "  0.00000000e+00 0.00000000e+00]\n",
      " [0.00000000e+00 9.99999940e-01 6.62148725e-37 2.32472473e-29\n",
      "  2.61899355e-25 1.16721259e-20 4.12307772e-21 2.01625180e-23\n",
      "  2.43883719e-15 8.68957072e-17]\n",
      " [0.00000000e+00 0.00000000e+00 9.39865291e-22 0.00000000e+00\n",
      "  9.99999940e-01 6.82500735e-37 0.00000000e+00 8.51364404e-30\n",
      "  0.00000000e+00 0.00000000e+00]]\n",
      "157/157 [==============================] - 0s 1ms/step\n",
      "0.9632\n"
     ]
    }
   ],
   "source": [
    "preds = model.predict(tr_images)\n",
    "print(preds[:10])\n",
    "probs = model.predict_proba(tr_images)\n",
    "print(probs[:10])\n",
    "score = model.score(tr_images, tr_labels)\n",
    "print(score)"
   ]
  },
  {
   "cell_type": "markdown",
   "metadata": {
    "id": "brIMza3zMFOf"
   },
   "source": [
    "Y también podemos usar el modelo en un ``GridSearchCV``:"
   ]
  },
  {
   "cell_type": "code",
   "execution_count": 19,
   "metadata": {
    "colab": {
     "base_uri": "https://localhost:8080/"
    },
    "executionInfo": {
     "elapsed": 287599,
     "status": "ok",
     "timestamp": 1685099539579,
     "user": {
      "displayName": "Luis Lago",
      "userId": "15983579116795900663"
     },
     "user_tz": -120
    },
    "id": "DKAXqIFeuUFM",
    "outputId": "95784877-85b6-4f4c-c497-bb59e805e482"
   },
   "outputs": [
    {
     "name": "stdout",
     "output_type": "stream",
     "text": [
      "32/32 [==============================] - 0s 1ms/step\n",
      "32/32 [==============================] - 0s 1ms/step\n",
      "32/32 [==============================] - 0s 1ms/step\n",
      "32/32 [==============================] - 0s 1ms/step\n",
      "32/32 [==============================] - 0s 1ms/step\n",
      "32/32 [==============================] - 0s 1ms/step\n",
      "32/32 [==============================] - 0s 1ms/step\n",
      "32/32 [==============================] - 0s 2ms/step\n",
      "32/32 [==============================] - 0s 1ms/step\n",
      "32/32 [==============================] - 0s 1ms/step\n",
      "32/32 [==============================] - 0s 1ms/step\n",
      "32/32 [==============================] - 0s 1ms/step\n",
      "32/32 [==============================] - 0s 1ms/step\n",
      "32/32 [==============================] - 0s 1ms/step\n",
      "32/32 [==============================] - 0s 1ms/step\n",
      "32/32 [==============================] - 0s 2ms/step\n",
      "32/32 [==============================] - 0s 1ms/step\n",
      "32/32 [==============================] - 0s 1ms/step\n",
      "32/32 [==============================] - 0s 1ms/step\n",
      "32/32 [==============================] - 0s 2ms/step\n",
      "32/32 [==============================] - 0s 1ms/step\n",
      "32/32 [==============================] - 0s 1ms/step\n",
      "32/32 [==============================] - 0s 1ms/step\n",
      "32/32 [==============================] - 0s 1ms/step\n",
      "32/32 [==============================] - 0s 1ms/step\n",
      "32/32 [==============================] - 0s 1ms/step\n",
      "32/32 [==============================] - 0s 1ms/step\n",
      "32/32 [==============================] - 0s 2ms/step\n",
      "32/32 [==============================] - 0s 1ms/step\n",
      "32/32 [==============================] - 0s 3ms/step\n",
      "32/32 [==============================] - 0s 1ms/step\n",
      "32/32 [==============================] - 0s 2ms/step\n",
      "32/32 [==============================] - 0s 1ms/step\n",
      "32/32 [==============================] - 0s 1ms/step\n",
      "32/32 [==============================] - 0s 1ms/step\n",
      "32/32 [==============================] - 0s 2ms/step\n",
      "32/32 [==============================] - 0s 2ms/step\n",
      "32/32 [==============================] - 0s 1ms/step\n",
      "32/32 [==============================] - 0s 2ms/step\n",
      "32/32 [==============================] - 0s 1ms/step\n"
     ]
    }
   ],
   "source": [
    "parameters = {'nhidden': [32, 64], 'lreg': [1.0, 0.1, 0.01, 0.001], 'lrate': [0.001]}\n",
    "model = KerasClassifier(model=create_model, lreg=1.0, nhidden=50, lrate=0.001)\n",
    "\n",
    "gscv = GridSearchCV(estimator=model, param_grid=parameters, cv=5, scoring='accuracy')\n",
    "fitted_models = gscv.fit(tr_images, tr_labels, epochs=30, batch_size=50, verbose=0)"
   ]
  },
  {
   "cell_type": "markdown",
   "metadata": {
    "id": "PoiA7FUKOXg-"
   },
   "source": [
    "Resumen y mejores parámetros:"
   ]
  },
  {
   "cell_type": "code",
   "execution_count": 20,
   "metadata": {
    "colab": {
     "base_uri": "https://localhost:8080/"
    },
    "executionInfo": {
     "elapsed": 692,
     "status": "ok",
     "timestamp": 1685101152016,
     "user": {
      "displayName": "Luis Lago",
      "userId": "15983579116795900663"
     },
     "user_tz": -120
    },
    "id": "2DCFY_tqv7zQ",
    "outputId": "ae3bc793-1afe-4db1-9c19-47029fa9b525"
   },
   "outputs": [
    {
     "name": "stdout",
     "output_type": "stream",
     "text": [
      "Best: 0.909600 using {'lrate': 0.001, 'lreg': 0.01, 'nhidden': 64}\n",
      "0.886400 ± 0.017142 with: {'lrate': 0.001, 'lreg': 1.0, 'nhidden': 32}\n",
      "0.898000 ± 0.012681 with: {'lrate': 0.001, 'lreg': 1.0, 'nhidden': 64}\n",
      "0.895200 ± 0.006675 with: {'lrate': 0.001, 'lreg': 0.1, 'nhidden': 32}\n",
      "0.904200 ± 0.006969 with: {'lrate': 0.001, 'lreg': 0.1, 'nhidden': 64}\n",
      "0.895200 ± 0.007652 with: {'lrate': 0.001, 'lreg': 0.01, 'nhidden': 32}\n",
      "0.909600 ± 0.015525 with: {'lrate': 0.001, 'lreg': 0.01, 'nhidden': 64}\n",
      "0.893800 ± 0.014689 with: {'lrate': 0.001, 'lreg': 0.001, 'nhidden': 32}\n",
      "0.908400 ± 0.011569 with: {'lrate': 0.001, 'lreg': 0.001, 'nhidden': 64}\n"
     ]
    }
   ],
   "source": [
    "print(\"Best: %f using %s\" % (fitted_models.best_score_, fitted_models.best_params_))\n",
    "for params, mean_score, std_score in zip(fitted_models.cv_results_['params'], fitted_models.cv_results_['mean_test_score'], fitted_models.cv_results_['std_test_score']):\n",
    "    print(\"%f \\u00B1 %f with: %r\" % (mean_score, std_score, params))"
   ]
  },
  {
   "cell_type": "markdown",
   "metadata": {
    "id": "--1IlsU7AjkR"
   },
   "source": [
    "### Apéndice: checkpointing y early stopping en Keras.\n",
    "\n",
    "``ModelCheckpoint``: https://keras.io/api/callbacks/model_checkpoint/\n",
    "\n",
    "Es un callback que sirve para salvar un modelo de Keras durante el entrenamiento, cada cierto número de épocas."
   ]
  },
  {
   "cell_type": "code",
   "execution_count": 21,
   "metadata": {
    "colab": {
     "base_uri": "https://localhost:8080/"
    },
    "executionInfo": {
     "elapsed": 84999,
     "status": "ok",
     "timestamp": 1685101369516,
     "user": {
      "displayName": "Luis Lago",
      "userId": "15983579116795900663"
     },
     "user_tz": -120
    },
    "id": "5lohO4_DAoZa",
    "outputId": "38123ee0-a8ec-4f3e-b511-60f3b58c21d1"
   },
   "outputs": [
    {
     "name": "stdout",
     "output_type": "stream",
     "text": [
      "Epoch 1/20\n",
      "1194/1200 [============================>.] - ETA: 0s - loss: 4.0452 - acc: 0.9001"
     ]
    },
    {
     "name": "stderr",
     "output_type": "stream",
     "text": [
      "WARNING:absl:Found untraced functions such as _update_step_xla while saving (showing 1 of 1). These functions will not be directly callable after loading.\n"
     ]
    },
    {
     "name": "stdout",
     "output_type": "stream",
     "text": [
      "\b\b\b\b\b\b\b\b\b\b\b\b\b\b\b\b\b\b\b\b\b\b\b\b\b\b\b\b\b\b\b\b\b\b\b\b\b\b\b\b\b\b\b\b\b\b\b\b\b\b\b\b\b\b\b\b\b\b\b\b\b\b\b\b\b\b\b\b\b\b\b\b\b\b\b\b\b\b\b\b\b\r",
      "1200/1200 [==============================] - 6s 5ms/step - loss: 4.0366 - acc: 0.9002 - val_loss: 1.7823 - val_acc: 0.9369\n",
      "Epoch 2/20\n",
      "1199/1200 [============================>.] - ETA: 0s - loss: 1.0843 - acc: 0.9483"
     ]
    },
    {
     "name": "stderr",
     "output_type": "stream",
     "text": [
      "WARNING:absl:Found untraced functions such as _update_step_xla while saving (showing 1 of 1). These functions will not be directly callable after loading.\n"
     ]
    },
    {
     "name": "stdout",
     "output_type": "stream",
     "text": [
      "\b\b\b\b\b\b\b\b\b\b\b\b\b\b\b\b\b\b\b\b\b\b\b\b\b\b\b\b\b\b\b\b\b\b\b\b\b\b\b\b\b\b\b\b\b\b\b\b\b\b\b\b\b\b\b\b\b\b\b\b\b\b\b\b\b\b\b\b\b\b\b\b\b\b\b\b\b\b\b\b\b\r",
      "1200/1200 [==============================] - 4s 3ms/step - loss: 1.0835 - acc: 0.9483 - val_loss: 1.0985 - val_acc: 0.9477\n",
      "Epoch 3/20\n",
      "1186/1200 [============================>.] - ETA: 0s - loss: 0.6374 - acc: 0.9592"
     ]
    },
    {
     "name": "stderr",
     "output_type": "stream",
     "text": [
      "WARNING:absl:Found untraced functions such as _update_step_xla while saving (showing 1 of 1). These functions will not be directly callable after loading.\n"
     ]
    },
    {
     "name": "stdout",
     "output_type": "stream",
     "text": [
      "\b\b\b\b\b\b\b\b\b\b\b\b\b\b\b\b\b\b\b\b\b\b\b\b\b\b\b\b\b\b\b\b\b\b\b\b\b\b\b\b\b\b\b\b\b\b\b\b\b\b\b\b\b\b\b\b\b\b\b\b\b\b\b\b\b\b\b\b\b\b\b\b\b\b\b\b\b\b\b\b\b\r",
      "1200/1200 [==============================] - 4s 3ms/step - loss: 0.6347 - acc: 0.9593 - val_loss: 0.9736 - val_acc: 0.9466\n",
      "Epoch 4/20\n",
      "1189/1200 [============================>.] - ETA: 0s - loss: 0.4434 - acc: 0.9649"
     ]
    },
    {
     "name": "stderr",
     "output_type": "stream",
     "text": [
      "WARNING:absl:Found untraced functions such as _update_step_xla while saving (showing 1 of 1). These functions will not be directly callable after loading.\n"
     ]
    },
    {
     "name": "stdout",
     "output_type": "stream",
     "text": [
      "\b\b\b\b\b\b\b\b\b\b\b\b\b\b\b\b\b\b\b\b\b\b\b\b\b\b\b\b\b\b\b\b\b\b\b\b\b\b\b\b\b\b\b\b\b\b\b\b\b\b\b\b\b\b\b\b\b\b\b\b\b\b\b\b\b\b\b\b\b\b\b\b\b\b\b\b\b\b\b\b\b\r",
      "1200/1200 [==============================] - 5s 4ms/step - loss: 0.4436 - acc: 0.9650 - val_loss: 0.8228 - val_acc: 0.9526\n",
      "Epoch 5/20\n",
      "1183/1200 [============================>.] - ETA: 0s - loss: 0.3223 - acc: 0.9702"
     ]
    },
    {
     "name": "stderr",
     "output_type": "stream",
     "text": [
      "WARNING:absl:Found untraced functions such as _update_step_xla while saving (showing 1 of 1). These functions will not be directly callable after loading.\n"
     ]
    },
    {
     "name": "stdout",
     "output_type": "stream",
     "text": [
      "\b\b\b\b\b\b\b\b\b\b\b\b\b\b\b\b\b\b\b\b\b\b\b\b\b\b\b\b\b\b\b\b\b\b\b\b\b\b\b\b\b\b\b\b\b\b\b\b\b\b\b\b\b\b\b\b\b\b\b\b\b\b\b\b\b\b\b\b\b\b\b\b\b\b\b\b\b\b\b\b\b\r",
      "1200/1200 [==============================] - 4s 3ms/step - loss: 0.3238 - acc: 0.9701 - val_loss: 0.6946 - val_acc: 0.9546\n",
      "Epoch 6/20\n",
      "1192/1200 [============================>.] - ETA: 0s - loss: 0.2535 - acc: 0.9731"
     ]
    },
    {
     "name": "stderr",
     "output_type": "stream",
     "text": [
      "WARNING:absl:Found untraced functions such as _update_step_xla while saving (showing 1 of 1). These functions will not be directly callable after loading.\n"
     ]
    },
    {
     "name": "stdout",
     "output_type": "stream",
     "text": [
      "\b\b\b\b\b\b\b\b\b\b\b\b\b\b\b\b\b\b\b\b\b\b\b\b\b\b\b\b\b\b\b\b\b\b\b\b\b\b\b\b\b\b\b\b\b\b\b\b\b\b\b\b\b\b\b\b\b\b\b\b\b\b\b\b\b\b\b\b\b\b\b\b\b\b\b\b\b\b\b\b\b\r",
      "1200/1200 [==============================] - 4s 3ms/step - loss: 0.2542 - acc: 0.9730 - val_loss: 0.6527 - val_acc: 0.9562\n",
      "Epoch 7/20\n",
      "1196/1200 [============================>.] - ETA: 0s - loss: 0.1957 - acc: 0.9767"
     ]
    },
    {
     "name": "stderr",
     "output_type": "stream",
     "text": [
      "WARNING:absl:Found untraced functions such as _update_step_xla while saving (showing 1 of 1). These functions will not be directly callable after loading.\n"
     ]
    },
    {
     "name": "stdout",
     "output_type": "stream",
     "text": [
      "\b\b\b\b\b\b\b\b\b\b\b\b\b\b\b\b\b\b\b\b\b\b\b\b\b\b\b\b\b\b\b\b\b\b\b\b\b\b\b\b\b\b\b\b\b\b\b\b\b\b\b\b\b\b\b\b\b\b\b\b\b\b\b\b\b\b\b\b\b\b\b\b\b\b\b\b\b\b\b\b\b\r",
      "1200/1200 [==============================] - 4s 4ms/step - loss: 0.1954 - acc: 0.9767 - val_loss: 0.6365 - val_acc: 0.9567\n",
      "Epoch 8/20\n",
      "1198/1200 [============================>.] - ETA: 0s - loss: 0.1631 - acc: 0.9795"
     ]
    },
    {
     "name": "stderr",
     "output_type": "stream",
     "text": [
      "WARNING:absl:Found untraced functions such as _update_step_xla while saving (showing 1 of 1). These functions will not be directly callable after loading.\n"
     ]
    },
    {
     "name": "stdout",
     "output_type": "stream",
     "text": [
      "\b\b\b\b\b\b\b\b\b\b\b\b\b\b\b\b\b\b\b\b\b\b\b\b\b\b\b\b\b\b\b\b\b\b\b\b\b\b\b\b\b\b\b\b\b\b\b\b\b\b\b\b\b\b\b\b\b\b\b\b\b\b\b\b\b\b\b\b\b\b\b\b\b\b\b\b\b\b\b\b\b\r",
      "1200/1200 [==============================] - 4s 3ms/step - loss: 0.1635 - acc: 0.9794 - val_loss: 0.6391 - val_acc: 0.9607\n",
      "Epoch 9/20\n",
      "1191/1200 [============================>.] - ETA: 0s - loss: 0.1422 - acc: 0.9811"
     ]
    },
    {
     "name": "stderr",
     "output_type": "stream",
     "text": [
      "WARNING:absl:Found untraced functions such as _update_step_xla while saving (showing 1 of 1). These functions will not be directly callable after loading.\n"
     ]
    },
    {
     "name": "stdout",
     "output_type": "stream",
     "text": [
      "\b\b\b\b\b\b\b\b\b\b\b\b\b\b\b\b\b\b\b\b\b\b\b\b\b\b\b\b\b\b\b\b\b\b\b\b\b\b\b\b\b\b\b\b\b\b\b\b\b\b\b\b\b\b\b\b\b\b\b\b\b\b\b\b\b\b\b\b\b\b\b\b\b\b\b\b\b\b\b\b\b\r",
      "1200/1200 [==============================] - 4s 3ms/step - loss: 0.1427 - acc: 0.9811 - val_loss: 0.6278 - val_acc: 0.9576\n",
      "Epoch 10/20\n",
      "1192/1200 [============================>.] - ETA: 0s - loss: 0.1175 - acc: 0.9825"
     ]
    },
    {
     "name": "stderr",
     "output_type": "stream",
     "text": [
      "WARNING:absl:Found untraced functions such as _update_step_xla while saving (showing 1 of 1). These functions will not be directly callable after loading.\n"
     ]
    },
    {
     "name": "stdout",
     "output_type": "stream",
     "text": [
      "\b\b\b\b\b\b\b\b\b\b\b\b\b\b\b\b\b\b\b\b\b\b\b\b\b\b\b\b\b\b\b\b\b\b\b\b\b\b\b\b\b\b\b\b\b\b\b\b\b\b\b\b\b\b\b\b\b\b\b\b\b\b\b\b\b\b\b\b\b\b\b\b\b\b\b\b\b\b\b\b\b\r",
      "1200/1200 [==============================] - 4s 4ms/step - loss: 0.1182 - acc: 0.9824 - val_loss: 0.6344 - val_acc: 0.9581\n",
      "Epoch 11/20\n",
      "1186/1200 [============================>.] - ETA: 0s - loss: 0.0998 - acc: 0.9844"
     ]
    },
    {
     "name": "stderr",
     "output_type": "stream",
     "text": [
      "WARNING:absl:Found untraced functions such as _update_step_xla while saving (showing 1 of 1). These functions will not be directly callable after loading.\n"
     ]
    },
    {
     "name": "stdout",
     "output_type": "stream",
     "text": [
      "\b\b\b\b\b\b\b\b\b\b\b\b\b\b\b\b\b\b\b\b\b\b\b\b\b\b\b\b\b\b\b\b\b\b\b\b\b\b\b\b\b\b\b\b\b\b\b\b\b\b\b\b\b\b\b\b\b\b\b\b\b\b\b\b\b\b\b\b\b\b\b\b\b\b\b\b\b\b\b\b\b\r",
      "1200/1200 [==============================] - 4s 3ms/step - loss: 0.1003 - acc: 0.9844 - val_loss: 0.6395 - val_acc: 0.9593\n",
      "Epoch 12/20\n",
      "1185/1200 [============================>.] - ETA: 0s - loss: 0.0799 - acc: 0.9866"
     ]
    },
    {
     "name": "stderr",
     "output_type": "stream",
     "text": [
      "WARNING:absl:Found untraced functions such as _update_step_xla while saving (showing 1 of 1). These functions will not be directly callable after loading.\n"
     ]
    },
    {
     "name": "stdout",
     "output_type": "stream",
     "text": [
      "\b\b\b\b\b\b\b\b\b\b\b\b\b\b\b\b\b\b\b\b\b\b\b\b\b\b\b\b\b\b\b\b\b\b\b\b\b\b\b\b\b\b\b\b\b\b\b\b\b\b\b\b\b\b\b\b\b\b\b\b\b\b\b\b\b\b\b\b\b\b\b\b\b\b\b\b\b\b\b\b\b\r",
      "1200/1200 [==============================] - 4s 3ms/step - loss: 0.0801 - acc: 0.9866 - val_loss: 0.6144 - val_acc: 0.9586\n",
      "Epoch 13/20\n",
      "1196/1200 [============================>.] - ETA: 0s - loss: 0.0685 - acc: 0.9880"
     ]
    },
    {
     "name": "stderr",
     "output_type": "stream",
     "text": [
      "WARNING:absl:Found untraced functions such as _update_step_xla while saving (showing 1 of 1). These functions will not be directly callable after loading.\n"
     ]
    },
    {
     "name": "stdout",
     "output_type": "stream",
     "text": [
      "\b\b\b\b\b\b\b\b\b\b\b\b\b\b\b\b\b\b\b\b\b\b\b\b\b\b\b\b\b\b\b\b\b\b\b\b\b\b\b\b\b\b\b\b\b\b\b\b\b\b\b\b\b\b\b\b\b\b\b\b\b\b\b\b\b\b\b\b\b\b\b\b\b\b\b\b\b\b\b\b\b\r",
      "1200/1200 [==============================] - 4s 3ms/step - loss: 0.0687 - acc: 0.9880 - val_loss: 0.6668 - val_acc: 0.9581\n",
      "Epoch 14/20\n",
      "1192/1200 [============================>.] - ETA: 0s - loss: 0.0598 - acc: 0.9893"
     ]
    },
    {
     "name": "stderr",
     "output_type": "stream",
     "text": [
      "WARNING:absl:Found untraced functions such as _update_step_xla while saving (showing 1 of 1). These functions will not be directly callable after loading.\n"
     ]
    },
    {
     "name": "stdout",
     "output_type": "stream",
     "text": [
      "\b\b\b\b\b\b\b\b\b\b\b\b\b\b\b\b\b\b\b\b\b\b\b\b\b\b\b\b\b\b\b\b\b\b\b\b\b\b\b\b\b\b\b\b\b\b\b\b\b\b\b\b\b\b\b\b\b\b\b\b\b\b\b\b\b\b\b\b\b\b\b\b\b\b\b\b\b\b\b\b\b\r",
      "1200/1200 [==============================] - 4s 4ms/step - loss: 0.0598 - acc: 0.9893 - val_loss: 0.6514 - val_acc: 0.9561\n",
      "Epoch 15/20\n",
      "1197/1200 [============================>.] - ETA: 0s - loss: 0.0539 - acc: 0.9893"
     ]
    },
    {
     "name": "stderr",
     "output_type": "stream",
     "text": [
      "WARNING:absl:Found untraced functions such as _update_step_xla while saving (showing 1 of 1). These functions will not be directly callable after loading.\n"
     ]
    },
    {
     "name": "stdout",
     "output_type": "stream",
     "text": [
      "\b\b\b\b\b\b\b\b\b\b\b\b\b\b\b\b\b\b\b\b\b\b\b\b\b\b\b\b\b\b\b\b\b\b\b\b\b\b\b\b\b\b\b\b\b\b\b\b\b\b\b\b\b\b\b\b\b\b\b\b\b\b\b\b\b\b\b\b\b\b\b\b\b\b\b\b\b\b\b\b\b\r",
      "1200/1200 [==============================] - 4s 3ms/step - loss: 0.0538 - acc: 0.9893 - val_loss: 0.6154 - val_acc: 0.9601\n",
      "Epoch 16/20\n",
      "1199/1200 [============================>.] - ETA: 0s - loss: 0.0408 - acc: 0.9911"
     ]
    },
    {
     "name": "stderr",
     "output_type": "stream",
     "text": [
      "WARNING:absl:Found untraced functions such as _update_step_xla while saving (showing 1 of 1). These functions will not be directly callable after loading.\n"
     ]
    },
    {
     "name": "stdout",
     "output_type": "stream",
     "text": [
      "\b\b\b\b\b\b\b\b\b\b\b\b\b\b\b\b\b\b\b\b\b\b\b\b\b\b\b\b\b\b\b\b\b\b\b\b\b\b\b\b\b\b\b\b\b\b\b\b\b\b\b\b\b\b\b\b\b\b\b\b\b\b\b\b\b\b\b\b\b\b\b\b\b\b\b\b\b\b\b\b\b\r",
      "1200/1200 [==============================] - 4s 3ms/step - loss: 0.0408 - acc: 0.9912 - val_loss: 0.5839 - val_acc: 0.9605\n",
      "Epoch 17/20\n",
      "1188/1200 [============================>.] - ETA: 0s - loss: 0.0444 - acc: 0.9912"
     ]
    },
    {
     "name": "stderr",
     "output_type": "stream",
     "text": [
      "WARNING:absl:Found untraced functions such as _update_step_xla while saving (showing 1 of 1). These functions will not be directly callable after loading.\n"
     ]
    },
    {
     "name": "stdout",
     "output_type": "stream",
     "text": [
      "\b\b\b\b\b\b\b\b\b\b\b\b\b\b\b\b\b\b\b\b\b\b\b\b\b\b\b\b\b\b\b\b\b\b\b\b\b\b\b\b\b\b\b\b\b\b\b\b\b\b\b\b\b\b\b\b\b\b\b\b\b\b\b\b\b\b\b\b\b\b\b\b\b\b\b\b\b\b\b\b\b\r",
      "1200/1200 [==============================] - 5s 4ms/step - loss: 0.0442 - acc: 0.9912 - val_loss: 0.6239 - val_acc: 0.9595\n",
      "Epoch 18/20\n",
      "1191/1200 [============================>.] - ETA: 0s - loss: 0.0277 - acc: 0.9937"
     ]
    },
    {
     "name": "stderr",
     "output_type": "stream",
     "text": [
      "WARNING:absl:Found untraced functions such as _update_step_xla while saving (showing 1 of 1). These functions will not be directly callable after loading.\n"
     ]
    },
    {
     "name": "stdout",
     "output_type": "stream",
     "text": [
      "\b\b\b\b\b\b\b\b\b\b\b\b\b\b\b\b\b\b\b\b\b\b\b\b\b\b\b\b\b\b\b\b\b\b\b\b\b\b\b\b\b\b\b\b\b\b\b\b\b\b\b\b\b\b\b\b\b\b\b\b\b\b\b\b\b\b\b\b\b\b\b\b\b\b\b\b\b\b\b\b\b\r",
      "1200/1200 [==============================] - 4s 3ms/step - loss: 0.0282 - acc: 0.9936 - val_loss: 0.6191 - val_acc: 0.9610\n",
      "Epoch 19/20\n",
      "1190/1200 [============================>.] - ETA: 0s - loss: 0.0198 - acc: 0.9949"
     ]
    },
    {
     "name": "stderr",
     "output_type": "stream",
     "text": [
      "WARNING:absl:Found untraced functions such as _update_step_xla while saving (showing 1 of 1). These functions will not be directly callable after loading.\n"
     ]
    },
    {
     "name": "stdout",
     "output_type": "stream",
     "text": [
      "\b\b\b\b\b\b\b\b\b\b\b\b\b\b\b\b\b\b\b\b\b\b\b\b\b\b\b\b\b\b\b\b\b\b\b\b\b\b\b\b\b\b\b\b\b\b\b\b\b\b\b\b\b\b\b\b\b\b\b\b\b\b\b\b\b\b\b\b\b\b\b\b\b\b\b\b\b\b\b\b\b\r",
      "1200/1200 [==============================] - 4s 3ms/step - loss: 0.0198 - acc: 0.9949 - val_loss: 0.6158 - val_acc: 0.9626\n",
      "Epoch 20/20\n",
      "1188/1200 [============================>.] - ETA: 0s - loss: 0.0198 - acc: 0.9954"
     ]
    },
    {
     "name": "stderr",
     "output_type": "stream",
     "text": [
      "WARNING:absl:Found untraced functions such as _update_step_xla while saving (showing 1 of 1). These functions will not be directly callable after loading.\n"
     ]
    },
    {
     "name": "stdout",
     "output_type": "stream",
     "text": [
      "\b\b\b\b\b\b\b\b\b\b\b\b\b\b\b\b\b\b\b\b\b\b\b\b\b\b\b\b\b\b\b\b\b\b\b\b\b\b\b\b\b\b\b\b\b\b\b\b\b\b\b\b\b\b\b\b\b\b\b\b\b\b\b\b\b\b\b\b\b\b\b\b\b\b\b\b\b\b\b\b\b\r",
      "1200/1200 [==============================] - 5s 4ms/step - loss: 0.0202 - acc: 0.9952 - val_loss: 0.6069 - val_acc: 0.9604\n"
     ]
    }
   ],
   "source": [
    "# Modelo:\n",
    "model = keras.Sequential()\n",
    "model.add(keras.layers.Flatten(input_shape=(28, 28), name=\"entrada\"))\n",
    "model.add(keras.layers.Dense(64, activation=\"relu\", name=\"oculta\"))\n",
    "model.add(keras.layers.Dense(10, activation=\"softmax\", name=\"salida\"))\n",
    "\n",
    "# Compile:\n",
    "opt = keras.optimizers.SGD(learning_rate=0.001)\n",
    "model.compile(optimizer=opt, loss='sparse_categorical_crossentropy', metrics=['acc'])\n",
    "\n",
    "# Callback a TensorBoard:\n",
    "cb1 = keras.callbacks.TensorBoard(log_dir='logs/prueba', histogram_freq=1, write_images=True)\n",
    "cb2 = keras.callbacks.ModelCheckpoint('logs/my_checkpoints.{epoch:02d}-{val_loss:.2f}', monitor=\"val_loss\")\n",
    "callbacks = [cb1, cb2]\n",
    "\n",
    "# Entrenamiento del modelo:\n",
    "history = model.fit(train_images, \n",
    "                    train_labels, \n",
    "                    epochs=20, \n",
    "                    validation_data=(test_images, test_labels),\n",
    "                    batch_size=50,\n",
    "                    callbacks=callbacks)"
   ]
  },
  {
   "cell_type": "code",
   "execution_count": 22,
   "metadata": {
    "colab": {
     "base_uri": "https://localhost:8080/"
    },
    "executionInfo": {
     "elapsed": 4827,
     "status": "ok",
     "timestamp": 1685101416009,
     "user": {
      "displayName": "Luis Lago",
      "userId": "15983579116795900663"
     },
     "user_tz": -120
    },
    "id": "hRSB-hb1Csjg",
    "outputId": "d90ab004-66df-467f-9d6c-46c6d64b41f2"
   },
   "outputs": [
    {
     "name": "stdout",
     "output_type": "stream",
     "text": [
      "Model: \"sequential_88\"\n",
      "_________________________________________________________________\n",
      " Layer (type)                Output Shape              Param #   \n",
      "=================================================================\n",
      " entrada (Flatten)           (None, 784)               0         \n",
      "                                                                 \n",
      " oculta (Dense)              (None, 64)                50240     \n",
      "                                                                 \n",
      " salida (Dense)              (None, 10)                650       \n",
      "                                                                 \n",
      "=================================================================\n",
      "Total params: 50,890\n",
      "Trainable params: 50,890\n",
      "Non-trainable params: 0\n",
      "_________________________________________________________________\n",
      "313/313 [==============================] - 3s 6ms/step - loss: 0.5839 - acc: 0.9605\n",
      "Loss on test set = 0.583920\n",
      "Accuracy on test set = 0.960500\n"
     ]
    }
   ],
   "source": [
    "loaded_model = keras.models.load_model('logs/my_checkpoints.16-0.58')\n",
    "loaded_model.summary()\n",
    "loss_test, acc_test = loaded_model.evaluate(test_images, test_labels)\n",
    "print(\"Loss on test set = %f\" % (loss_test))\n",
    "print(\"Accuracy on test set = %f\" % (acc_test))"
   ]
  },
  {
   "cell_type": "markdown",
   "metadata": {
    "id": "JCEGx2z6Es0O"
   },
   "source": [
    "``EarlyStopping``: https://keras.io/api/callbacks/early_stopping/\n",
    "\n",
    "Es un callback que sirve para interrumpir el entrenamiento cuando la métrica observada deja de mejorar.\n"
   ]
  },
  {
   "cell_type": "code",
   "execution_count": 23,
   "metadata": {
    "colab": {
     "base_uri": "https://localhost:8080/"
    },
    "executionInfo": {
     "elapsed": 24931,
     "status": "ok",
     "timestamp": 1685101454651,
     "user": {
      "displayName": "Luis Lago",
      "userId": "15983579116795900663"
     },
     "user_tz": -120
    },
    "id": "1I2Xgf-DEDOe",
    "outputId": "3dc37474-8a6b-4f4d-a7e5-dfcf90c9f640"
   },
   "outputs": [
    {
     "name": "stdout",
     "output_type": "stream",
     "text": [
      "Epoch 1/100\n",
      "1200/1200 [==============================] - 6s 4ms/step - loss: 3.9327 - acc: 0.9020 - val_loss: 1.4331 - val_acc: 0.9411\n",
      "Epoch 2/100\n",
      "1200/1200 [==============================] - 4s 4ms/step - loss: 1.0551 - acc: 0.9476 - val_loss: 0.9848 - val_acc: 0.9433\n",
      "Epoch 3/100\n",
      "1200/1200 [==============================] - 3s 3ms/step - loss: 0.6105 - acc: 0.9584 - val_loss: 0.7982 - val_acc: 0.9499\n",
      "Epoch 4/100\n",
      "1200/1200 [==============================] - 3s 3ms/step - loss: 0.4166 - acc: 0.9642 - val_loss: 0.6643 - val_acc: 0.9542\n",
      "Epoch 5/100\n",
      "1200/1200 [==============================] - 4s 3ms/step - loss: 0.3082 - acc: 0.9687 - val_loss: 0.6675 - val_acc: 0.9518\n",
      "Epoch 6/100\n",
      "1200/1200 [==============================] - 4s 3ms/step - loss: 0.2367 - acc: 0.9729 - val_loss: 0.6156 - val_acc: 0.9542\n"
     ]
    }
   ],
   "source": [
    "# Modelo:\n",
    "model = keras.Sequential()\n",
    "model.add(keras.layers.Flatten(input_shape=(28, 28), name=\"entrada\"))\n",
    "model.add(keras.layers.Dense(64, activation=\"relu\", name=\"oculta\"))\n",
    "model.add(keras.layers.Dense(10, activation=\"softmax\", name=\"salida\"))\n",
    "\n",
    "# Compile:\n",
    "opt = keras.optimizers.SGD(learning_rate=0.001)\n",
    "model.compile(optimizer=opt, loss='sparse_categorical_crossentropy', metrics=['acc'])\n",
    "\n",
    "# Callback a TensorBoard:\n",
    "cb1 = keras.callbacks.TensorBoard(log_dir='logs/prueba', histogram_freq=1, write_images=True)\n",
    "cb2 = tf.keras.callbacks.EarlyStopping(monitor=\"val_acc\", patience=2)\n",
    "callbacks = [cb1, cb2]\n",
    "\n",
    "# Entrenamiento del modelo:\n",
    "history = model.fit(train_images, \n",
    "                    train_labels, \n",
    "                    epochs=100, \n",
    "                    validation_data=(test_images, test_labels),\n",
    "                    batch_size=50,\n",
    "                    callbacks=callbacks)"
   ]
  },
  {
   "cell_type": "code",
   "execution_count": null,
   "metadata": {
    "id": "phB4fYnx30Aa"
   },
   "outputs": [],
   "source": []
  }
 ],
 "metadata": {
  "colab": {
   "provenance": [
    {
     "file_id": "1txeUcGDJYS7MJHJaHQDVs83WJk8s_-EK",
     "timestamp": 1595000356611
    }
   ]
  },
  "kernelspec": {
   "display_name": "Python 3 (ipykernel)",
   "language": "python",
   "name": "python3"
  },
  "language_info": {
   "codemirror_mode": {
    "name": "ipython",
    "version": 3
   },
   "file_extension": ".py",
   "mimetype": "text/x-python",
   "name": "python",
   "nbconvert_exporter": "python",
   "pygments_lexer": "ipython3",
   "version": "3.11.5"
  }
 },
 "nbformat": 4,
 "nbformat_minor": 1
}
