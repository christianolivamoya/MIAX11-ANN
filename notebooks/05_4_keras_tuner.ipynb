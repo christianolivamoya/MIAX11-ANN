{
 "cells": [
  {
   "cell_type": "markdown",
   "metadata": {
    "id": "FSJH2HrzcRtl"
   },
   "source": [
    "### Keras Tuner con el problema MNIST\n",
    "\n",
    "Keras Tuner es una librería bastante reciente que simplifica en gran medida el ajuste de los hiperparámetros de una red neuronal. Toda la documentación en este enlace:\n",
    "\n",
    "https://keras-team.github.io/keras-tuner/"
   ]
  },
  {
   "cell_type": "code",
   "execution_count": 1,
   "metadata": {
    "colab": {
     "base_uri": "https://localhost:8080/"
    },
    "executionInfo": {
     "elapsed": 21261,
     "status": "ok",
     "timestamp": 1685101608969,
     "user": {
      "displayName": "Luis Lago",
      "userId": "15983579116795900663"
     },
     "user_tz": -120
    },
    "id": "frKu1s3FcYRE",
    "outputId": "c1732a7c-92a8-48ee-8f2e-2fcf4ba62e64"
   },
   "outputs": [
    {
     "name": "stdout",
     "output_type": "stream",
     "text": [
      "\u001b[?25l     \u001b[90m━━━━━━━━━━━━━━━━━━━━━━━━━━━━━━━━━━━━━━━━\u001b[0m \u001b[32m0.0/176.1 kB\u001b[0m \u001b[31m?\u001b[0m eta \u001b[36m-:--:--\u001b[0m\r",
      "\u001b[2K     \u001b[91m━━━━━━━━━━━━━━━━━━━━━━━━━━━━━━━━━━━━━━\u001b[0m\u001b[91m╸\u001b[0m \u001b[32m174.1/176.1 kB\u001b[0m \u001b[31m9.5 MB/s\u001b[0m eta \u001b[36m0:00:01\u001b[0m\r",
      "\u001b[2K     \u001b[90m━━━━━━━━━━━━━━━━━━━━━━━━━━━━━━━━━━━━━━━\u001b[0m \u001b[32m176.1/176.1 kB\u001b[0m \u001b[31m4.4 MB/s\u001b[0m eta \u001b[36m0:00:00\u001b[0m\n",
      "\u001b[?25h"
     ]
    },
    {
     "name": "stderr",
     "output_type": "stream",
     "text": [
      "<ipython-input-1-5d7b6944a6ac>:2: DeprecationWarning: `import kerastuner` is deprecated, please use `import keras_tuner`.\n",
      "  import kerastuner as kt\n"
     ]
    }
   ],
   "source": [
    "!pip install -q -U keras-tuner\n",
    "import kerastuner as kt"
   ]
  },
  {
   "cell_type": "markdown",
   "metadata": {
    "id": "xGFO0vTCc8ki"
   },
   "source": [
    "Carga de los datos:"
   ]
  },
  {
   "cell_type": "code",
   "execution_count": 2,
   "metadata": {
    "executionInfo": {
     "elapsed": 13,
     "status": "ok",
     "timestamp": 1685101608969,
     "user": {
      "displayName": "Luis Lago",
      "userId": "15983579116795900663"
     },
     "user_tz": -120
    },
    "id": "vjbwVPiUdEJB"
   },
   "outputs": [],
   "source": [
    "import tensorflow as tf\n",
    "from tensorflow import keras\n",
    "\n",
    "import numpy as np\n",
    "import matplotlib.pyplot as plt\n",
    "from time import time\n",
    "import shutil"
   ]
  },
  {
   "cell_type": "code",
   "execution_count": 3,
   "metadata": {
    "colab": {
     "base_uri": "https://localhost:8080/"
    },
    "executionInfo": {
     "elapsed": 992,
     "status": "ok",
     "timestamp": 1685101609950,
     "user": {
      "displayName": "Luis Lago",
      "userId": "15983579116795900663"
     },
     "user_tz": -120
    },
    "id": "Nzz8BdOUcbne",
    "outputId": "8ce16223-bb29-47fd-8098-c23bc5a7cd61"
   },
   "outputs": [
    {
     "name": "stdout",
     "output_type": "stream",
     "text": [
      "Downloading data from https://storage.googleapis.com/tensorflow/tf-keras-datasets/mnist.npz\n",
      "11490434/11490434 [==============================] - 0s 0us/step\n"
     ]
    }
   ],
   "source": [
    "(img_train, label_train), (img_test, label_test) = keras.datasets.mnist.load_data()"
   ]
  },
  {
   "cell_type": "markdown",
   "metadata": {
    "id": "2n5UXqbddNQs"
   },
   "source": [
    "Normalización:"
   ]
  },
  {
   "cell_type": "code",
   "execution_count": 4,
   "metadata": {
    "executionInfo": {
     "elapsed": 8,
     "status": "ok",
     "timestamp": 1685101616198,
     "user": {
      "displayName": "Luis Lago",
      "userId": "15983579116795900663"
     },
     "user_tz": -120
    },
    "id": "IQoq8ktJc-3h"
   },
   "outputs": [],
   "source": [
    "img_train = img_train.astype('float32') / 255.0\n",
    "img_test = img_test.astype('float32') / 255.0"
   ]
  },
  {
   "cell_type": "markdown",
   "metadata": {
    "id": "rPWPjsHHdVz_"
   },
   "source": [
    "Lo primero que hay que hacer es definir un hipermodelo, que es una función que genera un modelo de Keras que depende de unos hiperparámetros con los que vamos a jugar. Los hiperparámetros se muestrean a partir del argumento ``hp`` de la función.\n",
    "\n",
    "En este ejemplo sólo vamos a ajustar la constante de regularización de la capa oculta:"
   ]
  },
  {
   "cell_type": "code",
   "execution_count": 5,
   "metadata": {
    "executionInfo": {
     "elapsed": 7,
     "status": "ok",
     "timestamp": 1685101616705,
     "user": {
      "displayName": "Luis Lago",
      "userId": "15983579116795900663"
     },
     "user_tz": -120
    },
    "id": "f5IC7NNWdPl7"
   },
   "outputs": [],
   "source": [
    "def model_builder(hp):\n",
    "  hp_lambda = hp.Choice('lambda', values = [1.0, 0.1, 0.01, 0.001, 0.0001]) \n",
    "  hp_lr = hp.Choice('lr', values = [1.0, 0.1, 0.01, 0.001, 0.0001]) \n",
    "  \n",
    "  model = keras.Sequential()\n",
    "  model.add(keras.layers.Flatten(input_shape=(28, 28)))\n",
    "  model.add(keras.layers.Dense(units = 50, activation = 'relu', kernel_regularizer=keras.regularizers.l2(hp_lambda)))\n",
    "  model.add(keras.layers.Dense(10, activation=\"softmax\"))\n",
    "\n",
    "  model.compile(optimizer=keras.optimizers.Adam(learning_rate=hp_lr), \n",
    "                loss='sparse_categorical_crossentropy',\n",
    "                metrics=['acc'])    \n",
    "  \n",
    "  return model"
   ]
  },
  {
   "cell_type": "markdown",
   "metadata": {
    "id": "cuDc21Ywiw54"
   },
   "source": [
    "Borramos el directorio de logs:"
   ]
  },
  {
   "cell_type": "code",
   "execution_count": 6,
   "metadata": {
    "executionInfo": {
     "elapsed": 10,
     "status": "ok",
     "timestamp": 1685101618252,
     "user": {
      "displayName": "Luis Lago",
      "userId": "15983579116795900663"
     },
     "user_tz": -120
    },
    "id": "7DZu0e-ODexK"
   },
   "outputs": [],
   "source": [
    "!rm -rf my_dir/intro_to_kt/"
   ]
  },
  {
   "cell_type": "markdown",
   "metadata": {
    "id": "tpih_C7gfIfs"
   },
   "source": [
    "Lo siguiente es crear un ``tuner`` para hacer el ajuste de los hiperparámetros. Existen distintos tipos:\n",
    "\n",
    "- RandomSearch\n",
    "- Hyperband\n",
    "- BayesianOptimization\n",
    "- Sklearn\n",
    "\n",
    "Lo más fácil es hacer una búsqueda aleatoria con ``RandomSearch``. Al crear el ``tuner`` hay que especificar:\n",
    "\n",
    "- El hipermodelo.\n",
    "- La variable a optimizar.\n",
    "- El número total de pruebas.\n",
    "- El número de ejecuciones por prueba."
   ]
  },
  {
   "cell_type": "code",
   "execution_count": 7,
   "metadata": {
    "executionInfo": {
     "elapsed": 414,
     "status": "ok",
     "timestamp": 1685101620683,
     "user": {
      "displayName": "Luis Lago",
      "userId": "15983579116795900663"
     },
     "user_tz": -120
    },
    "id": "-Ro9f8hEhjMP"
   },
   "outputs": [],
   "source": [
    "tuner = kt.RandomSearch(model_builder, \n",
    "                        objective='val_acc',\n",
    "                        max_trials=10,\n",
    "                        executions_per_trial=3,\n",
    "                        directory='my_dir',\n",
    "                        project_name='intro_to_kt')"
   ]
  },
  {
   "cell_type": "markdown",
   "metadata": {
    "id": "x_3DHrn5jFad"
   },
   "source": [
    "Un resumen del espacio de búsqueda:"
   ]
  },
  {
   "cell_type": "code",
   "execution_count": 8,
   "metadata": {
    "colab": {
     "base_uri": "https://localhost:8080/"
    },
    "executionInfo": {
     "elapsed": 7,
     "status": "ok",
     "timestamp": 1685101620986,
     "user": {
      "displayName": "Luis Lago",
      "userId": "15983579116795900663"
     },
     "user_tz": -120
    },
    "id": "xrhSs7GfiGMa",
    "outputId": "d998986f-957f-4885-bdba-7b1532fee971"
   },
   "outputs": [
    {
     "name": "stdout",
     "output_type": "stream",
     "text": [
      "Search space summary\n",
      "Default search space size: 2\n",
      "lambda (Choice)\n",
      "{'default': 1.0, 'conditions': [], 'values': [1.0, 0.1, 0.01, 0.001, 0.0001], 'ordered': True}\n",
      "lr (Choice)\n",
      "{'default': 1.0, 'conditions': [], 'values': [1.0, 0.1, 0.01, 0.001, 0.0001], 'ordered': True}\n"
     ]
    }
   ],
   "source": [
    "tuner.search_space_summary()"
   ]
  },
  {
   "cell_type": "markdown",
   "metadata": {
    "id": "YkzNlblxjKip"
   },
   "source": [
    "Y lanzamos la búsqueda:"
   ]
  },
  {
   "cell_type": "code",
   "execution_count": 9,
   "metadata": {
    "colab": {
     "base_uri": "https://localhost:8080/"
    },
    "executionInfo": {
     "elapsed": 212118,
     "status": "ok",
     "timestamp": 1685101837003,
     "user": {
      "displayName": "Luis Lago",
      "userId": "15983579116795900663"
     },
     "user_tz": -120
    },
    "id": "RI1mly4aiGJ-",
    "outputId": "15ea3382-f64c-4d62-c22c-299af43d5fbf"
   },
   "outputs": [
    {
     "name": "stdout",
     "output_type": "stream",
     "text": [
      "Trial 10 Complete [00h 00m 18s]\n",
      "val_acc: 0.9260999957720438\n",
      "\n",
      "Best val_acc So Far: 0.9260999957720438\n",
      "Total elapsed time: 00h 03m 32s\n"
     ]
    }
   ],
   "source": [
    "tuner.search(img_train, label_train,\n",
    "             epochs=1,\n",
    "             validation_data=(img_test, label_test))"
   ]
  },
  {
   "cell_type": "markdown",
   "metadata": {
    "id": "809PZQkKmfxV"
   },
   "source": [
    "Acceso al mejor modelo. Hay que tener en cuenta que ya está entrenado, y siempre es mejor reentrenarlo con todos los datos. "
   ]
  },
  {
   "cell_type": "code",
   "execution_count": 10,
   "metadata": {
    "colab": {
     "base_uri": "https://localhost:8080/"
    },
    "executionInfo": {
     "elapsed": 2396,
     "status": "ok",
     "timestamp": 1685101891771,
     "user": {
      "displayName": "Luis Lago",
      "userId": "15983579116795900663"
     },
     "user_tz": -120
    },
    "id": "m4UW2OlcmeF6",
    "outputId": "eafdbbc9-eec7-4197-8a0a-b13dc5e1f02e"
   },
   "outputs": [
    {
     "name": "stdout",
     "output_type": "stream",
     "text": [
      "313/313 [==============================] - 1s 2ms/step - loss: 0.4141 - acc: 0.9298\n"
     ]
    },
    {
     "data": {
      "text/plain": [
       "[0.41412270069122314, 0.9297999739646912]"
      ]
     },
     "execution_count": 10,
     "metadata": {},
     "output_type": "execute_result"
    }
   ],
   "source": [
    "best_model = tuner.get_best_models()[0]\n",
    "best_model.evaluate(img_test, label_test)"
   ]
  },
  {
   "cell_type": "markdown",
   "metadata": {
    "id": "stB6fGYnnaS1"
   },
   "source": [
    "Resumen de los resultados:"
   ]
  },
  {
   "cell_type": "code",
   "execution_count": 11,
   "metadata": {
    "colab": {
     "base_uri": "https://localhost:8080/"
    },
    "executionInfo": {
     "elapsed": 416,
     "status": "ok",
     "timestamp": 1685101894218,
     "user": {
      "displayName": "Luis Lago",
      "userId": "15983579116795900663"
     },
     "user_tz": -120
    },
    "id": "I7f890friGFj",
    "outputId": "481987a3-a2d6-4060-98c9-87b04f77413f"
   },
   "outputs": [
    {
     "name": "stdout",
     "output_type": "stream",
     "text": [
      "Results summary\n",
      "Results in my_dir/intro_to_kt\n",
      "Showing 10 best trials\n",
      "Objective(name=\"val_acc\", direction=\"max\")\n",
      "\n",
      "Trial 09 summary\n",
      "Hyperparameters:\n",
      "lambda: 0.001\n",
      "lr: 0.01\n",
      "Score: 0.9260999957720438\n",
      "\n",
      "Trial 02 summary\n",
      "Hyperparameters:\n",
      "lambda: 0.0001\n",
      "lr: 0.0001\n",
      "Score: 0.9020333488782247\n",
      "\n",
      "Trial 08 summary\n",
      "Hyperparameters:\n",
      "lambda: 0.01\n",
      "lr: 0.01\n",
      "Score: 0.8801999886830648\n",
      "\n",
      "Trial 04 summary\n",
      "Hyperparameters:\n",
      "lambda: 0.1\n",
      "lr: 0.001\n",
      "Score: 0.8776000142097473\n",
      "\n",
      "Trial 03 summary\n",
      "Hyperparameters:\n",
      "lambda: 0.1\n",
      "lr: 0.0001\n",
      "Score: 0.8741666475931803\n",
      "\n",
      "Trial 01 summary\n",
      "Hyperparameters:\n",
      "lambda: 0.001\n",
      "lr: 0.1\n",
      "Score: 0.5332666635513306\n",
      "\n",
      "Trial 00 summary\n",
      "Hyperparameters:\n",
      "lambda: 0.0001\n",
      "lr: 0.1\n",
      "Score: 0.4631333351135254\n",
      "\n",
      "Trial 05 summary\n",
      "Hyperparameters:\n",
      "lambda: 0.0001\n",
      "lr: 1.0\n",
      "Score: 0.11006666719913483\n",
      "\n",
      "Trial 07 summary\n",
      "Hyperparameters:\n",
      "lambda: 0.1\n",
      "lr: 1.0\n",
      "Score: 0.10576666643222173\n",
      "\n",
      "Trial 06 summary\n",
      "Hyperparameters:\n",
      "lambda: 1.0\n",
      "lr: 0.1\n",
      "Score: 0.10073333481947581\n"
     ]
    }
   ],
   "source": [
    "tuner.results_summary()"
   ]
  },
  {
   "cell_type": "markdown",
   "metadata": {
    "id": "dI4KzenznfeS"
   },
   "source": [
    "Obtenemos los parámetros del mejor modelo y lo reentrenamos:"
   ]
  },
  {
   "cell_type": "code",
   "execution_count": 12,
   "metadata": {
    "colab": {
     "base_uri": "https://localhost:8080/"
    },
    "executionInfo": {
     "elapsed": 83865,
     "status": "ok",
     "timestamp": 1685101985155,
     "user": {
      "displayName": "Luis Lago",
      "userId": "15983579116795900663"
     },
     "user_tz": -120
    },
    "id": "AKbxSwP6iGDC",
    "outputId": "194da58c-b0e8-4457-fef1-3c53eba9aec6"
   },
   "outputs": [
    {
     "name": "stdout",
     "output_type": "stream",
     "text": [
      "Epoch 1/10\n",
      "1875/1875 [==============================] - 6s 3ms/step - loss: 0.4903 - acc: 0.9059 - val_loss: 0.4436 - val_acc: 0.9147\n",
      "Epoch 2/10\n",
      "1875/1875 [==============================] - 4s 2ms/step - loss: 0.4510 - acc: 0.9211 - val_loss: 0.4068 - val_acc: 0.9353\n",
      "Epoch 3/10\n",
      "1875/1875 [==============================] - 5s 3ms/step - loss: 0.4384 - acc: 0.9214 - val_loss: 0.4170 - val_acc: 0.9258\n",
      "Epoch 4/10\n",
      "1875/1875 [==============================] - 4s 2ms/step - loss: 0.4210 - acc: 0.9232 - val_loss: 0.5134 - val_acc: 0.8873\n",
      "Epoch 5/10\n",
      "1875/1875 [==============================] - 4s 2ms/step - loss: 0.4226 - acc: 0.9231 - val_loss: 0.5140 - val_acc: 0.8912\n",
      "Epoch 6/10\n",
      "1875/1875 [==============================] - 5s 3ms/step - loss: 0.4183 - acc: 0.9237 - val_loss: 0.3833 - val_acc: 0.9312\n",
      "Epoch 7/10\n",
      "1875/1875 [==============================] - 4s 2ms/step - loss: 0.4143 - acc: 0.9238 - val_loss: 0.4671 - val_acc: 0.9003\n",
      "Epoch 8/10\n",
      "1875/1875 [==============================] - 4s 2ms/step - loss: 0.4178 - acc: 0.9223 - val_loss: 0.4292 - val_acc: 0.9148\n",
      "Epoch 9/10\n",
      "1875/1875 [==============================] - 5s 3ms/step - loss: 0.4132 - acc: 0.9230 - val_loss: 0.4127 - val_acc: 0.9217\n",
      "Epoch 10/10\n",
      "1875/1875 [==============================] - 5s 2ms/step - loss: 0.4142 - acc: 0.9233 - val_loss: 0.3969 - val_acc: 0.9289\n"
     ]
    },
    {
     "data": {
      "text/plain": [
       "<keras.callbacks.History at 0x7f5e30386e60>"
      ]
     },
     "execution_count": 12,
     "metadata": {},
     "output_type": "execute_result"
    }
   ],
   "source": [
    "best_hps = tuner.get_best_hyperparameters()[0]\n",
    "model = tuner.hypermodel.build(best_hps)\n",
    "model.fit(img_train, label_train, epochs = 10, validation_data = (img_test, label_test))"
   ]
  },
  {
   "cell_type": "markdown",
   "metadata": {
    "id": "6fXM2bnKoAd2"
   },
   "source": [
    "#### Otro ejemplo: \n",
    "\n",
    "Ajuste del learning rate, el parámetro de regularización y el número de neuronas en la capa oculta con un tuner de tipo hyperband.\n",
    "\n",
    "https://arxiv.org/pdf/1603.06560.pdf"
   ]
  },
  {
   "cell_type": "markdown",
   "metadata": {
    "id": "3B4EUcR_oXk7"
   },
   "source": [
    "Hipermodelo:"
   ]
  },
  {
   "cell_type": "code",
   "execution_count": 13,
   "metadata": {
    "executionInfo": {
     "elapsed": 385,
     "status": "ok",
     "timestamp": 1685102050650,
     "user": {
      "displayName": "Luis Lago",
      "userId": "15983579116795900663"
     },
     "user_tz": -120
    },
    "id": "KGY_10POqTGd"
   },
   "outputs": [],
   "source": [
    "def model_builder_2(hp):\n",
    "  hp_lambda = hp.Choice('lambda', values = [0.001, 0.0001]) \n",
    "  hp_units = hp.Int('units', min_value = 32, max_value = 128, step = 32)\n",
    "  hp_learning_rate = hp.Choice('learning_rate', values = [1.0, 0.1, 0.01, 0.001]) \n",
    "  \n",
    "  model = keras.Sequential()\n",
    "  model.add(keras.layers.Flatten(input_shape=(28, 28)))\n",
    "  model.add(keras.layers.Dense(units = hp_units, activation = 'relu', kernel_regularizer=keras.regularizers.l2(hp_lambda)))\n",
    "  model.add(keras.layers.Dense(10, activation=\"softmax\"))\n",
    "\n",
    "  model.compile(optimizer=keras.optimizers.Adam(learning_rate=hp_learning_rate), \n",
    "                loss='sparse_categorical_crossentropy',\n",
    "                metrics=['acc'])    \n",
    "  \n",
    "  return model"
   ]
  },
  {
   "cell_type": "markdown",
   "metadata": {
    "id": "9tdO2SfvqoeE"
   },
   "source": [
    "Borramos la carpeta de logs:"
   ]
  },
  {
   "cell_type": "code",
   "execution_count": 14,
   "metadata": {
    "executionInfo": {
     "elapsed": 820,
     "status": "ok",
     "timestamp": 1685102053355,
     "user": {
      "displayName": "Luis Lago",
      "userId": "15983579116795900663"
     },
     "user_tz": -120
    },
    "id": "3VyHbj5AqjCU"
   },
   "outputs": [],
   "source": [
    "!rm -rf my_dir/intro_hyperband/"
   ]
  },
  {
   "cell_type": "markdown",
   "metadata": {
    "id": "QmMlP-2Yq8XW"
   },
   "source": [
    "Creamos el tuner:"
   ]
  },
  {
   "cell_type": "code",
   "execution_count": 15,
   "metadata": {
    "executionInfo": {
     "elapsed": 7,
     "status": "ok",
     "timestamp": 1685102054269,
     "user": {
      "displayName": "Luis Lago",
      "userId": "15983579116795900663"
     },
     "user_tz": -120
    },
    "id": "E_Z2Q7U-qvxQ"
   },
   "outputs": [],
   "source": [
    "tuner = kt.Hyperband(model_builder_2,\n",
    "                     objective = 'val_acc', \n",
    "                     max_epochs = 10,\n",
    "                     factor = 3,\n",
    "                     directory = 'my_dir',\n",
    "                     project_name = 'intro_hyperband')  "
   ]
  },
  {
   "cell_type": "markdown",
   "metadata": {
    "id": "dZaE4k03riQ-"
   },
   "source": [
    "Resumen del espacio de búsqueda:"
   ]
  },
  {
   "cell_type": "code",
   "execution_count": 16,
   "metadata": {
    "colab": {
     "base_uri": "https://localhost:8080/"
    },
    "executionInfo": {
     "elapsed": 498,
     "status": "ok",
     "timestamp": 1685102057152,
     "user": {
      "displayName": "Luis Lago",
      "userId": "15983579116795900663"
     },
     "user_tz": -120
    },
    "id": "7f5pJ8RarNSo",
    "outputId": "6dfafcec-b956-4925-9eb2-38daa67c4f03"
   },
   "outputs": [
    {
     "name": "stdout",
     "output_type": "stream",
     "text": [
      "Search space summary\n",
      "Default search space size: 3\n",
      "lambda (Choice)\n",
      "{'default': 0.001, 'conditions': [], 'values': [0.001, 0.0001], 'ordered': True}\n",
      "units (Int)\n",
      "{'default': None, 'conditions': [], 'min_value': 32, 'max_value': 128, 'step': 32, 'sampling': 'linear'}\n",
      "learning_rate (Choice)\n",
      "{'default': 1.0, 'conditions': [], 'values': [1.0, 0.1, 0.01, 0.001], 'ordered': True}\n"
     ]
    }
   ],
   "source": [
    "tuner.search_space_summary()"
   ]
  },
  {
   "cell_type": "markdown",
   "metadata": {
    "id": "a9_pL4j_ruIh"
   },
   "source": [
    "Búsqueda:"
   ]
  },
  {
   "cell_type": "code",
   "execution_count": 17,
   "metadata": {
    "colab": {
     "base_uri": "https://localhost:8080/"
    },
    "executionInfo": {
     "elapsed": 903247,
     "status": "ok",
     "timestamp": 1685102962125,
     "user": {
      "displayName": "Luis Lago",
      "userId": "15983579116795900663"
     },
     "user_tz": -120
    },
    "id": "Zb6u2IM9rkzP",
    "outputId": "6c2dd74b-dd6c-4697-8add-f6d3f1e42f99"
   },
   "outputs": [
    {
     "name": "stdout",
     "output_type": "stream",
     "text": [
      "Trial 30 Complete [00h 01m 15s]\n",
      "val_acc: 0.9496999979019165\n",
      "\n",
      "Best val_acc So Far: 0.9783999919891357\n",
      "Total elapsed time: 00h 15m 03s\n"
     ]
    }
   ],
   "source": [
    "tuner.search(img_train, label_train,\n",
    "             epochs=10,\n",
    "             validation_data=(img_test, label_test))"
   ]
  },
  {
   "cell_type": "markdown",
   "metadata": {
    "id": "jHnstDTNvlPv"
   },
   "source": [
    "Mejores hiperparámetros:"
   ]
  },
  {
   "cell_type": "code",
   "execution_count": 18,
   "metadata": {
    "colab": {
     "base_uri": "https://localhost:8080/"
    },
    "executionInfo": {
     "elapsed": 7,
     "status": "ok",
     "timestamp": 1685102962126,
     "user": {
      "displayName": "Luis Lago",
      "userId": "15983579116795900663"
     },
     "user_tz": -120
    },
    "id": "am37bJ8kr5-Q",
    "outputId": "a7f3a676-b0fd-465b-d9ab-54f67e9ad28b"
   },
   "outputs": [
    {
     "data": {
      "text/plain": [
       "{'lambda': 0.0001,\n",
       " 'units': 96,\n",
       " 'learning_rate': 0.001,\n",
       " 'tuner/epochs': 10,\n",
       " 'tuner/initial_epoch': 4,\n",
       " 'tuner/bracket': 1,\n",
       " 'tuner/round': 1,\n",
       " 'tuner/trial_id': '0021'}"
      ]
     },
     "execution_count": 18,
     "metadata": {},
     "output_type": "execute_result"
    }
   ],
   "source": [
    "best_hps = tuner.get_best_hyperparameters()[0]\n",
    "best_hps.values"
   ]
  },
  {
   "cell_type": "markdown",
   "metadata": {
    "id": "KGPm3eoNv059"
   },
   "source": [
    "Reentrenamiento del modelo:"
   ]
  },
  {
   "cell_type": "code",
   "execution_count": 19,
   "metadata": {
    "colab": {
     "base_uri": "https://localhost:8080/"
    },
    "executionInfo": {
     "elapsed": 83382,
     "status": "ok",
     "timestamp": 1685103107240,
     "user": {
      "displayName": "Luis Lago",
      "userId": "15983579116795900663"
     },
     "user_tz": -120
    },
    "id": "twIEolPSuMFn",
    "outputId": "8ed7dd8c-7261-4220-8d9d-6f5c4d65c7ed"
   },
   "outputs": [
    {
     "name": "stdout",
     "output_type": "stream",
     "text": [
      "Epoch 1/10\n",
      "1875/1875 [==============================] - 7s 3ms/step - loss: 0.2929 - acc: 0.9225 - val_loss: 0.1708 - val_acc: 0.9552\n",
      "Epoch 2/10\n",
      "1875/1875 [==============================] - 5s 3ms/step - loss: 0.1551 - acc: 0.9615 - val_loss: 0.1350 - val_acc: 0.9671\n",
      "Epoch 3/10\n",
      "1875/1875 [==============================] - 6s 3ms/step - loss: 0.1239 - acc: 0.9716 - val_loss: 0.1336 - val_acc: 0.9689\n",
      "Epoch 4/10\n",
      "1875/1875 [==============================] - 5s 3ms/step - loss: 0.1075 - acc: 0.9769 - val_loss: 0.1236 - val_acc: 0.9717\n",
      "Epoch 5/10\n",
      "1875/1875 [==============================] - 6s 3ms/step - loss: 0.0978 - acc: 0.9802 - val_loss: 0.1276 - val_acc: 0.9702\n",
      "Epoch 6/10\n",
      "1875/1875 [==============================] - 6s 3ms/step - loss: 0.0912 - acc: 0.9818 - val_loss: 0.1126 - val_acc: 0.9744\n",
      "Epoch 7/10\n",
      "1875/1875 [==============================] - 5s 3ms/step - loss: 0.0851 - acc: 0.9840 - val_loss: 0.1152 - val_acc: 0.9737\n",
      "Epoch 8/10\n",
      "1875/1875 [==============================] - 6s 3ms/step - loss: 0.0805 - acc: 0.9851 - val_loss: 0.1152 - val_acc: 0.9745\n",
      "Epoch 9/10\n",
      "1875/1875 [==============================] - 5s 3ms/step - loss: 0.0789 - acc: 0.9862 - val_loss: 0.1054 - val_acc: 0.9761\n",
      "Epoch 10/10\n",
      "1875/1875 [==============================] - 6s 3ms/step - loss: 0.0753 - acc: 0.9870 - val_loss: 0.1125 - val_acc: 0.9758\n"
     ]
    },
    {
     "data": {
      "text/plain": [
       "<keras.callbacks.History at 0x7f5e30b1d570>"
      ]
     },
     "execution_count": 19,
     "metadata": {},
     "output_type": "execute_result"
    }
   ],
   "source": [
    "model = tuner.hypermodel.build(best_hps)\n",
    "model.fit(img_train, label_train, epochs = 10, validation_data = (img_test, label_test))"
   ]
  },
  {
   "cell_type": "code",
   "execution_count": null,
   "metadata": {
    "id": "2F05bM8a-O3b"
   },
   "outputs": [],
   "source": []
  }
 ],
 "metadata": {
  "colab": {
   "provenance": []
  },
  "kernelspec": {
   "display_name": "Python 3 (ipykernel)",
   "language": "python",
   "name": "python3"
  },
  "language_info": {
   "codemirror_mode": {
    "name": "ipython",
    "version": 3
   },
   "file_extension": ".py",
   "mimetype": "text/x-python",
   "name": "python",
   "nbconvert_exporter": "python",
   "pygments_lexer": "ipython3",
   "version": "3.11.5"
  }
 },
 "nbformat": 4,
 "nbformat_minor": 1
}
