{
  "cells": [
    {
      "cell_type": "markdown",
      "metadata": {
        "id": "DVa5rsmBgRDj"
      },
      "source": [
        "<font color=\"#CA3532\"><h1 align=\"left\">Inteligencia Artificial Aplicada a la Bolsa (MIAX-11)</h1></font>\n",
        "<font color=\"#5b5a59\"><h2 align=\"left\">Introducción a las redes neuronales artificiales</h2></font>\n",
        "<font color=\"#5b5a59\"><h3 align=\"left\">Noviembre 2023</h3></font>"
      ]
    },
    {
      "cell_type": "markdown",
      "metadata": {
        "id": "YEuwJWI1gRDm"
      },
      "source": [
        "### <font color=\"#CA3532\">Docentes</font>\n",
        "\n",
        "#### Luis Fernando Lago Fernández\n",
        "\n",
        "Universidad Autónoma de Madrid\n",
        "\n",
        "luis.lago@uam.es\n",
        "\n",
        "#### Christian Oliva Moya\n",
        "\n",
        "Universidad Autónoma de Madrid\n",
        "\n",
        "christian.oliva@uam.es"
      ]
    },
    {
      "cell_type": "markdown",
      "metadata": {
        "id": "3OrYKn-igRDn"
      },
      "source": [
        "### <font color=\"#CA3532\">Material del curso</font>\n",
        "\n",
        "Todo el material que utilicemos en estas clases lo puedes descargar de GITHUB:\n",
        "\n",
        "- ### https://github.com/christianolivamoya/MIAX11-ANN"
      ]
    },
    {
      "cell_type": "markdown",
      "metadata": {
        "id": "JpVu-1KdgRDp"
      },
      "source": [
        "### <font color=\"#CA3532\">Presentación del curso</font>\n",
        "\n",
        "Enlace a las [transparencias de presentación](https://luisferuam.github.io/MIAX-11/course_presentation/course_presentation.html)"
      ]
    },
    {
      "cell_type": "markdown",
      "metadata": {
        "id": "yDYr2Mi6IFmu"
      },
      "source": [
        "### <font color=\"#CA3532\">Recursos</font>\n",
        "\n",
        "- *Neural Networks and Deep Learning*, M. Nielsen, online\n",
        "book, http://neuralnetworksanddeeplearning.com\n",
        "\n",
        "- *Deep Learning*, I. Goodfellow, Y. Bengio, A. Courville, MIT\n",
        "Press, http://www.deeplearningbook.org/\n",
        "\n",
        "- *Convolutional Neural Networks for Visual Recognition*,\n",
        "curso Stanford, http://cs231n.stanford.edu/\n",
        "\n",
        "- *Introduction to Deep Learning*, curso MIT, http://introtodeeplearning.com/\n",
        "\n",
        "- Tutoriales de TensorFlow,\n",
        "https://www.tensorflow.org/tutorials/\n",
        "\n",
        "- TensorFlow Playground,\n",
        "http://playground.tensorflow.org"
      ]
    },
    {
      "cell_type": "markdown",
      "metadata": {
        "id": "qBCgEX9EgRDq"
      },
      "source": [
        "### <font color=\"#CA3532\">Entorno de trabajo</font>\n",
        "\n",
        "Todo el código del curso estará desarrollado con *Google Colab*, un entorno de trabajo basado en el *Jupyter Notebook* (https://jupyter.org/) que no necesita configuración y funciona en la nube:\n",
        "- https://colab.research.google.com/notebooks/welcome.ipynb?hl=es-419\n",
        "- https://www.youtube.com/watch?v=inN8seMm7UI\n",
        "\n",
        "Necesitarás una cuenta de Google. Si quieres trabajar en local tendrás que instalar *python 3* (recomiendo la distribución *Anaconda*, https://www.anaconda.com/), y *TensorFlow* (https://www.tensorflow.org/).\n",
        "\n",
        "Esta es la versión de python que utiliza *Colab*:"
      ]
    },
    {
      "cell_type": "code",
      "execution_count": null,
      "metadata": {
        "id": "uu5ijROyLdlp"
      },
      "outputs": [],
      "source": [
        "!python --version"
      ]
    },
    {
      "cell_type": "markdown",
      "metadata": {
        "id": "ebQ5mbiF9fZA"
      },
      "source": [
        "### <font color=\"#CA3532\">Crea tu propio directorio en Drive</font>\n",
        "\n",
        "Para poder trabajar con el material proporcionado, descarga los Notebooks de Github. El material de clase se puede ir actualizando a lo largo del curso. Puedes seguir los siguientes pasos:\n",
        "\n",
        "1. Entra en tu Google Drive.\n",
        "2. Crea un directorio local en tu Google Drive, por ejemplo, ``MI_CARPETA_MIAX11``.\n",
        "3. Sube los Notebooks descargados a tu directorio local.\n",
        "4. Ahora sí, tendrás permiso de escritura en los Notebooks para poder editarlos y trabajar con ellos."
      ]
    },
    {
      "cell_type": "markdown",
      "metadata": {
        "id": "Ni6Wy1Y9ae0Q"
      },
      "source": [
        "### <font color=\"#CA3532\">Requisitos previos</font>\n",
        "\n",
        "**Álgebra lineal:**\n",
        "\n",
        "- Escalares, vectores, matrices, tensores.\n",
        "- Transposición.\n",
        "- Producto de matrices (dot product).\n",
        "\n",
        "Ver capítulo 2 del libro de Goodfellow: https://www.deeplearningbook.org/contents/linear_algebra.html\n",
        "\n",
        "Ver apuntes *Linear Algebra Review and Reference, Zico Kolter, 2015*, http://cs229.stanford.edu/section/cs229-linalg.pdf\n",
        "\n",
        "**Programación con python y NumPy:**\n",
        "\n",
        "- NumPy arrays.\n",
        "- Indexación de arrays.\n",
        "- Matemática con arrays.\n",
        "- Broadcasting.\n",
        "\n",
        "Ver tutorial en el curso de Stanford: https://cs231n.github.io/python-numpy-tutorial/#numpy"
      ]
    },
    {
      "cell_type": "markdown",
      "metadata": {
        "id": "FcCOocvbcm-y"
      },
      "source": [
        "### <font color=\"#CA3532\">Ejercicios</font>\n",
        "\n",
        "Para ver cómo lleváis los conceptos básicos de álgebra lineal.\n",
        "\n",
        "Sean los siguientes vectores y matrices:\n",
        "\n",
        "$$\n",
        "{\\bf x} = (3, -2, 4)^{t},\\;\\;\\;\n",
        "{\\bf y} = (1, 5, 2)^{t},\\;\\;\\;\n",
        "{\\bf A} =\n",
        "\\begin{pmatrix}\n",
        "1 & 2 & 3\\\\\n",
        "-3 & 1 & 2\n",
        "\\end{pmatrix},\\;\\;\\;\n",
        "{\\bf z} = (-1, 2)^{t}\n",
        "$$\n",
        "\n",
        "Calcula:\n",
        "\n",
        "1. ${\\bf x}^{t} {\\bf y}$\n",
        "\n",
        "2. ${\\bf A} {\\bf x}$\n",
        "\n",
        "3. ${\\bf A}^{t}$\n",
        "\n",
        "4. ${\\bf z}^{t} {\\bf A}$"
      ]
    },
    {
      "cell_type": "markdown",
      "metadata": {
        "id": "hYFSv1TPgREZ"
      },
      "source": [
        "### <font color=\"#CA3532\">Ejercicios</font>\n",
        "\n",
        "Para evaluar vuestro nivel de python y NumPy."
      ]
    },
    {
      "cell_type": "code",
      "execution_count": null,
      "metadata": {
        "id": "KyDbJhHzgREa"
      },
      "outputs": [],
      "source": [
        "import numpy as np"
      ]
    },
    {
      "cell_type": "code",
      "execution_count": null,
      "metadata": {
        "id": "3eLxZYeEgREe"
      },
      "outputs": [],
      "source": [
        "# (1) Crea una matriz (array) de numpy de dimension 4x3, con numeros aleatorios segun gausiana:\n",
        "pass"
      ]
    },
    {
      "cell_type": "code",
      "execution_count": null,
      "metadata": {
        "id": "dp6ciBTRgREh"
      },
      "outputs": [],
      "source": [
        "# (2) Crea una matriz (array) de numpy de dimension 3x2, con numeros aleatorios segun gausiana:\n",
        "pass"
      ]
    },
    {
      "cell_type": "code",
      "execution_count": null,
      "metadata": {
        "id": "ohn81CVlgREj"
      },
      "outputs": [],
      "source": [
        "# (3) Multiplica las dos matrices (producto matricial):\n",
        "pass"
      ]
    },
    {
      "cell_type": "code",
      "execution_count": null,
      "metadata": {
        "id": "85jikHGigREm"
      },
      "outputs": [],
      "source": [
        "# (4) Suma la segunda matriz a las primeras 3x2 posiciones de la primera matriz:\n",
        "pass"
      ]
    },
    {
      "cell_type": "code",
      "execution_count": null,
      "metadata": {
        "id": "qGL3dv2FgREo"
      },
      "outputs": [],
      "source": [
        "# (5) Crea la siguiente tabla de multiplicar sin usar bucles:\n",
        "# [[  1   2   3   4   5   6   7   8   9  10]\n",
        "#  [  2   4   6   8  10  12  14  16  18  20]\n",
        "#  [  3   6   9  12  15  18  21  24  27  30]\n",
        "#  [  4   8  12  16  20  24  28  32  36  40]\n",
        "#  [  5  10  15  20  25  30  35  40  45  50]\n",
        "#  [  6  12  18  24  30  36  42  48  54  60]\n",
        "#  [  7  14  21  28  35  42  49  56  63  70]\n",
        "#  [  8  16  24  32  40  48  56  64  72  80]\n",
        "#  [  9  18  27  36  45  54  63  72  81  90]\n",
        "#  [ 10  20  30  40  50  60  70  80  90 100]]\n",
        "pass"
      ]
    },
    {
      "cell_type": "code",
      "execution_count": null,
      "metadata": {
        "id": "Z7F6cEVnSwPt"
      },
      "outputs": [],
      "source": [
        "# (6) Sin usar bucles, transforma la variable t a codificación one-hot y compara\n",
        "# el resultado con el obtenido con keras.utils.to_categorical\n",
        "from tensorflow.keras.utils import to_categorical\n",
        "\n",
        "t = np.random.randint(0, 4, 10)\n",
        "print(t)\n",
        "\n",
        "one_hot_t = to_categorical(t)\n",
        "print(one_hot_t)\n",
        "\n",
        "# To do...\n"
      ]
    },
    {
      "cell_type": "code",
      "execution_count": null,
      "metadata": {
        "id": "CdKDlvZiOUUq"
      },
      "outputs": [],
      "source": [
        "# (7) Sin usar bucles, calcula la matriz de distancias entre todos los\n",
        "# vectores (2D) contenidos en el array p. Compara el resultado con el\n",
        "# obtenido con scipy.spatial.distance.pdist\n",
        "# Nota: ||x-y||^2 = ||x||^2 + ||y||^2 - 2xy\n",
        "from scipy.spatial.distance import pdist, squareform\n",
        "p = np.random.randint(-5, 5, (6, 2))\n",
        "print(p)\n",
        "\n",
        "d = squareform(pdist(p))\n",
        "print(d)\n",
        "\n",
        "# To do..."
      ]
    },
    {
      "cell_type": "markdown",
      "metadata": {
        "id": "ou0VbLVSgREu"
      },
      "source": [
        "### <font color=\"#CA3532\">Regresión lineal y descenso por gradiente</font>\n",
        "\n",
        "Ver estas [notas](https://luisferuam.github.io/DLFBT/linear_regression/linear_regression.html)."
      ]
    },
    {
      "cell_type": "markdown",
      "metadata": {
        "id": "E18N4j37gRFO"
      },
      "source": [
        "### <font color=\"#CA3532\">Regresión logística</font>\n",
        "\n",
        "Ver estas [notas](https://luisferuam.github.io/DLFBT/logistic_regression/logistic_regression.html)."
      ]
    },
    {
      "cell_type": "markdown",
      "metadata": {
        "id": "drO3T8VrgRFq"
      },
      "source": [
        "### <font color=\"#CA3532\">Modelos no lineales</font>\n",
        "\n",
        "Ver estas [notas](https://luisferuam.github.io/DLFBT/non_linear_models/non_linear_models.html)."
      ]
    }
  ],
  "metadata": {
    "colab": {
      "collapsed_sections": [
        "FcCOocvbcm-y",
        "ou0VbLVSgREu",
        "E18N4j37gRFO",
        "drO3T8VrgRFq"
      ],
      "provenance": []
    },
    "kernelspec": {
      "display_name": "Python 3 (ipykernel)",
      "language": "python",
      "name": "python3"
    },
    "language_info": {
      "codemirror_mode": {
        "name": "ipython",
        "version": 3
      },
      "file_extension": ".py",
      "mimetype": "text/x-python",
      "name": "python",
      "nbconvert_exporter": "python",
      "pygments_lexer": "ipython3",
      "version": "3.11.5"
    }
  },
  "nbformat": 4,
  "nbformat_minor": 0
}