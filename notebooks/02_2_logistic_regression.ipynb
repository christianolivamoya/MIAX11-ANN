{
 "cells": [
  {
   "cell_type": "markdown",
   "metadata": {
    "id": "KoFZV1kBZkAi"
   },
   "source": [
    "<font color=\"#CA3532\"><h1 align=\"left\">Inteligencia Artificial Aplicada a la Bolsa (MIAX-11)</h1></font>\n",
    "<font color=\"#5b5a59\"><h2 align=\"left\">Extensión del modelo de regresión logística a una dimensión arbitraria</h2></font>"
   ]
  },
  {
   "cell_type": "code",
   "execution_count": null,
   "metadata": {
    "executionInfo": {
     "elapsed": 17,
     "status": "ok",
     "timestamp": 1684486657459,
     "user": {
      "displayName": "christian oliva moya",
      "userId": "04396812984644697862"
     },
     "user_tz": -120
    },
    "id": "74sT4NIPYtiy"
   },
   "outputs": [],
   "source": [
    "import numpy as np\n",
    "import matplotlib.pyplot as plt"
   ]
  },
  {
   "cell_type": "markdown",
   "metadata": {
    "id": "M_jtvCMsLRLZ"
   },
   "source": [
    "Definición de la función sigmoide:"
   ]
  },
  {
   "cell_type": "code",
   "execution_count": null,
   "metadata": {
    "executionInfo": {
     "elapsed": 17,
     "status": "ok",
     "timestamp": 1684486657464,
     "user": {
      "displayName": "christian oliva moya",
      "userId": "04396812984644697862"
     },
     "user_tz": -120
    },
    "id": "C7pJwv0uLT6b"
   },
   "outputs": [],
   "source": [
    "def sigmoid(z):\n",
    "    return 1.0/(1.0 + np.exp(-z))"
   ]
  },
  {
   "cell_type": "markdown",
   "metadata": {
    "id": "Uyab5aRGOChN"
   },
   "source": [
    "Cross-entropy loss:"
   ]
  },
  {
   "cell_type": "code",
   "execution_count": null,
   "metadata": {
    "executionInfo": {
     "elapsed": 296,
     "status": "ok",
     "timestamp": 1684486658994,
     "user": {
      "displayName": "christian oliva moya",
      "userId": "04396812984644697862"
     },
     "user_tz": -120
    },
    "id": "4zu_s4EgOCM4"
   },
   "outputs": [],
   "source": [
    "def cross_entropy(y, t):\n",
    "    loss = np.mean(-t*np.log(y) - (1.-t)*np.log(1.-y))\n",
    "    return loss"
   ]
  },
  {
   "cell_type": "markdown",
   "metadata": {
    "id": "dFGdcxIKTTe6"
   },
   "source": [
    "Cross-entropy loss, from logits:"
   ]
  },
  {
   "cell_type": "code",
   "execution_count": null,
   "metadata": {
    "executionInfo": {
     "elapsed": 4,
     "status": "ok",
     "timestamp": 1684486659518,
     "user": {
      "displayName": "christian oliva moya",
      "userId": "04396812984644697862"
     },
     "user_tz": -120
    },
    "id": "KUp5ukIxTXHg"
   },
   "outputs": [],
   "source": [
    "def cross_entropy_from_logits(z, t):\n",
    "    a = np.log(1. + np.exp(-z))\n",
    "    loss = np.mean(a + z - t*z)\n",
    "    return loss"
   ]
  },
  {
   "cell_type": "markdown",
   "metadata": {
    "id": "mCSIOQeic-3J"
   },
   "source": [
    "Precisión:"
   ]
  },
  {
   "cell_type": "code",
   "execution_count": null,
   "metadata": {
    "executionInfo": {
     "elapsed": 3,
     "status": "ok",
     "timestamp": 1684486661207,
     "user": {
      "displayName": "christian oliva moya",
      "userId": "04396812984644697862"
     },
     "user_tz": -120
    },
    "id": "bjWeLlWrdBxE"
   },
   "outputs": [],
   "source": [
    "def accuracy(y, t):\n",
    "    pred = y > 0.5\n",
    "    return np.mean(pred == t)"
   ]
  },
  {
   "cell_type": "markdown",
   "metadata": {
    "id": "GkQ5ae7LZ-zc"
   },
   "source": [
    "Generación de los datos del problema:"
   ]
  },
  {
   "cell_type": "code",
   "execution_count": null,
   "metadata": {
    "id": "3__RYeMyZyEg"
   },
   "outputs": [],
   "source": [
    "# Parametros:\n",
    "d = 5 # Dimension del problema\n",
    "w = np.random.randn(d, 1)\n",
    "b = 0.0\n",
    "xmin = -10.0\n",
    "xmax = 10.0\n",
    "noise = 1.0\n",
    "n = 1000\n",
    "\n",
    "# Datos del problema generados al azar:\n",
    "x = xmin + np.random.rand(d, n)*(xmax - xmin)\n",
    "z = np.dot(w.T, x) + b \n",
    "zmin = np.min(z)\n",
    "zmax = np.max(z)\n",
    "t0 = sigmoid(z)\n",
    "t = 1*(t0 > np.random.rand(n))\n",
    "\n",
    "# Distribucion de las dos primeras variables:\n",
    "plt.figure(figsize=(12,6))\n",
    "plt.subplot(121)\n",
    "plt.plot(x[0,:], x[1,:], 'o')\n",
    "plt.grid(True)\n",
    "plt.xlabel(\"x1\")\n",
    "plt.ylabel(\"x2\")\n",
    "plt.subplot(122)\n",
    "\n",
    "# Grafica de t frente a z:\n",
    "zrange = np.arange(zmin, zmax, 0.1)\n",
    "plt.plot(z[0], t[0], 'o', label='data points')\n",
    "plt.plot(zrange, sigmoid(zrange), 'r-', label='true prob $P(t = 1 | x)$')\n",
    "plt.grid(True)\n",
    "plt.xlabel(\"z\")\n",
    "plt.ylabel(\"t\")\n",
    "plt.legend()\n",
    "plt.show()\n",
    "\n",
    "# Coste esperado:\n",
    "loss = cross_entropy(t0, t)\n",
    "print(\"Cross-entropy esperada = %f\" % loss)\n",
    "loss = cross_entropy_from_logits(z, t)\n",
    "print(\"Cross-entropy esperada (logits) = %f\" % loss)\n",
    "\n",
    "# Accuracy:\n",
    "acc = accuracy(t0, t)\n",
    "print(\"Accuracy esperada = %f\" % acc)"
   ]
  },
  {
   "cell_type": "markdown",
   "metadata": {
    "id": "nax9A91aaNc0"
   },
   "source": [
    "Forma de los vectores:"
   ]
  },
  {
   "cell_type": "code",
   "execution_count": null,
   "metadata": {
    "id": "CGYdnMLDZ4nG"
   },
   "outputs": [],
   "source": [
    "print(x.shape)\n",
    "print(t.shape)"
   ]
  },
  {
   "cell_type": "markdown",
   "metadata": {
    "id": "WRgATzqpad5m"
   },
   "source": [
    "Modelo de regresión logística con los parámetros inicializados al azar:"
   ]
  },
  {
   "cell_type": "code",
   "execution_count": null,
   "metadata": {
    "id": "YrbCLsvPaTRI"
   },
   "outputs": [],
   "source": [
    "w = np.random.randn(d, 1)\n",
    "b = np.random.randn()\n",
    "\n",
    "# Aplico el modelo a los datos y comparo la prediccion y con el objetivo t:\n",
    "z = np.dot(w.T, x) + b\n",
    "zmin = np.min(z)\n",
    "zmax = np.max(z)\n",
    "y = sigmoid(z)\n",
    "\n",
    "# Grafica de y frente a z:\n",
    "zrange = np.arange(zmin, zmax, 0.1)\n",
    "plt.plot(z[0], t[0], 'o', label='data points')\n",
    "plt.plot(zrange, sigmoid(zrange), 'r-', label='model')\n",
    "plt.grid(True)\n",
    "plt.xlabel(\"z\")\n",
    "plt.ylabel(\"t\")\n",
    "plt.legend()\n",
    "plt.show()\n",
    "\n",
    "# Coste:\n",
    "loss = cross_entropy_from_logits(z, t)\n",
    "print(\"Cross-entropy = %f\" % loss)\n",
    "\n",
    "# Accuracy:\n",
    "acc = accuracy(y, t)\n",
    "print(\"Accuracy = %f\" % acc)"
   ]
  },
  {
   "cell_type": "markdown",
   "metadata": {
    "id": "Ad_HnpDMas0N"
   },
   "source": [
    "Entrenamiento del modelo:"
   ]
  },
  {
   "cell_type": "code",
   "execution_count": null,
   "metadata": {
    "id": "iAWYGrCDah2I"
   },
   "outputs": [],
   "source": [
    "nepocas = 64\n",
    "eta = 0.0001\n",
    "\n",
    "plt.figure(figsize=(16,16))\n",
    "\n",
    "k = 1\n",
    "loss = []\n",
    "acc = []\n",
    "for i in range(nepocas):\n",
    "    z = np.dot(w.T, x) + b\n",
    "    zmin = np.min(z)\n",
    "    zmax = np.max(z)\n",
    "    y = sigmoid(z)\n",
    "\n",
    "    #----------------------------------------------------------\n",
    "    # TO-DO: Calcula el coste cross-entropy y la precision (acc), \n",
    "    # y añadelos a las listas loss y acc:\n",
    "    loss.append(e)\n",
    "    acc.append(a)\n",
    "    #----------------------------------------------------------\n",
    "\n",
    "    if i%4 == 0:\n",
    "        zrange = np.arange(zmin, zmax, 0.1)\n",
    "        plt.subplot(4, 4, k)\n",
    "        plt.plot(z[0], t[0], 'o')\n",
    "        plt.plot(zrange, sigmoid(zrange), 'r-')\n",
    "        plt.grid(True)\n",
    "        plt.title(\"epoca = %d, loss = %.2f\" % (i, loss[-1]))\n",
    "        k += 1\n",
    "\n",
    "    #----------------------------------------------------------\n",
    "    # TO-DO: Calcula los gradientes y actualiza los parametros:\n",
    "    b -= eta*db\n",
    "    w -= eta*dw\n",
    "    #----------------------------------------------------------\n",
    "\n",
    "plt.show()"
   ]
  },
  {
   "cell_type": "markdown",
   "metadata": {
    "id": "93E3pGM5a51W"
   },
   "source": [
    "Cross-entropy y accuracy frente a número de épocas:"
   ]
  },
  {
   "cell_type": "code",
   "execution_count": null,
   "metadata": {
    "id": "nzR5BJdWaubX"
   },
   "outputs": [],
   "source": [
    "plt.figure(figsize=(12, 4))\n",
    "plt.subplot(1,2,1)\n",
    "plt.plot(range(nepocas), loss)\n",
    "plt.grid(True)\n",
    "plt.xlabel(\"epoch\")\n",
    "plt.ylabel(\"loss\")\n",
    "\n",
    "plt.subplot(1,2,2)\n",
    "plt.plot(range(nepocas), acc)\n",
    "plt.grid(True)\n",
    "plt.xlabel(\"epoch\")\n",
    "plt.ylabel(\"acc\")\n",
    "plt.show()"
   ]
  },
  {
   "cell_type": "code",
   "execution_count": null,
   "metadata": {
    "id": "PGCKEb6eJBto"
   },
   "outputs": [],
   "source": [
    "loss[-1]"
   ]
  },
  {
   "cell_type": "code",
   "execution_count": null,
   "metadata": {
    "id": "FbIIEAxdJL41"
   },
   "outputs": [],
   "source": [
    "acc[-1]"
   ]
  },
  {
   "cell_type": "markdown",
   "metadata": {
    "id": "7uwP6KLQc2qn"
   },
   "source": [
    "# Breast Cancer Wisconsin"
   ]
  },
  {
   "cell_type": "code",
   "execution_count": null,
   "metadata": {
    "executionInfo": {
     "elapsed": 2279,
     "status": "ok",
     "timestamp": 1684486792193,
     "user": {
      "displayName": "christian oliva moya",
      "userId": "04396812984644697862"
     },
     "user_tz": -120
    },
    "id": "HgfkFCxOc4jR"
   },
   "outputs": [],
   "source": [
    "from sklearn.datasets import load_breast_cancer"
   ]
  },
  {
   "cell_type": "code",
   "execution_count": null,
   "metadata": {
    "executionInfo": {
     "elapsed": 19,
     "status": "ok",
     "timestamp": 1684486792194,
     "user": {
      "displayName": "christian oliva moya",
      "userId": "04396812984644697862"
     },
     "user_tz": -120
    },
    "id": "oKhI-RDZdXN4"
   },
   "outputs": [],
   "source": [
    "data = load_breast_cancer()"
   ]
  },
  {
   "cell_type": "code",
   "execution_count": null,
   "metadata": {
    "id": "3id3P7PIdjzG"
   },
   "outputs": [],
   "source": [
    "x = data.data\n",
    "t = data.target[:, None]\n",
    "\n",
    "print(x.shape)\n",
    "print(t.shape)"
   ]
  },
  {
   "cell_type": "markdown",
   "metadata": {
    "id": "zCSsIMMra87k"
   },
   "source": [
    "La clase $t$ toma dos posibles valores (0 y 1):"
   ]
  },
  {
   "cell_type": "code",
   "execution_count": null,
   "metadata": {
    "id": "BpcfXbjEa4YF"
   },
   "outputs": [],
   "source": [
    "print(np.unique(t))\n",
    "print(np.sum(t == 0))\n",
    "print(np.sum(t == 1))"
   ]
  },
  {
   "cell_type": "markdown",
   "metadata": {
    "id": "ZWBjllTLeCNn"
   },
   "source": [
    "Vamos a construir un modelo de regresión logística para predecir la variable $t$ a partir de los atributos $x$."
   ]
  },
  {
   "cell_type": "code",
   "execution_count": null,
   "metadata": {
    "executionInfo": {
     "elapsed": 221,
     "status": "ok",
     "timestamp": 1684486798617,
     "user": {
      "displayName": "christian oliva moya",
      "userId": "04396812984644697862"
     },
     "user_tz": -120
    },
    "id": "eG4a0V9PJ1OR"
   },
   "outputs": [],
   "source": [
    "from sklearn.model_selection import train_test_split"
   ]
  },
  {
   "cell_type": "code",
   "execution_count": null,
   "metadata": {
    "executionInfo": {
     "elapsed": 213,
     "status": "ok",
     "timestamp": 1684486801114,
     "user": {
      "displayName": "christian oliva moya",
      "userId": "04396812984644697862"
     },
     "user_tz": -120
    },
    "id": "LY2Ead3VJ6Hp"
   },
   "outputs": [],
   "source": [
    "# Particion entrenamiento-test:\n",
    "x_train, x_test, t_train, t_test = train_test_split(x, t, test_size=0.33, random_state=42)\n",
    "x_train = x_train\n",
    "x_test = x_test\n",
    "t_train = t_train\n",
    "t_test = t_test"
   ]
  },
  {
   "cell_type": "code",
   "execution_count": null,
   "metadata": {
    "id": "Tdu_leuAKunb"
   },
   "outputs": [],
   "source": [
    "print(x_train.shape)\n",
    "print(x_test.shape)\n",
    "print(t_train.shape)\n",
    "print(t_test.shape)"
   ]
  },
  {
   "cell_type": "code",
   "execution_count": null,
   "metadata": {
    "id": "qWQPMARpK6eF"
   },
   "outputs": [],
   "source": [
    "print(np.mean(x_train), np.std(x_train))\n",
    "print(np.mean(x_test), np.std(x_test))"
   ]
  },
  {
   "cell_type": "code",
   "execution_count": null,
   "metadata": {
    "executionInfo": {
     "elapsed": 2,
     "status": "ok",
     "timestamp": 1684486814494,
     "user": {
      "displayName": "christian oliva moya",
      "userId": "04396812984644697862"
     },
     "user_tz": -120
    },
    "id": "T2txzl8gJebV"
   },
   "outputs": [],
   "source": [
    "# Estandarizar los datos\n",
    "media = x_train.mean(axis=0, keepdims=True)\n",
    "std = x_train.std(axis=0, keepdims=True)\n",
    "\n",
    "x_train = (x_train - media) / std\n",
    "x_test = (x_test - media) / std # Se estandariza con la media y std de training"
   ]
  },
  {
   "cell_type": "code",
   "execution_count": null,
   "metadata": {
    "id": "5HR7v3uUnPCJ"
   },
   "outputs": [],
   "source": [
    "print(np.mean(x_train), np.std(x_train))\n",
    "print(np.mean(x_test), np.std(x_test))"
   ]
  },
  {
   "cell_type": "code",
   "execution_count": null,
   "metadata": {
    "executionInfo": {
     "elapsed": 291,
     "status": "ok",
     "timestamp": 1684486851798,
     "user": {
      "displayName": "christian oliva moya",
      "userId": "04396812984644697862"
     },
     "user_tz": -120
    },
    "id": "6CzmvlobMV4B"
   },
   "outputs": [],
   "source": [
    "# Entrenamiento del modelo:\n",
    "\n",
    "d = x_train.shape[1]\n",
    "\n",
    "w = np.random.randn(d, 1)\n",
    "b = np.random.randn()\n",
    "\n",
    "nepocas = 400\n",
    "eta = 0.0001\n",
    "\n",
    "k = 1\n",
    "loss_train = []\n",
    "acc_train = []\n",
    "loss_test = []\n",
    "acc_test = []\n",
    "for i in range(nepocas):\n",
    "    # TO-DO Calcula cross-entropy y accuracy en training\n",
    "    loss_train.append(e_train)\n",
    "    acc_train.append(a_train)\n",
    "\n",
    "    # TO-DO Calcula cross-entropy y accuracy en test\n",
    "    loss_test.append(e_test)\n",
    "    acc_test.append(a_test)\n",
    "\n",
    "    # TO-DO Calcula los gradientes y actualiza los parametros\n",
    "    b -= eta*db\n",
    "    w -= eta*dw"
   ]
  },
  {
   "cell_type": "code",
   "execution_count": null,
   "metadata": {
    "id": "0S6N0RLDNv2Z"
   },
   "outputs": [],
   "source": [
    "plt.figure(figsize=(12, 4))\n",
    "plt.subplot(1, 2, 1)\n",
    "plt.plot(range(nepocas), loss_train, label=\"train\")\n",
    "plt.plot(range(nepocas), loss_test, label=\"test\")\n",
    "plt.grid(True)\n",
    "plt.xlabel(\"epoch\")\n",
    "plt.ylabel(\"loss\")\n",
    "plt.legend()\n",
    "\n",
    "plt.subplot(1,2,2)\n",
    "plt.plot(range(nepocas), acc_train, label=\"train\")\n",
    "plt.plot(range(nepocas), acc_test, label=\"test\")\n",
    "plt.grid(True)\n",
    "plt.xlabel(\"epoch\")\n",
    "plt.ylabel(\"acc\")\n",
    "plt.legend()\n",
    "plt.show()"
   ]
  },
  {
   "cell_type": "code",
   "execution_count": null,
   "metadata": {
    "id": "KyOMLLlor0Th"
   },
   "outputs": [],
   "source": [
    "acc_test[-1]"
   ]
  },
  {
   "cell_type": "markdown",
   "metadata": {
    "id": "udx9Cmn2pnl1"
   },
   "source": [
    "## Reducción de dimensionalidad con PCA"
   ]
  },
  {
   "cell_type": "markdown",
   "metadata": {
    "id": "iJMsgnwUp1xM"
   },
   "source": [
    "Principal Component Analysis (PCA) es un método estadístico que permite simplificar la complejidad reduciendo la dimensión de un problema mediante un método lineal."
   ]
  },
  {
   "cell_type": "code",
   "execution_count": null,
   "metadata": {
    "executionInfo": {
     "elapsed": 510,
     "status": "ok",
     "timestamp": 1684486862403,
     "user": {
      "displayName": "christian oliva moya",
      "userId": "04396812984644697862"
     },
     "user_tz": -120
    },
    "id": "OyAhni-PpXD8"
   },
   "outputs": [],
   "source": [
    "from sklearn.decomposition import PCA"
   ]
  },
  {
   "cell_type": "markdown",
   "metadata": {
    "id": "DWx-WM34rJFk"
   },
   "source": [
    "Primero podemos analizar la información que se pierde al transformar el conjunto de datos a un espacio de menor dimensión. Para ello creamos un PCA y analizamos su ratio de varianza explicada."
   ]
  },
  {
   "cell_type": "code",
   "execution_count": null,
   "metadata": {
    "id": "rCNBNME8quMa"
   },
   "outputs": [],
   "source": [
    "pca = PCA()\n",
    "pca.fit(x_train)\n",
    "plt.plot(1 - pca.explained_variance_ratio_)\n",
    "plt.show()"
   ]
  },
  {
   "cell_type": "markdown",
   "metadata": {
    "id": "eRoX7vCMqd1X"
   },
   "source": [
    "Se ajusta la transformación indicando el número de dimensiones a la que queremos reducir. Usamos el parámetro *n_components*."
   ]
  },
  {
   "cell_type": "code",
   "execution_count": null,
   "metadata": {
    "id": "WqMRJvEfq5L-"
   },
   "outputs": [],
   "source": [
    "pca = PCA(n_components=10)\n",
    "pca.fit(x_train)\n",
    "print(1 - pca.explained_variance_ratio_[-1]) # Con 10 dimensiones tenemos un 98.78% de la información"
   ]
  },
  {
   "cell_type": "markdown",
   "metadata": {
    "id": "tc98JrRWsTBt"
   },
   "source": [
    "Transformamos los datos de training y test a las 10 dimensiones."
   ]
  },
  {
   "cell_type": "code",
   "execution_count": null,
   "metadata": {
    "executionInfo": {
     "elapsed": 227,
     "status": "ok",
     "timestamp": 1684486870342,
     "user": {
      "displayName": "christian oliva moya",
      "userId": "04396812984644697862"
     },
     "user_tz": -120
    },
    "id": "1cGQwk-9sGXH"
   },
   "outputs": [],
   "source": [
    "x_train_pca = pca.transform(x_train)\n",
    "x_test_pca = pca.transform(x_test)"
   ]
  },
  {
   "cell_type": "markdown",
   "metadata": {
    "id": "cttD1UTysafc"
   },
   "source": [
    "Entrenamos el modelo."
   ]
  },
  {
   "cell_type": "code",
   "execution_count": null,
   "metadata": {
    "executionInfo": {
     "elapsed": 430,
     "status": "ok",
     "timestamp": 1684486871837,
     "user": {
      "displayName": "christian oliva moya",
      "userId": "04396812984644697862"
     },
     "user_tz": -120
    },
    "id": "WcjwMQUKsXSB"
   },
   "outputs": [],
   "source": [
    "# Entrenamiento del modelo:\n",
    "\n",
    "d = x_train_pca.shape[1]\n",
    "\n",
    "w = np.random.randn(d, 1)\n",
    "b = np.random.randn()\n",
    "\n",
    "nepocas = 400\n",
    "eta = 0.0001\n",
    "\n",
    "k = 1\n",
    "loss_train = []\n",
    "acc_train = []\n",
    "loss_test = []\n",
    "acc_test = []\n",
    "for i in range(nepocas):\n",
    "    # TO-DO Calcula cross-entropy y accuracy en training\n",
    "    loss_train.append(e_train)\n",
    "    acc_train.append(a_train)\n",
    "\n",
    "    # TO-DO Calcula cross-entropy y accuracy en test\n",
    "    loss_test.append(e_test)\n",
    "    acc_test.append(a_test)\n",
    "\n",
    "    # Calcula los gradientes y actualiza los parametros\n",
    "    b -= eta*db\n",
    "    w -= eta*dw"
   ]
  },
  {
   "cell_type": "code",
   "execution_count": null,
   "metadata": {
    "id": "DU-7yKKTshY5"
   },
   "outputs": [],
   "source": [
    "plt.figure(figsize=(12, 4))\n",
    "plt.subplot(1, 2, 1)\n",
    "plt.plot(range(nepocas), loss_train, label=\"train\")\n",
    "plt.plot(range(nepocas), loss_test, label=\"test\")\n",
    "plt.grid(True)\n",
    "plt.xlabel(\"epoch\")\n",
    "plt.ylabel(\"loss\")\n",
    "plt.legend()\n",
    "\n",
    "plt.subplot(1,2,2)\n",
    "plt.plot(range(nepocas), acc_train, label=\"train\")\n",
    "plt.plot(range(nepocas), acc_test, label=\"test\")\n",
    "plt.grid(True)\n",
    "plt.xlabel(\"epoch\")\n",
    "plt.ylabel(\"acc\")\n",
    "plt.legend()\n",
    "plt.show()"
   ]
  },
  {
   "cell_type": "code",
   "execution_count": null,
   "metadata": {
    "id": "63ZrkCcWsjCG"
   },
   "outputs": [],
   "source": [
    "acc_test[-1]"
   ]
  },
  {
   "cell_type": "markdown",
   "metadata": {
    "id": "Fv5U63rLs3dF"
   },
   "source": [
    "## Extraer la frontera de decisión de un modelo en 2D"
   ]
  },
  {
   "cell_type": "markdown",
   "metadata": {
    "id": "IVUWlmbLtDew"
   },
   "source": [
    "En este caso, vamos a reducir mediante PCA la dimensión de los datos a 2D para dibujar la frontera de decisión del modelo."
   ]
  },
  {
   "cell_type": "code",
   "execution_count": null,
   "metadata": {
    "id": "18NP43Xlsl7O"
   },
   "outputs": [],
   "source": [
    "pca = PCA(n_components=2)\n",
    "pca.fit(x_train)\n",
    "print(1 - pca.explained_variance_ratio_[-1]) # Con 2 dimensiones tenemos un 80.15% de la información"
   ]
  },
  {
   "cell_type": "markdown",
   "metadata": {
    "id": "9zZxxesotXr4"
   },
   "source": [
    "Transformamos los datos de training y test a 2D."
   ]
  },
  {
   "cell_type": "code",
   "execution_count": null,
   "metadata": {
    "executionInfo": {
     "elapsed": 196,
     "status": "ok",
     "timestamp": 1684486883534,
     "user": {
      "displayName": "christian oliva moya",
      "userId": "04396812984644697862"
     },
     "user_tz": -120
    },
    "id": "usSZgUHJtQwt"
   },
   "outputs": [],
   "source": [
    "x_train_pca = pca.transform(x_train)\n",
    "x_test_pca = pca.transform(x_test)"
   ]
  },
  {
   "cell_type": "markdown",
   "metadata": {
    "id": "_FefpobztZ7M"
   },
   "source": [
    "Entrenamos el modelo."
   ]
  },
  {
   "cell_type": "code",
   "execution_count": null,
   "metadata": {
    "executionInfo": {
     "elapsed": 202,
     "status": "ok",
     "timestamp": 1684486885562,
     "user": {
      "displayName": "christian oliva moya",
      "userId": "04396812984644697862"
     },
     "user_tz": -120
    },
    "id": "H1I988w8tVSX"
   },
   "outputs": [],
   "source": [
    "# Entrenamiento del modelo:\n",
    "\n",
    "d = x_train_pca.shape[1]\n",
    "\n",
    "w = np.random.randn(d, 1)\n",
    "b = np.random.randn()\n",
    "\n",
    "nepocas = 400\n",
    "eta = 0.0001\n",
    "\n",
    "k = 1\n",
    "loss_train = []\n",
    "acc_train = []\n",
    "loss_test = []\n",
    "acc_test = []\n",
    "for i in range(nepocas):\n",
    "    # TO-DO Calcula cross-entropy y accuracy en training\n",
    "    loss_train.append(e_train)\n",
    "    acc_train.append(a_train)\n",
    "\n",
    "    # TO-DO Calcula cross-entropy y accuracy en test\n",
    "    loss_test.append(e_test)\n",
    "    acc_test.append(a_test)\n",
    "\n",
    "    # Calcula los gradientes y actualiza los parametros\n",
    "    b -= eta*db\n",
    "    w -= eta*dw"
   ]
  },
  {
   "cell_type": "code",
   "execution_count": null,
   "metadata": {
    "id": "YDBVCKa0tbs9"
   },
   "outputs": [],
   "source": [
    "plt.figure(figsize=(12, 4))\n",
    "plt.subplot(1, 2, 1)\n",
    "plt.plot(range(nepocas), loss_train, label=\"train\")\n",
    "plt.plot(range(nepocas), loss_test, label=\"test\")\n",
    "plt.grid(True)\n",
    "plt.xlabel(\"epoch\")\n",
    "plt.ylabel(\"loss\")\n",
    "plt.legend()\n",
    "\n",
    "plt.subplot(1,2,2)\n",
    "plt.plot(range(nepocas), acc_train, label=\"train\")\n",
    "plt.plot(range(nepocas), acc_test, label=\"test\")\n",
    "plt.grid(True)\n",
    "plt.xlabel(\"epoch\")\n",
    "plt.ylabel(\"acc\")\n",
    "plt.legend()\n",
    "plt.show()"
   ]
  },
  {
   "cell_type": "code",
   "execution_count": null,
   "metadata": {
    "id": "Z7GV5MeOtjgX"
   },
   "outputs": [],
   "source": [
    "acc_test[-1]"
   ]
  },
  {
   "cell_type": "markdown",
   "metadata": {
    "id": "yaQFGxsFGwqf"
   },
   "source": [
    "Para dibujar la frontera de decisión en 2D, se calcula una malla con la función *meshgrid* de numpy. Esta función de da los pares de puntos a imprimir en un plot con la función *contourf*. Además, hay que calcular el valor de cada punto, por lo que hay que procesarlos con el modelo ya entrenado."
   ]
  },
  {
   "cell_type": "code",
   "execution_count": null,
   "metadata": {
    "id": "p0ZhcGDOuTm2"
   },
   "outputs": [],
   "source": [
    "xx, yy = np.meshgrid(np.arange(x_train_pca[:, 0].min()-1, x_train_pca[:, 0].max()+1, 0.1), \n",
    "                     np.arange(x_train_pca[:, 1].min()-1, x_train_pca[:, 1].max()+1, 0.1))\n",
    "xy = np.concatenate([xx.reshape([1, -1]), yy.reshape([1, -1])],axis=0).T\n",
    "xy.shape"
   ]
  },
  {
   "cell_type": "code",
   "execution_count": null,
   "metadata": {
    "id": "IuKQDTxau0Y2"
   },
   "outputs": [],
   "source": [
    "z = sigmoid(xy @ w + b)\n",
    "z.shape"
   ]
  },
  {
   "cell_type": "code",
   "execution_count": null,
   "metadata": {
    "id": "NqHrd7LLtnjC"
   },
   "outputs": [],
   "source": [
    "plt.figure(figsize=(8, 4))\n",
    "\n",
    "plt.contourf(xx, yy, z[:, 0].reshape(xx.shape), 100, cmap=\"bwr\", alpha=0.4, vmin=0.0, vmax=1.0)\n",
    "\n",
    "plt.plot(x_train_pca[t_train.ravel()==0, 0], x_train_pca[t_train.ravel()==0, 1], 'o', label=\"Clase 0\", color='blue')\n",
    "plt.plot(x_train_pca[t_train.ravel()==1, 0], x_train_pca[t_train.ravel()==1, 1], 'o', label=\"Clase 1\", color='red')\n",
    "\n",
    "plt.title(\"Probabilidad de Clase 1\")\n",
    "plt.xlabel(\"PCA-1\")\n",
    "plt.ylabel(\"PCA-2\")\n",
    "plt.grid(True)     \n",
    "plt.legend(loc=2)\n",
    "plt.colorbar()\n",
    "plt.show()"
   ]
  },
  {
   "cell_type": "markdown",
   "metadata": {
    "id": "yJkSszyFwoL8"
   },
   "source": [
    "# Iris dataset"
   ]
  },
  {
   "cell_type": "markdown",
   "metadata": {
    "id": "a1Kkx8kOwx8F"
   },
   "source": [
    "Este problema sencillo que ya conocéis consiste en clasificar plantas de la especie Iris en tres subespecies: virgínica, setosa y versicolor. Los atributos que describen cada planta son las dimensiones (longitud y anchura) del pétalo y sépalo.\n",
    "\n",
    "En este enlace tenéis una descripción de los datos:\n",
    "https://scikit-learn.org/stable/datasets/toy_dataset.html#iris-plants-dataset"
   ]
  },
  {
   "cell_type": "code",
   "execution_count": null,
   "metadata": {
    "executionInfo": {
     "elapsed": 254,
     "status": "ok",
     "timestamp": 1684486917018,
     "user": {
      "displayName": "christian oliva moya",
      "userId": "04396812984644697862"
     },
     "user_tz": -120
    },
    "id": "uYcO1L_7wADW"
   },
   "outputs": [],
   "source": [
    "from sklearn.datasets import load_iris\n",
    "iris = load_iris()"
   ]
  },
  {
   "cell_type": "markdown",
   "metadata": {
    "id": "Gr44mvxnxPF8"
   },
   "source": [
    "Preparación de los datos considerando exclusivamente las dos últimas dimensiones del problema (longitud y anchura del pétalo). Esto nos permite visualizar el modelo en 2D."
   ]
  },
  {
   "cell_type": "code",
   "execution_count": null,
   "metadata": {
    "executionInfo": {
     "elapsed": 211,
     "status": "ok",
     "timestamp": 1684486920648,
     "user": {
      "displayName": "christian oliva moya",
      "userId": "04396812984644697862"
     },
     "user_tz": -120
    },
    "id": "sJQOa2dCxXj-"
   },
   "outputs": [],
   "source": [
    "x = iris.data[:, -2:]\n",
    "t = iris.target\n",
    "[n, d] = x.shape"
   ]
  },
  {
   "cell_type": "markdown",
   "metadata": {
    "id": "40ddAfEuxZzb"
   },
   "source": [
    "Los datos del problema están ordenados. Para evitar sesgos conviene desordenarlos."
   ]
  },
  {
   "cell_type": "code",
   "execution_count": null,
   "metadata": {
    "id": "Hn_-GuRKxdux"
   },
   "outputs": [],
   "source": [
    "p = np.random.permutation(n)\n",
    "x = x[p, :]\n",
    "t = t[p]\n",
    "t = t[:, None]\n",
    "print(x.shape, t.shape)"
   ]
  },
  {
   "cell_type": "markdown",
   "metadata": {
    "id": "47taBapzyFD0"
   },
   "source": [
    "Ahora imprimimos los datos en 2D. Se puede ver que los dos atributos seleccionados distinguen relativamente bien las tres clases."
   ]
  },
  {
   "cell_type": "code",
   "execution_count": null,
   "metadata": {
    "id": "sepv-9YjxCXX"
   },
   "outputs": [],
   "source": [
    "plt.figure(figsize=(5, 5))\n",
    "\n",
    "plt.plot(x[t.ravel()==0, 0], x[t.ravel()==0, 1], 'o', label=iris.target_names[0], color='#993300')\n",
    "plt.plot(x[t.ravel()==1, 0], x[t.ravel()==1, 1], 'o', label=iris.target_names[1], color='#009933')\n",
    "plt.plot(x[t.ravel()==2, 0], x[t.ravel()==2, 1], 'o', label=iris.target_names[2], color='#000099')\n",
    "\n",
    "plt.xlabel(iris.feature_names[2])\n",
    "plt.ylabel(iris.feature_names[3])\n",
    "plt.grid(True)\n",
    "      \n",
    "plt.legend(loc=2)\n",
    "plt.show()"
   ]
  },
  {
   "cell_type": "markdown",
   "metadata": {
    "id": "ISQkboYrzYbU"
   },
   "source": [
    "Separamos el dataset en training-test para preparar los datos de los ejercicios:"
   ]
  },
  {
   "cell_type": "code",
   "execution_count": null,
   "metadata": {
    "executionInfo": {
     "elapsed": 308,
     "status": "ok",
     "timestamp": 1684486929322,
     "user": {
      "displayName": "christian oliva moya",
      "userId": "04396812984644697862"
     },
     "user_tz": -120
    },
    "id": "dACe2ERPzOaF"
   },
   "outputs": [],
   "source": [
    "# Particion entrenamiento-test:\n",
    "x_train, x_test, t_train, t_test = train_test_split(x, t, test_size=0.33, random_state=42)\n",
    "x_train = x_train\n",
    "x_test = x_test\n",
    "t_train = t_train\n",
    "t_test = t_test"
   ]
  },
  {
   "cell_type": "code",
   "execution_count": null,
   "metadata": {
    "id": "xFNTEX1Izh1p"
   },
   "outputs": [],
   "source": [
    "print(x_train.shape)\n",
    "print(x_test.shape)\n",
    "print(t_train.shape)\n",
    "print(t_test.shape)"
   ]
  },
  {
   "cell_type": "markdown",
   "metadata": {
    "id": "0c1i48SQyZfh"
   },
   "source": [
    "## Ejercicio 1\n",
    "\n",
    "1.1. Crear un modelo de regresión logística que aprenda a diferenciar la subespecie setosa de las demás subespecies del dataset.\n",
    "\n",
    "1.2. Visualizar la frontera de decisión del modelo.\n"
   ]
  },
  {
   "cell_type": "code",
   "execution_count": null,
   "metadata": {
    "id": "ho--R5ah0FSg"
   },
   "outputs": [],
   "source": [
    "clase_setosa = np.where(iris.target_names == 'setosa')[0][0]\n",
    "clase_setosa"
   ]
  },
  {
   "cell_type": "code",
   "execution_count": null,
   "metadata": {
    "executionInfo": {
     "elapsed": 2,
     "status": "ok",
     "timestamp": 1684486932312,
     "user": {
      "displayName": "christian oliva moya",
      "userId": "04396812984644697862"
     },
     "user_tz": -120
    },
    "id": "BMpcS0b4zyyy"
   },
   "outputs": [],
   "source": [
    "x_train_e1 = x_train\n",
    "x_test_e1 = x_test\n",
    "\n",
    "# Tenemos que quedarnos con la clase setosa como clase target (1) y el resto reetiquetarlas como no-target (0).\n",
    "t_train_e1 = (t_train == clase_setosa) * 1\n",
    "t_test_e1 = (t_test == clase_setosa) * 1"
   ]
  },
  {
   "cell_type": "code",
   "execution_count": null,
   "metadata": {
    "id": "NXa-4R-Z0sIQ"
   },
   "outputs": [],
   "source": [
    "plt.figure(figsize=(12, 4))\n",
    "plt.subplot(1,2,1)\n",
    "plt.title(\"Training\", size=18)\n",
    "plt.plot(x_train_e1[(t_train_e1==1)[:, 0], 0], x_train_e1[(t_train_e1==1)[:, 0], 1], 'o', label=iris.target_names[0], color='red')\n",
    "plt.plot(x_train_e1[(t_train_e1==0)[:, 0], 0], x_train_e1[(t_train_e1==0)[:, 0], 1], 'o', label=\"others\", color='blue')\n",
    "plt.xlabel(iris.feature_names[2])\n",
    "plt.ylabel(iris.feature_names[3])\n",
    "plt.grid(True)\n",
    "plt.legend(loc=2)\n",
    "\n",
    "plt.subplot(1,2,2)\n",
    "plt.title(\"Test\", size=18)\n",
    "plt.plot(x_test_e1[(t_test_e1==1)[:, 0], 0], x_test_e1[(t_test_e1==1)[:, 0], 1], 'o', label=iris.target_names[0], color='red')\n",
    "plt.plot(x_test_e1[(t_test_e1==0)[:, 0], 0], x_test_e1[(t_test_e1==0)[:, 0], 1], 'o', label=\"others\", color='blue')\n",
    "plt.xlabel(iris.feature_names[2])\n",
    "plt.ylabel(iris.feature_names[3])\n",
    "plt.grid(True)\n",
    "plt.legend(loc=2)\n",
    "plt.show()"
   ]
  },
  {
   "cell_type": "code",
   "execution_count": null,
   "metadata": {
    "executionInfo": {
     "elapsed": 849,
     "status": "ok",
     "timestamp": 1684486937602,
     "user": {
      "displayName": "christian oliva moya",
      "userId": "04396812984644697862"
     },
     "user_tz": -120
    },
    "id": "FLrp1opSzn2I"
   },
   "outputs": [],
   "source": [
    "# TO-DO Entrenamiento del modelo:\n"
   ]
  },
  {
   "cell_type": "code",
   "execution_count": null,
   "metadata": {
    "id": "pscHtg1wzwHD"
   },
   "outputs": [],
   "source": [
    "plt.figure(figsize=(12, 4))\n",
    "plt.subplot(1, 2, 1)\n",
    "plt.plot(range(nepocas), loss_train, label=\"train\")\n",
    "plt.plot(range(nepocas), loss_test, label=\"test\")\n",
    "plt.grid(True)\n",
    "plt.xlabel(\"epoch\")\n",
    "plt.ylabel(\"loss\")\n",
    "plt.legend()\n",
    "\n",
    "plt.subplot(1,2,2)\n",
    "plt.plot(range(nepocas), acc_train, label=\"train\")\n",
    "plt.plot(range(nepocas), acc_test, label=\"test\")\n",
    "plt.grid(True)\n",
    "plt.xlabel(\"epoch\")\n",
    "plt.ylabel(\"acc\")\n",
    "plt.legend()\n",
    "plt.show()"
   ]
  },
  {
   "cell_type": "code",
   "execution_count": null,
   "metadata": {
    "id": "f67fnmKK1OMu"
   },
   "outputs": [],
   "source": [
    "acc_test[-1]"
   ]
  },
  {
   "cell_type": "code",
   "execution_count": null,
   "metadata": {
    "id": "C2nIIP-q1PY5"
   },
   "outputs": [],
   "source": [
    "xx, yy = np.meshgrid(np.arange(x_train_e1[:, 0].min()-1, x_train_e1[:, 0].max()+1, 0.1), \n",
    "                     np.arange(x_train_e1[:, 1].min()-1, x_train_e1[:, 1].max()+1, 0.1))\n",
    "xy = np.concatenate([xx.reshape([1, -1]), yy.reshape([1, -1])],axis=0).T\n",
    "xy.shape"
   ]
  },
  {
   "cell_type": "code",
   "execution_count": null,
   "metadata": {
    "id": "eSdRnwea1VHo"
   },
   "outputs": [],
   "source": [
    "z = sigmoid(xy @ w + b)\n",
    "z.shape"
   ]
  },
  {
   "cell_type": "code",
   "execution_count": null,
   "metadata": {
    "id": "IiX5zTS41X_0"
   },
   "outputs": [],
   "source": [
    "plt.figure(figsize=(8, 4))\n",
    "\n",
    "plt.contourf(xx, yy, z[:, 0].reshape(xx.shape), 100, cmap=\"bwr\", alpha=0.4, vmin=0.0, vmax=1.0)\n",
    "\n",
    "plt.plot(x_test_e1[t_test_e1.ravel()==0, 0], x_test_e1[t_test_e1.ravel()==0, 1], 'o', label=\"others\", color='blue')\n",
    "plt.plot(x_test_e1[t_test_e1.ravel()!=0, 0], x_test_e1[t_test_e1.ravel()!=0, 1], 'o', label='setosa', color='red')\n",
    "\n",
    "plt.xlabel(iris.feature_names[2])\n",
    "plt.ylabel(iris.feature_names[3])\n",
    "plt.grid(True)     \n",
    "plt.legend(loc=2)\n",
    "plt.colorbar()\n",
    "plt.show()"
   ]
  },
  {
   "cell_type": "markdown",
   "metadata": {
    "id": "L25Z9YGxyoCp"
   },
   "source": [
    "## Ejercicio 2\n",
    "\n",
    "2.1. Crear un modelo de regresión logística (sin modificar los dos atributos de entrada) que aprenda a diferenciar la subespecie versicolor de las demás subespecies del dataset.\n",
    "\n",
    "2.2. Visualizar la frontera de decisión del modelo."
   ]
  },
  {
   "cell_type": "code",
   "execution_count": null,
   "metadata": {
    "id": "0nkgPO_Z4zav"
   },
   "outputs": [],
   "source": [
    "clase_versicolor = np.where(iris.target_names == 'versicolor')[0][0]\n",
    "clase_versicolor"
   ]
  },
  {
   "cell_type": "code",
   "execution_count": null,
   "metadata": {
    "executionInfo": {
     "elapsed": 1,
     "status": "ok",
     "timestamp": 1684486946966,
     "user": {
      "displayName": "christian oliva moya",
      "userId": "04396812984644697862"
     },
     "user_tz": -120
    },
    "id": "RKHTwczY42cj"
   },
   "outputs": [],
   "source": [
    "x_train_e2 = x_train\n",
    "x_test_e2 = x_test\n",
    "\n",
    "# Tenemos que quedarnos con la clase versicolor como clase target (1) y el resto reetiquetarlas como no-target (0).\n",
    "t_train_e2 = (t_train == clase_versicolor) * 1\n",
    "t_test_e2 = (t_test == clase_versicolor) * 1"
   ]
  },
  {
   "cell_type": "code",
   "execution_count": null,
   "metadata": {
    "id": "Ims8JV0u4-Mq"
   },
   "outputs": [],
   "source": [
    "plt.figure(figsize=(12, 4))\n",
    "plt.subplot(1,2,1)\n",
    "plt.title(\"Training\", size=18)\n",
    "plt.plot(x_train_e2[(t_train_e2==1)[:, 0], 0], x_train_e2[(t_train_e2==1)[:, 0], 1], 'o', label=iris.target_names[0], color='red')\n",
    "plt.plot(x_train_e2[(t_train_e2==0)[:, 0], 0], x_train_e2[(t_train_e2==0)[:, 0], 1], 'o', label=\"others\", color='blue')\n",
    "plt.xlabel(iris.feature_names[2])\n",
    "plt.ylabel(iris.feature_names[3])\n",
    "plt.grid(True)\n",
    "plt.legend(loc=2)\n",
    "\n",
    "plt.subplot(1,2,2)\n",
    "plt.title(\"Test\", size=18)\n",
    "plt.plot(x_test_e2[(t_test_e2==1)[:, 0], 0], x_test_e2[(t_test_e2==1)[:, 0], 1], 'o', label=iris.target_names[0], color='red')\n",
    "plt.plot(x_test_e2[(t_test_e2==0)[:, 0], 0], x_test_e2[(t_test_e2==0)[:, 0], 1], 'o', label=\"others\", color='blue')\n",
    "plt.xlabel(iris.feature_names[2])\n",
    "plt.ylabel(iris.feature_names[3])\n",
    "plt.grid(True)\n",
    "plt.legend(loc=2)\n",
    "plt.show()"
   ]
  },
  {
   "cell_type": "code",
   "execution_count": null,
   "metadata": {
    "executionInfo": {
     "elapsed": 192,
     "status": "ok",
     "timestamp": 1684486949625,
     "user": {
      "displayName": "christian oliva moya",
      "userId": "04396812984644697862"
     },
     "user_tz": -120
    },
    "id": "fgVcADRM5J_2"
   },
   "outputs": [],
   "source": [
    "# TO-DO Entrenamiento del modelo:"
   ]
  },
  {
   "cell_type": "code",
   "execution_count": null,
   "metadata": {
    "id": "KO08zqSQ5Q2J"
   },
   "outputs": [],
   "source": [
    "plt.figure(figsize=(12, 4))\n",
    "plt.subplot(1, 2, 1)\n",
    "plt.plot(range(nepocas), loss_train, label=\"train\")\n",
    "plt.plot(range(nepocas), loss_test, label=\"test\")\n",
    "plt.grid(True)\n",
    "plt.xlabel(\"epoch\")\n",
    "plt.ylabel(\"loss\")\n",
    "plt.legend()\n",
    "\n",
    "plt.subplot(1,2,2)\n",
    "plt.plot(range(nepocas), acc_train, label=\"train\")\n",
    "plt.plot(range(nepocas), acc_test, label=\"test\")\n",
    "plt.grid(True)\n",
    "plt.xlabel(\"epoch\")\n",
    "plt.ylabel(\"acc\")\n",
    "plt.legend()\n",
    "plt.show()"
   ]
  },
  {
   "cell_type": "code",
   "execution_count": null,
   "metadata": {
    "id": "LKqyy2LB5UWU"
   },
   "outputs": [],
   "source": [
    "acc_test[-1]"
   ]
  },
  {
   "cell_type": "code",
   "execution_count": null,
   "metadata": {
    "id": "twVhVbWx5SJc"
   },
   "outputs": [],
   "source": [
    "xx, yy = np.meshgrid(np.arange(x_train_e2[:, 0].min()-1, x_train_e2[:, 0].max()+1, 0.1), \n",
    "                     np.arange(x_train_e2[:, 1].min()-1, x_train_e2[:, 1].max()+1, 0.1))\n",
    "xy = np.concatenate([xx.reshape([1, -1]), yy.reshape([1, -1])],axis=0).T\n",
    "xy.shape"
   ]
  },
  {
   "cell_type": "code",
   "execution_count": null,
   "metadata": {
    "id": "3w4hQk_p5Yew"
   },
   "outputs": [],
   "source": [
    "z = sigmoid(xy @ w + b)\n",
    "z.shape"
   ]
  },
  {
   "cell_type": "code",
   "execution_count": null,
   "metadata": {
    "id": "DJNKngMt5aqB"
   },
   "outputs": [],
   "source": [
    "plt.figure(figsize=(8, 4))\n",
    "\n",
    "plt.contourf(xx, yy, z[:, 0].reshape(xx.shape), 100, cmap=\"bwr\", alpha=0.4, vmin=0.0, vmax=1.0)\n",
    "\n",
    "plt.plot(x_test_e2[t_test_e2.ravel()==0, 0], x_test_e2[t_test_e2.ravel()==0, 1], 'o', label=\"others\", color='blue')\n",
    "plt.plot(x_test_e2[t_test_e2.ravel()!=0, 0], x_test_e2[t_test_e2.ravel()!=0, 1], 'o', label=\"versicolor\", color='red')\n",
    "\n",
    "plt.xlabel(iris.feature_names[2])\n",
    "plt.ylabel(iris.feature_names[3])\n",
    "plt.grid(True)     \n",
    "plt.legend(loc=2)\n",
    "plt.colorbar()\n",
    "plt.show()"
   ]
  },
  {
   "cell_type": "markdown",
   "metadata": {
    "id": "IQImwnqtzAk6"
   },
   "source": [
    "## Ejercicio 3\n",
    "\n",
    "3.1. Modificando los atributos de entrada, crear un modelo de regresión logística que aprenda a diferenciar la subespecie versicolor de las demás subespecies del dataset.\n",
    "\n",
    "3.2. Visualizar la frontera de decisión del modelo."
   ]
  },
  {
   "cell_type": "code",
   "execution_count": null,
   "metadata": {
    "id": "fFXG2UN7xMvS"
   },
   "outputs": [],
   "source": [
    "clase_versicolor = np.where(iris.target_names == 'versicolor')[0][0]\n",
    "clase_versicolor"
   ]
  },
  {
   "cell_type": "code",
   "execution_count": null,
   "metadata": {
    "executionInfo": {
     "elapsed": 3,
     "status": "ok",
     "timestamp": 1684486970271,
     "user": {
      "displayName": "christian oliva moya",
      "userId": "04396812984644697862"
     },
     "user_tz": -120
    },
    "id": "DghTe1MV6K3m"
   },
   "outputs": [],
   "source": [
    "# TO-DO Modifica los datos de entrada para conseguir que sea separable linealmente "
   ]
  },
  {
   "cell_type": "code",
   "execution_count": null,
   "metadata": {
    "executionInfo": {
     "elapsed": 331,
     "status": "ok",
     "timestamp": 1684486976931,
     "user": {
      "displayName": "christian oliva moya",
      "userId": "04396812984644697862"
     },
     "user_tz": -120
    },
    "id": "yH1ruyJG5-Xc"
   },
   "outputs": [],
   "source": [
    "# TO-DO Entrenamiento del modelo:"
   ]
  },
  {
   "cell_type": "code",
   "execution_count": null,
   "metadata": {
    "id": "pmplT4R97HG0"
   },
   "outputs": [],
   "source": [
    "plt.figure(figsize=(12, 4))\n",
    "plt.subplot(1, 2, 1)\n",
    "plt.plot(range(nepocas), loss_train, label=\"train\")\n",
    "plt.plot(range(nepocas), loss_test, label=\"test\")\n",
    "plt.grid(True)\n",
    "plt.xlabel(\"epoch\")\n",
    "plt.ylabel(\"loss\")\n",
    "plt.legend()\n",
    "\n",
    "plt.subplot(1,2,2)\n",
    "plt.plot(range(nepocas), acc_train, label=\"train\")\n",
    "plt.plot(range(nepocas), acc_test, label=\"test\")\n",
    "plt.grid(True)\n",
    "plt.xlabel(\"epoch\")\n",
    "plt.ylabel(\"acc\")\n",
    "plt.legend()\n",
    "plt.show()"
   ]
  },
  {
   "cell_type": "code",
   "execution_count": null,
   "metadata": {
    "id": "9JlfdCNQ7JAN"
   },
   "outputs": [],
   "source": [
    "acc_test[-1]"
   ]
  },
  {
   "cell_type": "code",
   "execution_count": null,
   "metadata": {
    "id": "kaLKB8Cv7Ls1"
   },
   "outputs": [],
   "source": [
    "# TO-DO Visualiza la frontera de decisión de la transformación no lineal en el espacio original"
   ]
  },
  {
   "cell_type": "code",
   "execution_count": null,
   "metadata": {
    "id": "izlaY6GEP4DG"
   },
   "outputs": [],
   "source": []
  }
 ],
 "metadata": {
  "colab": {
   "provenance": [],
   "toc_visible": true
  },
  "kernelspec": {
   "display_name": "Python 3 (ipykernel)",
   "language": "python",
   "name": "python3"
  },
  "language_info": {
   "codemirror_mode": {
    "name": "ipython",
    "version": 3
   },
   "file_extension": ".py",
   "mimetype": "text/x-python",
   "name": "python",
   "nbconvert_exporter": "python",
   "pygments_lexer": "ipython3",
   "version": "3.11.5"
  }
 },
 "nbformat": 4,
 "nbformat_minor": 1
}
