{
 "cells": [
  {
   "cell_type": "markdown",
   "metadata": {
    "id": "mwth4jUyXe-F"
   },
   "source": [
    "<font color=\"#CA3532\"><h1 align=\"left\">Inteligencia Artificial Aplicada a la Bolsa (MIAX-11)</h1></font>\n",
    "<font color=\"#5b5a59\"><h2 align=\"left\">Implementación en python de una red neuronal sencilla con capas ocultas</h2></font>"
   ]
  },
  {
   "cell_type": "code",
   "execution_count": null,
   "metadata": {
    "executionInfo": {
     "elapsed": 24,
     "status": "ok",
     "timestamp": 1684487567335,
     "user": {
      "displayName": "christian oliva moya",
      "userId": "04396812984644697862"
     },
     "user_tz": -120
    },
    "id": "MGj5k8OFcO-u"
   },
   "outputs": [],
   "source": [
    "import numpy as np"
   ]
  },
  {
   "cell_type": "code",
   "execution_count": null,
   "metadata": {
    "executionInfo": {
     "elapsed": 24,
     "status": "ok",
     "timestamp": 1684487567340,
     "user": {
      "displayName": "christian oliva moya",
      "userId": "04396812984644697862"
     },
     "user_tz": -120
    },
    "id": "UL_jwuhzcO-y"
   },
   "outputs": [],
   "source": [
    "def sigmoid(z):\n",
    "    return 1.0/(1.0+np.exp(-z))"
   ]
  },
  {
   "cell_type": "code",
   "execution_count": null,
   "metadata": {
    "executionInfo": {
     "elapsed": 21,
     "status": "ok",
     "timestamp": 1684487567342,
     "user": {
      "displayName": "christian oliva moya",
      "userId": "04396812984644697862"
     },
     "user_tz": -120
    },
    "id": "V18FCuNBcO-1"
   },
   "outputs": [],
   "source": [
    "def dsigmoid(z):\n",
    "    return sigmoid(z)*(1.0 - sigmoid(z))"
   ]
  },
  {
   "cell_type": "markdown",
   "metadata": {
    "id": "NVTk83kacO-4"
   },
   "source": [
    "Definición de la clase red:"
   ]
  },
  {
   "cell_type": "code",
   "execution_count": null,
   "metadata": {
    "id": "wXN9DzMOcO-5"
   },
   "outputs": [],
   "source": [
    "class Red_1capa():\n",
    "\n",
    "    def __init__(self, d0=2, d1=10, d2=1):\n",
    "        self.W1 = np.random.randn(d1, d0)\n",
    "        self.W2 = np.random.randn(d2, d1)\n",
    "        self.b1 = np.random.randn(d1, 1)\n",
    "        self.b2 = np.random.randn(d2, 1)\n",
    "        \n",
    "    def forward(self, x):\n",
    "        #----------------------------------------------------------\n",
    "        # TO-DO:\n",
    "        # x tiene que tener dimensiones (d0xn)\n",
    "        # Implementamos regresion\n",
    "        # Puedes probar el método con la prueba forward de más abajo\n",
    "        #----------------------------------------------------------\n",
    "        \n",
    "        return z1, a1, z2, y\n",
    "    \n",
    "    def backward(self, x, t):\n",
    "        z1, a1, z2, a2 = self.forward(x)\n",
    "        \n",
    "        #----------------------------------------------------------\n",
    "        # TO-DO:\n",
    "        # x tiene que tener dimensiones (d0xn)\n",
    "        # t tiene que tener dimensiones (d2xn)\n",
    "        # Implementamos regresion, error cuadratico\n",
    "        # Puedes probar el método con la prueba backward de más abajo\n",
    "        #----------------------------------------------------------\n",
    "        \n",
    "        return dW1, db1, dW2, db2\n",
    "        \n",
    "    def gradient_step(self, x, t, eta):\n",
    "        dW1, db1, dW2, db2 = self.backward(x, t)\n",
    "        self.W1 -= eta*dW1\n",
    "        self.b1 -= eta*db1\n",
    "        self.W2 -= eta*dW2\n",
    "        self.b2 -= eta*db2\n",
    "\n",
    "    def mse(self, x, t):\n",
    "        _, _, _, y = self.forward(x)\n",
    "        mse = ((y - t)**2).mean(axis=1)\n",
    "        return mse\n",
    "        \n",
    "    def predict(self, x):\n",
    "      _, _, _, y = self.forward(x)\n",
    "      return y"
   ]
  },
  {
   "cell_type": "markdown",
   "metadata": {
    "id": "D-0asvsDPl5q"
   },
   "source": [
    "## <font color=\"#CA3532\">Prueba del método forward</font>"
   ]
  },
  {
   "cell_type": "code",
   "execution_count": null,
   "metadata": {
    "id": "QInfmKFWcO-8"
   },
   "outputs": [],
   "source": [
    "# Inicializamos semilla de numeros aleatorios para tener resultados\n",
    "# reproducibles:\n",
    "np.random.seed(13)\n",
    "\n",
    "# Creamos vector de entrada aleatorio, de dimension 6:\n",
    "x = np.random.randn(6, 1)\n",
    "\n",
    "# Creamos una red [6, 10, 1]:\n",
    "r = Red_1capa(6, 10, 1)\n",
    "\n",
    "# Pasamos el vector de entrada por la red (forward):\n",
    "z1, a1, z2, y = r.forward(x)\n",
    "\n",
    "# Valores esperados:\n",
    "z1_esp = np.array([[-3.30470023], [ 1.39656874], [ 0.51772763], [ 0.82245428], \n",
    "                   [ 2.2809043 ], [-2.34976199], [-2.25717525], [ 0.46073035], \n",
    "                   [ 1.7917186 ], [ 1.06203693]])\n",
    "a1_esp = np.array([[0.0354103 ], [0.80163883], [0.62661626], [0.69475707], \n",
    "                   [0.90728315], [0.08708469], [0.09473234], [0.61318742], \n",
    "                   [0.85713785], [0.74307961]])\n",
    "z2_esp = np.array([[-1.6692865]])\n",
    "y_esp = np.array([[-1.6692865]])\n",
    "\n",
    "# Comprobamos resultados:\n",
    "assert np.abs(z1 - z1_esp).max() < 1.e-6, \"el calculo de z1 es incorrecto\"\n",
    "assert np.abs(a1 - a1_esp).max() < 1.e-6, \"el calculo de a1 es incorrecto\"\n",
    "assert np.abs(z2 - z2_esp).max() < 1.e-6, \"el calculo de z2 es incorrecto\"\n",
    "assert np.abs(y - y_esp).max() < 1.e-6, \"el calculo de y es incorrecto\"\n",
    "print(\"Todo ha ido bien!!\")"
   ]
  },
  {
   "cell_type": "code",
   "execution_count": null,
   "metadata": {
    "id": "wP8mvoAq6D7n"
   },
   "outputs": [],
   "source": [
    "x = np.random.randn(10, 1000)\n",
    "\n",
    "r = Red_1capa(10, 120, 5)\n",
    "\n",
    "\n",
    "z1, a1, z2, y = r.forward(x)\n",
    "\n",
    "print(z1.shape)\n",
    "print(a1.shape)\n",
    "print(z2.shape)\n",
    "print(y.shape)"
   ]
  },
  {
   "cell_type": "markdown",
   "metadata": {
    "id": "-HunGHbYXDYx"
   },
   "source": [
    "## <font color=\"#CA3532\">Prueba del método backward</font>"
   ]
  },
  {
   "cell_type": "code",
   "execution_count": null,
   "metadata": {
    "id": "6fXAm8mtcO_A"
   },
   "outputs": [],
   "source": [
    "# Inicializamos semilla de numeros aleatorios para tener resultados\n",
    "# reproducibles:\n",
    "np.random.seed(13)\n",
    "\n",
    "# Creamos vector de entrada aleatorio, de dimension 6, y su salida t:\n",
    "x = np.random.randn(6, 1)\n",
    "t = np.random.randn(1, 1)\n",
    "\n",
    "# Creamos una red [6, 10, 1]:\n",
    "r = Red_1capa(6, 10, 1)\n",
    "\n",
    "# Hacemos la pasada backward:\n",
    "dW1, db1, dW2, db2 = r.backward(x, t)\n",
    "\n",
    "# Valores esperados:\n",
    "dW1_esp = np.array([[-0.03456892,  0.03657668, -0.00215952,  0.0219243,   0.06527136,  0.02583182],\n",
    "                    [ 0.00554692, -0.00586909,  0.00034652, -0.00351797, -0.01047344, -0.00414497],\n",
    "                    [ 0.06844172, -0.07241682,  0.00427556, -0.0434071,  -0.12922836, -0.05114346],\n",
    "                    [-0.04418377,  0.04674997, -0.00276016,  0.02802223,  0.08342566,  0.03301657],\n",
    "                    [-0.03363166,  0.03558499, -0.00210097,  0.02132987,  0.06350168,  0.02513144],\n",
    "                    [-0.03588602,  0.03797028, -0.0022418,   0.02275963,  0.06775825,  0.02681603],\n",
    "                    [ 0.02676326, -0.02831767,  0.0016719,  -0.01697379, -0.0505331,  -0.01999899],\n",
    "                    [-0.08276015,  0.08756687, -0.00517003,  0.05248814,  0.15626373,  0.06184298],\n",
    "                    [ 0.01841973, -0.01948955,  0.00115068, -0.01168216, -0.03477924, -0.01376424],\n",
    "                    [-0.03260917,  0.03450311, -0.0020371,   0.02068138,  0.06157106,  0.02436738]])\n",
    "db1_esp = np.array([[ 0.04852523], [-0.00778635], [-0.0960733 ], [ 0.06202182], \n",
    "                    [ 0.04720957], [ 0.05037407], [-0.03756823], [ 0.11617243], \n",
    "                    [-0.02585622], [ 0.04577428]])\n",
    "dW2_esp = np.array([[-0.19687788, -0.55930667, -0.05140196, -0.07724612, -0.06935545,\n",
    "                     -0.41172472, -0.49207981, -0.34880021, -0.06231879, -0.07274206]])\n",
    "db2_esp = np.array([[-0.57174568]])\n",
    "\n",
    "# Comprobamos resultados:\n",
    "assert np.abs(dW1 - dW1_esp).max() < 1.e-6, \"el calculo de dW1 es incorrecto\"\n",
    "assert np.abs(db1 - db1_esp).max() < 1.e-6, \"el calculo de db1 es incorrecto\"\n",
    "assert np.abs(dW2 - dW2_esp).max() < 1.e-6, \"el calculo de dW2 es incorrecto\"\n",
    "assert np.abs(db2 - db2_esp).max() < 1.e-6, \"el calculo de db2 es incorrecto\"\n",
    "print(\"Todo ha ido bien!!\")"
   ]
  },
  {
   "cell_type": "markdown",
   "metadata": {
    "id": "JDwaoegDkZaj"
   },
   "source": [
    "## <font color=\"#CA3532\">Ejemplo: Problema lineal 1D</font>"
   ]
  },
  {
   "cell_type": "code",
   "execution_count": null,
   "metadata": {
    "id": "VTomIkyzkghP"
   },
   "outputs": [],
   "source": [
    "# Parameters:\n",
    "a = 2.0\n",
    "b = 1.0\n",
    "xmin = 0.0\n",
    "xmax = 10.0\n",
    "noise = 2.0\n",
    "n = 1000\n",
    "\n",
    "# Randomly generated problem data:\n",
    "x = xmin + np.random.rand(1, n)*(xmax - xmin)\n",
    "t = a*x + b + np.random.randn(n)*noise"
   ]
  },
  {
   "cell_type": "code",
   "execution_count": null,
   "metadata": {
    "id": "uKkCJA9vk25q"
   },
   "outputs": [],
   "source": [
    "import matplotlib.pyplot as plt\n",
    "\n",
    "plt.figure(figsize=(6, 6))\n",
    "plt.plot(x[0], t[0], 'o')\n",
    "plt.plot([xmin, xmax], [a*xmin + b, a*xmax + b], 'r-')\n",
    "plt.grid(True)\n",
    "plt.xlabel(\"x\")\n",
    "plt.ylabel(\"t\")\n",
    "plt.show()"
   ]
  },
  {
   "cell_type": "code",
   "execution_count": null,
   "metadata": {
    "id": "uwHEB-JUlUy8"
   },
   "outputs": [],
   "source": [
    "print(x.shape)\n",
    "print(t.shape)"
   ]
  },
  {
   "cell_type": "code",
   "execution_count": null,
   "metadata": {
    "id": "4-gu6Q8Rk8nb"
   },
   "outputs": [],
   "source": [
    "model = Red_1capa(1, 10, 1)\n",
    "num_iters = 1000\n",
    "eta = 0.00001\n",
    "\n",
    "mse = []\n",
    "for i in range(num_iters):\n",
    "  model.gradient_step(x, t, eta)\n",
    "  mse.append(model.mse(x, t))"
   ]
  },
  {
   "cell_type": "code",
   "execution_count": null,
   "metadata": {
    "id": "Ns8qxYZ6oPQa"
   },
   "outputs": [],
   "source": [
    "plt.figure(figsize=(6, 4))\n",
    "plt.plot(mse)\n",
    "plt.grid(True)\n",
    "plt.xlabel(\"num. iters\")\n",
    "plt.ylabel(\"mse\")\n",
    "plt.show()"
   ]
  },
  {
   "cell_type": "code",
   "execution_count": null,
   "metadata": {
    "id": "fpccmPpbmXyL"
   },
   "outputs": [],
   "source": [
    "y = model.predict(x)\n",
    "y.shape"
   ]
  },
  {
   "cell_type": "code",
   "execution_count": null,
   "metadata": {
    "id": "YNT22oHkmSNH"
   },
   "outputs": [],
   "source": [
    "plt.figure(figsize=(6, 6))\n",
    "plt.plot(x[0], t[0], 'o')\n",
    "plt.plot([xmin, xmax], [a*xmin + b, a*xmax + b], 'r-')\n",
    "plt.plot(x[0], y[0], 'm.')\n",
    "plt.grid(True)\n",
    "plt.xlabel(\"x\")\n",
    "plt.ylabel(\"t\")\n",
    "plt.show()"
   ]
  },
  {
   "cell_type": "markdown",
   "metadata": {
    "id": "PKGT_D9KpGkb"
   },
   "source": [
    "## <font color=\"#CA3532\">Ejemplo: Problema cuadrático 1D</font>"
   ]
  },
  {
   "cell_type": "code",
   "execution_count": null,
   "metadata": {
    "id": "80IhI9DhpAsh"
   },
   "outputs": [],
   "source": [
    "# Parameters:\n",
    "xmin = -1.0\n",
    "xmax = 1.0\n",
    "noise = 0.4\n",
    "n = 1000\n",
    "\n",
    "# Randomly generated problem data:\n",
    "x = xmin + np.random.rand(1, n)*(xmax - xmin)\n",
    "t = 4*x**2 - x + 1 + np.random.randn(n)*noise"
   ]
  },
  {
   "cell_type": "code",
   "execution_count": null,
   "metadata": {
    "id": "W6P8nvs6pMhn"
   },
   "outputs": [],
   "source": [
    "print(x.shape)\n",
    "print(t.shape)"
   ]
  },
  {
   "cell_type": "code",
   "execution_count": null,
   "metadata": {
    "id": "6yaPskNspAnQ"
   },
   "outputs": [],
   "source": [
    "x_range = np.arange(xmin, xmax, 0.01)[None, :]\n",
    "ytrue = 4*x_range**2 - x_range + 1\n",
    "\n",
    "plt.figure(figsize=(6, 6))\n",
    "plt.plot(x[0], t[0], 'o', label=\"problem data\")\n",
    "plt.plot(x_range[0], ytrue[0], 'r-', label=\"true model\")\n",
    "plt.grid(True)\n",
    "plt.xlabel(\"x\")\n",
    "plt.ylabel(\"t\")\n",
    "plt.legend()\n",
    "plt.show()"
   ]
  },
  {
   "cell_type": "code",
   "execution_count": null,
   "metadata": {
    "id": "uVgNdL0wpAe8"
   },
   "outputs": [],
   "source": [
    "model = Red_1capa(1, 50, 1)\n",
    "num_iters = 1000\n",
    "eta = 0.0001\n",
    "\n",
    "mse = []\n",
    "for i in range(num_iters):\n",
    "  model.gradient_step(x, t, eta)\n",
    "  mse.append(model.mse(x, t))"
   ]
  },
  {
   "cell_type": "code",
   "execution_count": null,
   "metadata": {
    "id": "p0ze2oyFpmSn"
   },
   "outputs": [],
   "source": [
    "plt.figure(figsize=(6, 4))\n",
    "plt.plot(mse)\n",
    "plt.grid(True)\n",
    "plt.xlabel(\"num. iters\")\n",
    "plt.ylabel(\"mse\")\n",
    "plt.show()"
   ]
  },
  {
   "cell_type": "code",
   "execution_count": null,
   "metadata": {
    "id": "LpafJDZppysp"
   },
   "outputs": [],
   "source": [
    "y = model.predict(x)\n",
    "y.shape"
   ]
  },
  {
   "cell_type": "code",
   "execution_count": null,
   "metadata": {
    "id": "H_doQ2JDpyg-"
   },
   "outputs": [],
   "source": [
    "plt.figure(figsize=(6, 6))\n",
    "plt.plot(x[0], t[0], 'o', label=\"problem data\")\n",
    "plt.plot(x_range[0], ytrue[0], 'r-', label=\"true model\")\n",
    "plt.plot(x[0], y[0], 'm.')\n",
    "plt.grid(True)\n",
    "plt.xlabel(\"x\")\n",
    "plt.ylabel(\"t\")\n",
    "plt.show()"
   ]
  },
  {
   "cell_type": "markdown",
   "metadata": {
    "id": "7uwP6KLQc2qn"
   },
   "source": [
    "## <font color=\"#CA3532\">Ejercicio 1</font>\n",
    "\n",
    "Aplica la red neuronal anterior al problema California Housing (ver notebook ``02_lin_reg_exercise.ipynb``) y compara los resultados con los obtenidos con el modelo lineal. "
   ]
  },
  {
   "cell_type": "code",
   "execution_count": null,
   "metadata": {
    "id": "p2SpX_KAJSml"
   },
   "outputs": [],
   "source": [
    "from sklearn.datasets import fetch_california_housing\n",
    "\n",
    "x, t = fetch_california_housing(return_X_y=True, as_frame=True)\n",
    "print(x.shape)\n",
    "print(t.shape)"
   ]
  },
  {
   "cell_type": "code",
   "execution_count": null,
   "metadata": {
    "id": "FpEnOEyBJSg6"
   },
   "outputs": [],
   "source": [
    "x = x.values[:1000]\n",
    "t = t.values[:1000]\n",
    "t = t[:, None]\n",
    "\n",
    "print(x.shape)\n",
    "print(t.shape)"
   ]
  },
  {
   "cell_type": "code",
   "execution_count": null,
   "metadata": {
    "id": "uTHthvbbJSbG"
   },
   "outputs": [],
   "source": [
    "# Estandarizar los datos:\n",
    "from sklearn.preprocessing import StandardScaler\n",
    "scaler = StandardScaler()\n",
    "x = scaler.fit_transform(x)"
   ]
  },
  {
   "cell_type": "code",
   "execution_count": null,
   "metadata": {
    "id": "mfeg29R4JSSB"
   },
   "outputs": [],
   "source": [
    "x = x.T\n",
    "t = t.T\n",
    "\n",
    "print(x.shape)\n",
    "print(t.shape)"
   ]
  },
  {
   "cell_type": "code",
   "execution_count": null,
   "metadata": {
    "id": "MkQ4JZFgKLMX"
   },
   "outputs": [],
   "source": [
    "model = Red_1capa(8, 128, 1)\n",
    "num_iters = 500\n",
    "eta = 0.0001\n",
    "\n",
    "mse = []\n",
    "for i in range(num_iters):\n",
    "  model.gradient_step(x, t, eta)\n",
    "  mse.append(model.mse(x, t))"
   ]
  },
  {
   "cell_type": "code",
   "execution_count": null,
   "metadata": {
    "id": "SMfM_yHGKjFW"
   },
   "outputs": [],
   "source": [
    "plt.figure(figsize=(6, 6))\n",
    "plt.plot(mse)\n",
    "plt.grid(True)\n",
    "plt.xlabel(\"num. iters\")\n",
    "plt.ylabel(\"mse\")\n",
    "plt.show()"
   ]
  },
  {
   "cell_type": "code",
   "execution_count": null,
   "metadata": {
    "id": "RbR15t6lK7F7"
   },
   "outputs": [],
   "source": [
    "# Grafica de y frente a t:\n",
    "y = model.predict(x)\n",
    "\n",
    "tmin = 0\n",
    "tmax = 5.5\n",
    "\n",
    "print(t.shape)\n",
    "print(y.shape)\n",
    "\n",
    "plt.figure(figsize=(6, 6))\n",
    "plt.plot(t[0], y[0], 'o')\n",
    "plt.plot([tmin, tmax], [tmin, tmax], 'r-')\n",
    "plt.grid(True)\n",
    "plt.xlabel(\"t\")\n",
    "plt.ylabel(\"y\")\n",
    "plt.show()\n",
    "\n",
    "# Error:\n",
    "e = np.sum((y-t)*(y-t))  \n",
    "print(\"Error = %f\" % e)"
   ]
  },
  {
   "cell_type": "markdown",
   "metadata": {
    "id": "RKVa4SpGMSk5"
   },
   "source": [
    "## <font color=\"#CA3532\">Ejercicio 2</font>\n",
    "\n",
    "Programa una clase Red con dos capas ocultas, aplícala al problema California Housing (ver notebook ``02_lin_reg_exercise.ipynb``) y compara los resultados con los obtenidos con el modelo lineal y la red con una sola capa oculta. "
   ]
  },
  {
   "cell_type": "code",
   "execution_count": null,
   "metadata": {
    "id": "tnbZOG-WLZ5G"
   },
   "outputs": [],
   "source": [
    "class Red_2capas(object):\n",
    "\n",
    "    def __init__(self, d0=2, d1=10, d2=10, d3=1):\n",
    "        self.W1 = np.random.randn(d1, d0)\n",
    "        self.W2 = np.random.randn(d2, d1)\n",
    "        self.W3 = np.random.randn(d3, d2)\n",
    "        self.b1 = np.random.randn(d1, 1)\n",
    "        self.b2 = np.random.randn(d2, 1)\n",
    "        self.b3 = np.random.randn(d3, 1)\n",
    "        \n",
    "    def forward(self, x):\n",
    "        #----------------------------------------------------------\n",
    "        # TO-DO:\n",
    "        # x tiene que tener dimensiones (d0xn)\n",
    "        # Implementamos regresion\n",
    "        #----------------------------------------------------------\n",
    "        \n",
    "        return z1, a1, z2, a2, z3, y\n",
    "    \n",
    "    def backward(self, x, t):\n",
    "        z1, a1, z2, a2, z3, a3 = self.forward(x)\n",
    "        \n",
    "        #----------------------------------------------------------\n",
    "        # TO-DO:\n",
    "        # x tiene que tener dimensiones (d0xn)\n",
    "        # t tiene que tener dimensiones (d2xn)\n",
    "        # Implementamos regresion, error cuadratico\n",
    "        #----------------------------------------------------------\n",
    "        \n",
    "        return dW1, db1, dW2, db2, dW3, db3\n",
    "        \n",
    "    def gradient_step(self, x, t, eta):\n",
    "        dW1, db1, dW2, db2, dW3, db3 = self.backward(x, t)\n",
    "        self.W1 -= eta*dW1\n",
    "        self.b1 -= eta*db1\n",
    "        self.W2 -= eta*dW2\n",
    "        self.b2 -= eta*db2\n",
    "        self.W3 -= eta*dW3\n",
    "        self.b3 -= eta*db3\n",
    "\n",
    "    def predict(self, x):\n",
    "        _, _, _, _, _, y = self.forward(x)\n",
    "        return y\n",
    "\n",
    "    def mse(self, x, t):\n",
    "        _, _, _, _, _, y = self.forward(x)\n",
    "        mse = ((y - t)**2).mean(axis=1)\n",
    "        return mse        "
   ]
  },
  {
   "cell_type": "code",
   "execution_count": null,
   "metadata": {
    "id": "jbcShqJxQDuf"
   },
   "outputs": [],
   "source": [
    "model = Red_2capas(8, 30, 15, 1)\n",
    "num_iters = 1000\n",
    "eta = 0.0001\n",
    "\n",
    "mse = []\n",
    "for i in range(num_iters):\n",
    "  model.gradient_step(x, t, eta)\n",
    "  mse.append(model.mse(x, t))"
   ]
  },
  {
   "cell_type": "code",
   "execution_count": null,
   "metadata": {
    "id": "aYnSKK6NQROF"
   },
   "outputs": [],
   "source": [
    "plt.figure(figsize=(6, 6))\n",
    "plt.plot(mse)\n",
    "plt.grid(True)\n",
    "plt.xlabel(\"num. iters\")\n",
    "plt.ylabel(\"mse\")\n",
    "plt.show()"
   ]
  },
  {
   "cell_type": "code",
   "execution_count": null,
   "metadata": {
    "id": "pGCT0G-wQisG"
   },
   "outputs": [],
   "source": [
    "# Grafica de y frente a t:\n",
    "y = model.predict(x)\n",
    "\n",
    "tmin = 0\n",
    "tmax = 5.5\n",
    "\n",
    "print(t.shape)\n",
    "print(y.shape)\n",
    "\n",
    "plt.figure(figsize=(6, 6))\n",
    "plt.plot(t[0], y[0], 'o')\n",
    "plt.plot([tmin, tmax], [tmin, tmax], 'r-')\n",
    "plt.grid(True)\n",
    "plt.xlabel(\"t\")\n",
    "plt.ylabel(\"y\")\n",
    "plt.show()\n",
    "\n",
    "# Error:\n",
    "e = np.sum((y-t)*(y-t))  \n",
    "print(\"Error = %f\" % e)"
   ]
  },
  {
   "cell_type": "markdown",
   "metadata": {
    "id": "UpIiTkOTBADo"
   },
   "source": [
    "# <font color=\"#CA3532\">Implementación de una red neuronal para problemas de clasificación</font>"
   ]
  },
  {
   "cell_type": "code",
   "execution_count": null,
   "metadata": {
    "id": "FcMY7DpbDZEJ"
   },
   "outputs": [],
   "source": [
    "def accuracy(y, t):\n",
    "  pred = y > 0.5\n",
    "  return np.mean(pred == t)"
   ]
  },
  {
   "cell_type": "code",
   "execution_count": null,
   "metadata": {
    "id": "n9fL8aFhDazb"
   },
   "outputs": [],
   "source": [
    "def cross_entropy(y, t):\n",
    "  loss = np.mean(-t*np.log(y) - (1.-t)*np.log(1.-y))\n",
    "  return loss"
   ]
  },
  {
   "cell_type": "markdown",
   "metadata": {
    "id": "K3fSjrwVBEkC"
   },
   "source": [
    "La única diferencia entre una red neuronal para regresión o clasificación es la función de activación de la última capa de la red."
   ]
  },
  {
   "cell_type": "code",
   "execution_count": null,
   "metadata": {
    "id": "-SZTPLLYQpY_"
   },
   "outputs": [],
   "source": [
    "class Red_1capa(object):\n",
    "\n",
    "    def __init__(self, d0=2, d1=10, d2=1):\n",
    "        self.W1 = np.random.randn(d1, d0)\n",
    "        self.W2 = np.random.randn(d2, d1)\n",
    "        self.b1 = np.random.randn(d1, 1)\n",
    "        self.b2 = np.random.randn(d2, 1)\n",
    "        \n",
    "    def forward(self, x):\n",
    "        #----------------------------------------------------------\n",
    "        # TO-DO:\n",
    "        # x tiene que tener dimensiones (d0xn)\n",
    "        # Implementamos clasificacion\n",
    "        #----------------------------------------------------------\n",
    "        \n",
    "        return z1, a1, z2, y\n",
    "    \n",
    "    def backward(self, x, t):\n",
    "        z1, a1, z2, a2 = self.forward(x)\n",
    "        \n",
    "        #----------------------------------------------------------\n",
    "        # TO-DO:\n",
    "        # x tiene que tener dimensiones (d0xn)\n",
    "        # t tiene que tener dimensiones (d2xn)\n",
    "        # Implementamos clasificacion, cross-entropy\n",
    "        #----------------------------------------------------------\n",
    "        \n",
    "        return dW1, db1, dW2, db2\n",
    "        \n",
    "    def gradient_step(self, x, t, eta):\n",
    "        dW1, db1, dW2, db2 = self.backward(x, t)\n",
    "        self.W1 -= eta*dW1\n",
    "        self.b1 -= eta*db1\n",
    "        self.W2 -= eta*dW2\n",
    "        self.b2 -= eta*db2\n",
    "\n",
    "    def predict(self, x):\n",
    "        _, _, _, y = self.forward(x)\n",
    "        return y\n",
    "\n",
    "    def loss(self, x, t):\n",
    "        y = self.predict(x)\n",
    "        return cross_entropy(y, t)\n",
    "\n",
    "    def accuracy(self, x, t):\n",
    "        y = self.predict(x)\n",
    "        return accuracy(y, t)"
   ]
  },
  {
   "cell_type": "markdown",
   "metadata": {
    "id": "5gp1H2EjCdm6"
   },
   "source": [
    "## <font color=\"#CA3532\">Breast Cancer Wisconsin</font>"
   ]
  },
  {
   "cell_type": "code",
   "execution_count": null,
   "metadata": {
    "id": "JQ46Lba7CiLt"
   },
   "outputs": [],
   "source": [
    "from sklearn.datasets import load_breast_cancer"
   ]
  },
  {
   "cell_type": "code",
   "execution_count": null,
   "metadata": {
    "id": "hu6powbsCjce"
   },
   "outputs": [],
   "source": [
    "data = load_breast_cancer()"
   ]
  },
  {
   "cell_type": "code",
   "execution_count": null,
   "metadata": {
    "id": "qpMFKFxjCkmT"
   },
   "outputs": [],
   "source": [
    "x = data.data\n",
    "t = data.target[:, None]\n",
    "\n",
    "print(x.shape)\n",
    "print(t.shape)"
   ]
  },
  {
   "cell_type": "markdown",
   "metadata": {
    "id": "QgItqO-SCnuw"
   },
   "source": [
    "La clase $t$ toma dos posibles valores (0 y 1):"
   ]
  },
  {
   "cell_type": "code",
   "execution_count": null,
   "metadata": {
    "id": "V45y8GCWCokw"
   },
   "outputs": [],
   "source": [
    "print(np.unique(t))\n",
    "print(np.sum(t == 0))\n",
    "print(np.sum(t == 1))"
   ]
  },
  {
   "cell_type": "code",
   "execution_count": null,
   "metadata": {
    "id": "eUN-57rJCsW1"
   },
   "outputs": [],
   "source": [
    "from sklearn.model_selection import train_test_split"
   ]
  },
  {
   "cell_type": "code",
   "execution_count": null,
   "metadata": {
    "id": "3FyIc916Ctdz"
   },
   "outputs": [],
   "source": [
    "# Particion entrenamiento-test:\n",
    "x_train, x_test, t_train, t_test = train_test_split(x, t, test_size=0.33, random_state=42)\n",
    "x_train = x_train\n",
    "x_test = x_test\n",
    "t_train = t_train\n",
    "t_test = t_test"
   ]
  },
  {
   "cell_type": "code",
   "execution_count": null,
   "metadata": {
    "id": "SPLXoaf2Culs"
   },
   "outputs": [],
   "source": [
    "print(x_train.shape)\n",
    "print(x_test.shape)\n",
    "print(t_train.shape)\n",
    "print(t_test.shape)"
   ]
  },
  {
   "cell_type": "code",
   "execution_count": null,
   "metadata": {
    "id": "gOqhl3jtCxFV"
   },
   "outputs": [],
   "source": [
    "# Estandarizar los datos\n",
    "media = x_train.mean(axis=0, keepdims=True)\n",
    "std = x_train.std(axis=0, keepdims=True)\n",
    "\n",
    "x_train = (x_train - media) / std\n",
    "x_test = (x_test - media) / std # Se estandariza con la media y std de training"
   ]
  },
  {
   "cell_type": "code",
   "execution_count": null,
   "metadata": {
    "id": "WweR5iGBDI3-"
   },
   "outputs": [],
   "source": [
    "x_train = x_train.T\n",
    "x_test = x_test.T\n",
    "t_train = t_train.T\n",
    "t_test = t_test.T"
   ]
  },
  {
   "cell_type": "markdown",
   "metadata": {
    "id": "OHnl4Ui4CPzc"
   },
   "source": [
    "### <font color=\"#CA3532\">Ejercicio 3</font>\n",
    "\n",
    "Aplica la red neuronal anterior al problema Breast Cancer Wisconsin (ver notebook ``03_log_reg_exercise.ipynb``) y compara los resultados con los obtenidos con el modelo lineal."
   ]
  },
  {
   "cell_type": "code",
   "execution_count": null,
   "metadata": {
    "id": "fqqZtZx2CJvr"
   },
   "outputs": [],
   "source": [
    "model = Red_1capa(30, 10, 1)\n",
    "num_iters = 1000\n",
    "eta = 0.001\n",
    "\n",
    "loss_train = []\n",
    "loss_test = []\n",
    "acc_train = []\n",
    "acc_test = []\n",
    "for i in range(num_iters):\n",
    "  model.gradient_step(x_train, t_train, eta)\n",
    "  loss_train.append(model.loss(x_train, t_train))\n",
    "  acc_train.append(model.accuracy(x_train, t_train))\n",
    "  loss_test.append(model.loss(x_test, t_test))\n",
    "  acc_test.append(model.accuracy(x_test, t_test))"
   ]
  },
  {
   "cell_type": "code",
   "execution_count": null,
   "metadata": {
    "id": "Bk3PCwzkC-MB"
   },
   "outputs": [],
   "source": [
    "plt.figure(figsize=(12, 4))\n",
    "plt.subplot(1, 2, 1)\n",
    "plt.plot(range(num_iters), loss_train, label=\"train\")\n",
    "plt.plot(range(num_iters), loss_test, label=\"test\")\n",
    "plt.grid(True)\n",
    "plt.xlabel(\"epoch\")\n",
    "plt.ylabel(\"loss\")\n",
    "plt.legend()\n",
    "\n",
    "plt.subplot(1,2,2)\n",
    "plt.plot(range(num_iters), acc_train, label=\"train\")\n",
    "plt.plot(range(num_iters), acc_test, label=\"test\")\n",
    "plt.grid(True)\n",
    "plt.xlabel(\"epoch\")\n",
    "plt.ylabel(\"acc\")\n",
    "plt.legend()\n",
    "plt.show()"
   ]
  },
  {
   "cell_type": "code",
   "execution_count": null,
   "metadata": {
    "id": "vL5EyK1REH12"
   },
   "outputs": [],
   "source": [
    "acc_test[-1]"
   ]
  },
  {
   "cell_type": "markdown",
   "metadata": {
    "id": "xzwIisHNEh-V"
   },
   "source": [
    "### <font color=\"#CA3532\">Ejercicio 4</font>\n",
    "\n",
    "Entrenar una red con 2 neuronas en la capa oculta para poder dibujar la frontera de decisión del modelo en la capa intermedia."
   ]
  },
  {
   "cell_type": "code",
   "execution_count": null,
   "metadata": {
    "id": "gjS4LD0xEZ17"
   },
   "outputs": [],
   "source": [
    "model = Red_1capa(30, 2, 1)\n",
    "num_iters = 2000\n",
    "eta = 0.001\n",
    "\n",
    "loss_train = []\n",
    "loss_test = []\n",
    "acc_train = []\n",
    "acc_test = []\n",
    "for i in range(num_iters):\n",
    "  model.gradient_step(x_train, t_train, eta)\n",
    "  loss_train.append(model.loss(x_train, t_train))\n",
    "  acc_train.append(model.accuracy(x_train, t_train))\n",
    "  loss_test.append(model.loss(x_test, t_test))\n",
    "  acc_test.append(model.accuracy(x_test, t_test))"
   ]
  },
  {
   "cell_type": "code",
   "execution_count": null,
   "metadata": {
    "id": "bz02T2R3Ev6l"
   },
   "outputs": [],
   "source": [
    "plt.figure(figsize=(12, 4))\n",
    "plt.subplot(1, 2, 1)\n",
    "plt.plot(range(num_iters), loss_train, label=\"train\")\n",
    "plt.plot(range(num_iters), loss_test, label=\"test\")\n",
    "plt.grid(True)\n",
    "plt.xlabel(\"epoch\")\n",
    "plt.ylabel(\"loss\")\n",
    "plt.legend()\n",
    "\n",
    "plt.subplot(1,2,2)\n",
    "plt.plot(range(num_iters), acc_train, label=\"train\")\n",
    "plt.plot(range(num_iters), acc_test, label=\"test\")\n",
    "plt.grid(True)\n",
    "plt.xlabel(\"epoch\")\n",
    "plt.ylabel(\"acc\")\n",
    "plt.legend()\n",
    "plt.show()"
   ]
  },
  {
   "cell_type": "code",
   "execution_count": null,
   "metadata": {
    "id": "pTfTDlpwEwfC"
   },
   "outputs": [],
   "source": [
    "acc_test[-1]"
   ]
  },
  {
   "cell_type": "markdown",
   "metadata": {
    "id": "adl1Hf5-E3aP"
   },
   "source": [
    "Recordatorio: Para dibujar la frontera de decisión en 2D, se calcula una malla con la función *meshgrid* de numpy. Esta función de da los pares de puntos a imprimir en un plot con la función *contourf*. Además, hay que calcular el valor de cada punto, por lo que hay que procesarlos con el modelo ya entrenado."
   ]
  },
  {
   "cell_type": "markdown",
   "metadata": {
    "id": "5QjXSL-4FCVI"
   },
   "source": [
    "En este caso, a diferencia de lo que hicimos en el notebook 03, lo que queremos es analizar la capa intermedia, no directamente la entrada. Primero necesitamos extraer la activación de esa capa."
   ]
  },
  {
   "cell_type": "code",
   "execution_count": null,
   "metadata": {
    "id": "lfaZCR0aFTty"
   },
   "outputs": [],
   "source": [
    "_, h_train, _, _ = model.forward(x_train)\n",
    "_, h_test, _, _ = model.forward(x_test)\n",
    "print(h_train.shape, h_test.shape)"
   ]
  },
  {
   "cell_type": "code",
   "execution_count": null,
   "metadata": {
    "id": "_qoU8M1aEyOX"
   },
   "outputs": [],
   "source": [
    "xx, yy = np.meshgrid(np.arange(h_train[0, :].min()-0.2, h_train[0, :].max()+0.2, 0.1), \n",
    "                     np.arange(h_train[1, :].min()-0.2, h_train[1, :].max()+0.2, 0.1))\n",
    "xy = np.concatenate([xx.reshape([1, -1]), yy.reshape([1, -1])],axis=0)\n",
    "xy.shape"
   ]
  },
  {
   "cell_type": "code",
   "execution_count": null,
   "metadata": {
    "id": "5MEz1P_JFo9r"
   },
   "outputs": [],
   "source": [
    "z2 = model.W2 @ xy + model.b2\n",
    "z2 = sigmoid(z2)\n",
    "z2.shape"
   ]
  },
  {
   "cell_type": "code",
   "execution_count": null,
   "metadata": {
    "id": "rd2BlEJDF6lx"
   },
   "outputs": [],
   "source": [
    "plt.figure(figsize=(8, 4))\n",
    "\n",
    "plt.contourf(xx, yy, z2[0, :].reshape(xx.shape), 100, cmap=\"bwr\", alpha=0.4, vmin=0.0, vmax=1.0)\n",
    "\n",
    "plt.plot(h_test[0, t_test.ravel()==0], h_test[1, t_test.ravel()==0], 'o', label=\"Clase 0\", color='blue', alpha=0.5)\n",
    "plt.plot(h_test[0, t_test.ravel()==1], h_test[1, t_test.ravel()==1], 'o', label=\"Clase 1\", color='red', alpha=0.5)\n",
    "\n",
    "plt.title(\"Probabilidad de Clase 1\")\n",
    "plt.xlabel(\"N-0\")\n",
    "plt.ylabel(\"N-1\")\n",
    "plt.grid(True)     \n",
    "plt.legend(loc=2)\n",
    "plt.colorbar()\n",
    "plt.show()"
   ]
  },
  {
   "cell_type": "markdown",
   "metadata": {
    "id": "D3wB-kdAHtNv"
   },
   "source": [
    "## <font color=\"#CA3532\">Iris dataset</font>"
   ]
  },
  {
   "cell_type": "code",
   "execution_count": null,
   "metadata": {
    "id": "fvsOOcGeHkDp"
   },
   "outputs": [],
   "source": [
    "from sklearn.datasets import load_iris\n",
    "iris = load_iris()"
   ]
  },
  {
   "cell_type": "markdown",
   "metadata": {
    "id": "KtDK4syeHyBo"
   },
   "source": [
    "Preparación de los datos considerando exclusivamente las dos últimas dimensiones del problema (longitud y anchura del pétalo). Esto nos permite visualizar el modelo en 2D."
   ]
  },
  {
   "cell_type": "code",
   "execution_count": null,
   "metadata": {
    "id": "VlMS7RZtHwUQ"
   },
   "outputs": [],
   "source": [
    "x = iris.data[:, -2:]\n",
    "t = iris.target\n",
    "[n, d] = x.shape"
   ]
  },
  {
   "cell_type": "markdown",
   "metadata": {
    "id": "wxe0MUNoH0ua"
   },
   "source": [
    "Los datos del problema están ordenados. Para evitar sesgos conviene desordenarlos."
   ]
  },
  {
   "cell_type": "code",
   "execution_count": null,
   "metadata": {
    "id": "mEJcZ8hcHzcg"
   },
   "outputs": [],
   "source": [
    "p = np.random.permutation(n)\n",
    "x = x[p, :]\n",
    "t = t[p]\n",
    "t = t[:, None]\n",
    "print(x.shape, t.shape)"
   ]
  },
  {
   "cell_type": "markdown",
   "metadata": {
    "id": "gHOB4OH0H3dz"
   },
   "source": [
    "Ahora imprimimos los datos en 2D. Se puede ver que los dos atributos seleccionados distinguen relativamente bien las tres clases."
   ]
  },
  {
   "cell_type": "code",
   "execution_count": null,
   "metadata": {
    "id": "YO1_tfN8H0QJ"
   },
   "outputs": [],
   "source": [
    "plt.figure(figsize=(5, 5))\n",
    "\n",
    "plt.plot(x[t.ravel()==0, 0], x[t.ravel()==0, 1], 'o', label=iris.target_names[0], color='#993300')\n",
    "plt.plot(x[t.ravel()==1, 0], x[t.ravel()==1, 1], 'o', label=iris.target_names[1], color='#009933')\n",
    "plt.plot(x[t.ravel()==2, 0], x[t.ravel()==2, 1], 'o', label=iris.target_names[2], color='#000099')\n",
    "\n",
    "plt.xlabel(iris.feature_names[2])\n",
    "plt.ylabel(iris.feature_names[3])\n",
    "plt.grid(True)\n",
    "      \n",
    "plt.legend(loc=2)\n",
    "plt.show()"
   ]
  },
  {
   "cell_type": "markdown",
   "metadata": {
    "id": "YJ-ie8Z3H7uz"
   },
   "source": [
    "Separamos el dataset en training-test para preparar los datos de los ejercicios:"
   ]
  },
  {
   "cell_type": "code",
   "execution_count": null,
   "metadata": {
    "id": "bDkeC879H4h2"
   },
   "outputs": [],
   "source": [
    "# Particion entrenamiento-test:\n",
    "x_train, x_test, t_train, t_test = train_test_split(x, t, test_size=0.33, random_state=42)\n",
    "x_train = x_train\n",
    "x_test = x_test\n",
    "t_train = t_train\n",
    "t_test = t_test"
   ]
  },
  {
   "cell_type": "code",
   "execution_count": null,
   "metadata": {
    "id": "mBPtzA5NH9fM"
   },
   "outputs": [],
   "source": [
    "print(x_train.shape)\n",
    "print(x_test.shape)\n",
    "print(t_train.shape)\n",
    "print(t_test.shape)"
   ]
  },
  {
   "cell_type": "code",
   "execution_count": null,
   "metadata": {
    "id": "2vAh9Gd4jfDi"
   },
   "outputs": [],
   "source": [
    "# Estandarizar los datos\n",
    "media = x_train.mean(axis=0, keepdims=True)\n",
    "std = x_train.std(axis=0, keepdims=True)\n",
    "\n",
    "x_train = (x_train - media) / std\n",
    "x_test = (x_test - media) / std # Se estandariza con la media y std de training"
   ]
  },
  {
   "cell_type": "markdown",
   "metadata": {
    "id": "Yp9qRELPIQwJ"
   },
   "source": [
    "Los siguientes ejercicios nos valdrán para comparar un modelo de regresión logística, que es equivalente a una red neuronal con cero capas ocultas y una única neurona de salida (ver notebook ``03_log_reg_exercise.ipynb``) con una red neuronal con mayor capacidad."
   ]
  },
  {
   "cell_type": "markdown",
   "metadata": {
    "id": "2XZNrQELIBSi"
   },
   "source": [
    "### <font color=\"#CA3532\">Ejercicio 5</font>\n",
    "\n",
    "5.1. Crear un modelo de red neuronal que aprenda a diferenciar la subespecie setosa de las demás subespecies del dataset.\n",
    "\n",
    "5.2. Visualizar la frontera de decisión del modelo."
   ]
  },
  {
   "cell_type": "code",
   "execution_count": null,
   "metadata": {
    "id": "oIM-wmjhH-ML"
   },
   "outputs": [],
   "source": [
    "clase_setosa = np.where(iris.target_names == 'setosa')[0][0]\n",
    "clase_setosa"
   ]
  },
  {
   "cell_type": "code",
   "execution_count": null,
   "metadata": {
    "id": "WbSWCklWIhl5"
   },
   "outputs": [],
   "source": [
    "x_train_e5 = x_train\n",
    "x_test_e5 = x_test\n",
    "\n",
    "# Tenemos que quedarnos con la clase setosa como clase target (1) y el resto reetiquetarlas como no-target (0).\n",
    "t_train_e5 = (t_train == clase_setosa) * 1\n",
    "t_test_e5 = (t_test == clase_setosa) * 1"
   ]
  },
  {
   "cell_type": "code",
   "execution_count": null,
   "metadata": {
    "id": "icOfHgK1IkqD"
   },
   "outputs": [],
   "source": [
    "plt.figure(figsize=(12, 4))\n",
    "plt.subplot(1,2,1)\n",
    "plt.title(\"Training\", size=18)\n",
    "plt.plot(x_train_e5[(t_train_e5==1)[:, 0], 0], x_train_e5[(t_train_e5==1)[:, 0], 1], 'o', label=iris.target_names[0], color='red')\n",
    "plt.plot(x_train_e5[(t_train_e5==0)[:, 0], 0], x_train_e5[(t_train_e5==0)[:, 0], 1], 'o', label=\"others\", color='blue')\n",
    "plt.xlabel(iris.feature_names[2])\n",
    "plt.ylabel(iris.feature_names[3])\n",
    "plt.grid(True)\n",
    "plt.legend(loc=2)\n",
    "\n",
    "plt.subplot(1,2,2)\n",
    "plt.title(\"Test\", size=18)\n",
    "plt.plot(x_test_e5[(t_test_e5==1)[:, 0], 0], x_test_e5[(t_test_e5==1)[:, 0], 1], 'o', label=iris.target_names[0], color='red')\n",
    "plt.plot(x_test_e5[(t_test_e5==0)[:, 0], 0], x_test_e5[(t_test_e5==0)[:, 0], 1], 'o', label=\"others\", color='blue')\n",
    "plt.xlabel(iris.feature_names[2])\n",
    "plt.ylabel(iris.feature_names[3])\n",
    "plt.grid(True)\n",
    "plt.legend(loc=2)\n",
    "plt.show()"
   ]
  },
  {
   "cell_type": "code",
   "execution_count": null,
   "metadata": {
    "id": "PTaoi5hrJHvf"
   },
   "outputs": [],
   "source": [
    "x_train_e5 = x_train_e5.T\n",
    "t_train_e5 = t_train_e5.T\n",
    "x_test_e5 = x_test_e5.T\n",
    "t_test_e5 = t_test_e5.T"
   ]
  },
  {
   "cell_type": "code",
   "execution_count": null,
   "metadata": {
    "id": "3GBkUdINIqbP"
   },
   "outputs": [],
   "source": [
    "# Entrenamiento del modelo:\n",
    "\n",
    "model = Red_1capa(2, 5, 1)\n",
    "num_iters = 500\n",
    "eta = 0.01\n",
    "\n",
    "loss_train = []\n",
    "loss_test = []\n",
    "acc_train = []\n",
    "acc_test = []\n",
    "for i in range(num_iters):\n",
    "  model.gradient_step(x_train_e5, t_train_e5, eta)\n",
    "  loss_train.append(model.loss(x_train_e5, t_train_e5))\n",
    "  acc_train.append(model.accuracy(x_train_e5, t_train_e5))\n",
    "  loss_test.append(model.loss(x_test_e5, t_test_e5))\n",
    "  acc_test.append(model.accuracy(x_test_e5, t_test_e5))"
   ]
  },
  {
   "cell_type": "code",
   "execution_count": null,
   "metadata": {
    "id": "XpC2x4K5I1I2"
   },
   "outputs": [],
   "source": [
    "plt.figure(figsize=(12, 4))\n",
    "plt.subplot(1, 2, 1)\n",
    "plt.plot(range(num_iters), loss_train, label=\"train\")\n",
    "plt.plot(range(num_iters), loss_test, label=\"test\")\n",
    "plt.grid(True)\n",
    "plt.xlabel(\"epoch\")\n",
    "plt.ylabel(\"loss\")\n",
    "plt.legend()\n",
    "\n",
    "plt.subplot(1,2,2)\n",
    "plt.plot(range(num_iters), acc_train, label=\"train\")\n",
    "plt.plot(range(num_iters), acc_test, label=\"test\")\n",
    "plt.grid(True)\n",
    "plt.xlabel(\"epoch\")\n",
    "plt.ylabel(\"acc\")\n",
    "plt.legend()\n",
    "plt.show()"
   ]
  },
  {
   "cell_type": "code",
   "execution_count": null,
   "metadata": {
    "id": "DBf8ORLvJSXY"
   },
   "outputs": [],
   "source": [
    "acc_test[-1]"
   ]
  },
  {
   "cell_type": "code",
   "execution_count": null,
   "metadata": {
    "id": "lvXRI6ItJZ7M"
   },
   "outputs": [],
   "source": [
    "xx, yy = np.meshgrid(np.arange(x_train_e5[0, :].min()-0.2, x_train_e5[0, :].max()+0.2, 0.1), \n",
    "                     np.arange(x_train_e5[1, :].min()-0.2, x_train_e5[1, :].max()+0.2, 0.1))\n",
    "xy = np.concatenate([xx.reshape([1, -1]), yy.reshape([1, -1])],axis=0).T\n",
    "xy.shape"
   ]
  },
  {
   "cell_type": "code",
   "execution_count": null,
   "metadata": {
    "id": "rY1hZRVYJfkG"
   },
   "outputs": [],
   "source": [
    "z = model.predict(xy.T).T\n",
    "z.shape"
   ]
  },
  {
   "cell_type": "code",
   "execution_count": null,
   "metadata": {
    "id": "IyldTL4DJov0"
   },
   "outputs": [],
   "source": [
    "plt.figure(figsize=(8, 4))\n",
    "\n",
    "plt.contourf(xx, yy, z[:, 0].reshape(xx.shape), 100, cmap=\"bwr\", alpha=0.4, vmin=0.0, vmax=1.0)\n",
    "\n",
    "plt.plot(x_test_e5[0, t_test_e5.ravel()==0], x_test_e5[1, t_test_e5.ravel()==0], 'o', label=\"others\", color='blue')\n",
    "plt.plot(x_test_e5[0, t_test_e5.ravel()==1], x_test_e5[1, t_test_e5.ravel()==1], 'o', label=\"setosa\", color='red')\n",
    "\n",
    "plt.xlabel(iris.feature_names[2])\n",
    "plt.ylabel(iris.feature_names[3])\n",
    "plt.grid(True)     \n",
    "plt.legend(loc=2)\n",
    "plt.colorbar()\n",
    "plt.show()"
   ]
  },
  {
   "cell_type": "markdown",
   "metadata": {
    "id": "gXSizSaXLHBU"
   },
   "source": [
    "### <font color=\"#CA3532\">Ejercicio 6</font>\n",
    "\n",
    "6.1. Crear un modelo de red neuronal que aprenda a diferenciar la subespecie versicolor de las demás subespecies del dataset.\n",
    "\n",
    "6.2. Visualizar la frontera de decisión del modelo."
   ]
  },
  {
   "cell_type": "code",
   "execution_count": null,
   "metadata": {
    "id": "uwmhBUpLJx4K"
   },
   "outputs": [],
   "source": [
    "clase_versicolor = np.where(iris.target_names == 'versicolor')[0][0]\n",
    "clase_versicolor"
   ]
  },
  {
   "cell_type": "code",
   "execution_count": null,
   "metadata": {
    "id": "7-T48ZIqLRvn"
   },
   "outputs": [],
   "source": [
    "x_train_e6 = x_train\n",
    "x_test_e6 = x_test\n",
    "\n",
    "# Tenemos que quedarnos con la clase versicolor como clase target (1) y el resto reetiquetarlas como no-target (0).\n",
    "t_train_e6 = (t_train == clase_versicolor) * 1\n",
    "t_test_e6 = (t_test == clase_versicolor) * 1"
   ]
  },
  {
   "cell_type": "code",
   "execution_count": null,
   "metadata": {
    "id": "H7T2RjhELS97"
   },
   "outputs": [],
   "source": [
    "plt.figure(figsize=(12, 4))\n",
    "plt.subplot(1,2,1)\n",
    "plt.title(\"Training\", size=18)\n",
    "plt.plot(x_train_e6[(t_train_e6==1)[:, 0], 0], x_train_e6[(t_train_e6==1)[:, 0], 1], 'o', label=iris.target_names[1], color='red')\n",
    "plt.plot(x_train_e6[(t_train_e6==0)[:, 0], 0], x_train_e6[(t_train_e6==0)[:, 0], 1], 'o', label=\"others\", color='blue')\n",
    "plt.xlabel(iris.feature_names[2])\n",
    "plt.ylabel(iris.feature_names[3])\n",
    "plt.grid(True)\n",
    "plt.legend(loc=2)\n",
    "\n",
    "plt.subplot(1,2,2)\n",
    "plt.title(\"Test\", size=18)\n",
    "plt.plot(x_test_e6[(t_test_e6==1)[:, 0], 0], x_test_e6[(t_test_e6==1)[:, 0], 1], 'o', label=iris.target_names[1], color='red')\n",
    "plt.plot(x_test_e6[(t_test_e6==0)[:, 0], 0], x_test_e6[(t_test_e6==0)[:, 0], 1], 'o', label=\"others\", color='blue')\n",
    "plt.xlabel(iris.feature_names[2])\n",
    "plt.ylabel(iris.feature_names[3])\n",
    "plt.grid(True)\n",
    "plt.legend(loc=2)\n",
    "plt.show()"
   ]
  },
  {
   "cell_type": "code",
   "execution_count": null,
   "metadata": {
    "id": "DeB3IS0_L-SK"
   },
   "outputs": [],
   "source": [
    "x_train_e6 = x_train_e6.T\n",
    "t_train_e6 = t_train_e6.T\n",
    "x_test_e6 = x_test_e6.T\n",
    "t_test_e6 = t_test_e6.T"
   ]
  },
  {
   "cell_type": "code",
   "execution_count": null,
   "metadata": {
    "id": "92V658e_LUHS"
   },
   "outputs": [],
   "source": [
    "# Entrenamiento del modelo:\n",
    "\n",
    "model = Red_1capa(2, 5, 1)\n",
    "num_iters = 10000\n",
    "eta = 0.001\n",
    "\n",
    "loss_train = []\n",
    "loss_test = []\n",
    "acc_train = []\n",
    "acc_test = []\n",
    "for i in range(num_iters):\n",
    "  model.gradient_step(x_train_e6, t_train_e6, eta)\n",
    "  loss_train.append(model.loss(x_train_e6, t_train_e6))\n",
    "  acc_train.append(model.accuracy(x_train_e6, t_train_e6))\n",
    "  loss_test.append(model.loss(x_test_e6, t_test_e6))\n",
    "  acc_test.append(model.accuracy(x_test_e6, t_test_e6))"
   ]
  },
  {
   "cell_type": "code",
   "execution_count": null,
   "metadata": {
    "id": "XqC3TMALLaBM"
   },
   "outputs": [],
   "source": [
    "plt.figure(figsize=(12, 4))\n",
    "plt.subplot(1, 2, 1)\n",
    "plt.plot(range(num_iters), loss_train, label=\"train\")\n",
    "plt.plot(range(num_iters), loss_test, label=\"test\")\n",
    "plt.grid(True)\n",
    "plt.xlabel(\"epoch\")\n",
    "plt.ylabel(\"loss\")\n",
    "plt.legend()\n",
    "\n",
    "plt.subplot(1,2,2)\n",
    "plt.plot(range(num_iters), acc_train, label=\"train\")\n",
    "plt.plot(range(num_iters), acc_test, label=\"test\")\n",
    "plt.grid(True)\n",
    "plt.xlabel(\"epoch\")\n",
    "plt.ylabel(\"acc\")\n",
    "plt.legend()\n",
    "plt.show()"
   ]
  },
  {
   "cell_type": "code",
   "execution_count": null,
   "metadata": {
    "id": "lsFOitlhLbrl"
   },
   "outputs": [],
   "source": [
    "acc_test[-1]"
   ]
  },
  {
   "cell_type": "code",
   "execution_count": null,
   "metadata": {
    "id": "8zUDFnf-LeMB"
   },
   "outputs": [],
   "source": [
    "xx, yy = np.meshgrid(np.arange(x_train_e6[0, :].min()-0.2, x_train_e6[0, :].max()+0.2, 0.1), \n",
    "                     np.arange(x_train_e6[1, :].min()-0.2, x_train_e6[1, :].max()+0.2, 0.1))\n",
    "xy = np.concatenate([xx.reshape([1, -1]), yy.reshape([1, -1])],axis=0).T\n",
    "xy.shape"
   ]
  },
  {
   "cell_type": "code",
   "execution_count": null,
   "metadata": {
    "id": "B4TanEx8Limc"
   },
   "outputs": [],
   "source": [
    "z = model.predict(xy.T).T\n",
    "z.shape"
   ]
  },
  {
   "cell_type": "code",
   "execution_count": null,
   "metadata": {
    "id": "VjtfP_GBLwO_"
   },
   "outputs": [],
   "source": [
    "plt.figure(figsize=(8, 4))\n",
    "\n",
    "plt.contourf(xx, yy, z[:, 0].reshape(xx.shape), 100, cmap=\"bwr\", alpha=0.4, vmin=0.0, vmax=1.0)\n",
    "\n",
    "plt.plot(x_test_e6[0, t_test_e6.ravel()==0], x_test_e6[1, t_test_e6.ravel()==0], 'o', label=\"others\", color='blue')\n",
    "plt.plot(x_test_e6[0, t_test_e6.ravel()==1], x_test_e6[1, t_test_e6.ravel()==1], 'o', label=\"setosa\", color='red')\n",
    "\n",
    "plt.xlabel(iris.feature_names[2])\n",
    "plt.ylabel(iris.feature_names[3])\n",
    "plt.grid(True)     \n",
    "plt.legend(loc=2)\n",
    "plt.colorbar()\n",
    "plt.show()"
   ]
  },
  {
   "cell_type": "markdown",
   "metadata": {
    "id": "IyNmSb5JmLP-"
   },
   "source": [
    "### <font color=\"#CA3532\">Ejercicio 7</font>\n",
    "\n",
    "7.1. Implementar una red neuronal con dos capas ocultas para aprender a diferenciar la subespecie versicolor de las demás subespecies del dataset.\n",
    "\n",
    "7.2. Visualizar la frontera de decisión del modelo."
   ]
  },
  {
   "cell_type": "code",
   "execution_count": null,
   "metadata": {
    "id": "zCyJYu8FNleX"
   },
   "outputs": [],
   "source": [
    "class Red_2capas(object):\n",
    "\n",
    "    def __init__(self, d0=2, d1=10, d2=10, d3=1):\n",
    "        self.W1 = np.random.randn(d1, d0)\n",
    "        self.W2 = np.random.randn(d2, d1)\n",
    "        self.W3 = np.random.randn(d3, d2)\n",
    "        self.b1 = np.random.randn(d1, 1)\n",
    "        self.b2 = np.random.randn(d2, 1)\n",
    "        self.b3 = np.random.randn(d3, 1)\n",
    "        \n",
    "    def forward(self, x):\n",
    "        #----------------------------------------------------------\n",
    "        # TO-DO:\n",
    "        # x tiene que tener dimensiones (d0xn)\n",
    "        # Implementamos clasificacion\n",
    "        #----------------------------------------------------------\n",
    "        \n",
    "        return z1, a1, z2, a2, z3, y\n",
    "    \n",
    "    def backward(self, x, t):\n",
    "        z1, a1, z2, a2, z3, a3 = self.forward(x)\n",
    "        \n",
    "        #----------------------------------------------------------\n",
    "        # TO-DO:\n",
    "        # x tiene que tener dimensiones (d0xn)\n",
    "        # t tiene que tener dimensiones (d2xn)\n",
    "        # Implementamos clasificacion, cross-entropy\n",
    "        #----------------------------------------------------------\n",
    "        \n",
    "        return dW1, db1, dW2, db2, dW3, db3\n",
    "        \n",
    "    def gradient_step(self, x, t, eta):\n",
    "        dW1, db1, dW2, db2, dW3, db3 = self.backward(x, t)\n",
    "        self.W1 -= eta*dW1\n",
    "        self.b1 -= eta*db1\n",
    "        self.W2 -= eta*dW2\n",
    "        self.b2 -= eta*db2\n",
    "        self.W3 -= eta*dW3\n",
    "        self.b3 -= eta*db3\n",
    "\n",
    "    def predict(self, x):\n",
    "        _, _, _, _, _, y = self.forward(x)\n",
    "        return y\n",
    "\n",
    "    def loss(self, x, t):\n",
    "        y = self.predict(x)\n",
    "        return cross_entropy(y, t)\n",
    "\n",
    "    def accuracy(self, x, t):\n",
    "        y = self.predict(x)\n",
    "        return accuracy(y, t)"
   ]
  },
  {
   "cell_type": "code",
   "execution_count": null,
   "metadata": {
    "id": "xNyuuDkjnBgi"
   },
   "outputs": [],
   "source": [
    "clase_versicolor = np.where(iris.target_names == 'versicolor')[0][0]\n",
    "clase_versicolor"
   ]
  },
  {
   "cell_type": "code",
   "execution_count": null,
   "metadata": {
    "id": "7O46JaURnKxQ"
   },
   "outputs": [],
   "source": [
    "x_train_e7 = x_train\n",
    "x_test_e7 = x_test\n",
    "\n",
    "# Tenemos que quedarnos con la clase versicolor como clase target (1) y el resto reetiquetarlas como no-target (0).\n",
    "t_train_e7 = (t_train == clase_versicolor) * 1\n",
    "t_test_e7 = (t_test == clase_versicolor) * 1"
   ]
  },
  {
   "cell_type": "code",
   "execution_count": null,
   "metadata": {
    "id": "xTjlRVrynOTW"
   },
   "outputs": [],
   "source": [
    "plt.figure(figsize=(12, 4))\n",
    "plt.subplot(1,2,1)\n",
    "plt.title(\"Training\", size=18)\n",
    "plt.plot(x_train_e7[(t_train_e7==1)[:, 0], 0], x_train_e7[(t_train_e7==1)[:, 0], 1], 'o', label=iris.target_names[1], color='red')\n",
    "plt.plot(x_train_e7[(t_train_e7==0)[:, 0], 0], x_train_e7[(t_train_e7==0)[:, 0], 1], 'o', label=\"others\", color='blue')\n",
    "plt.xlabel(iris.feature_names[2])\n",
    "plt.ylabel(iris.feature_names[3])\n",
    "plt.grid(True)\n",
    "plt.legend(loc=2)\n",
    "\n",
    "plt.subplot(1,2,2)\n",
    "plt.title(\"Test\", size=18)\n",
    "plt.plot(x_test_e7[(t_test_e7==1)[:, 0], 0], x_test_e7[(t_test_e7==1)[:, 0], 1], 'o', label=iris.target_names[1], color='red')\n",
    "plt.plot(x_test_e7[(t_test_e7==0)[:, 0], 0], x_test_e7[(t_test_e7==0)[:, 0], 1], 'o', label=\"others\", color='blue')\n",
    "plt.xlabel(iris.feature_names[2])\n",
    "plt.ylabel(iris.feature_names[3])\n",
    "plt.grid(True)\n",
    "plt.legend(loc=2)\n",
    "plt.show()"
   ]
  },
  {
   "cell_type": "code",
   "execution_count": null,
   "metadata": {
    "id": "fe8vUCo_nW0m"
   },
   "outputs": [],
   "source": [
    "x_train_e7 = x_train_e7.T\n",
    "t_train_e7 = t_train_e7.T\n",
    "x_test_e7 = x_test_e7.T\n",
    "t_test_e7 = t_test_e7.T"
   ]
  },
  {
   "cell_type": "code",
   "execution_count": null,
   "metadata": {
    "id": "7BQ4sBTDndlK"
   },
   "outputs": [],
   "source": [
    "# Entrenamiento del modelo:\n",
    "\n",
    "model = Red_2capas(2, 10, 5, 1)\n",
    "num_iters = 10000\n",
    "eta = 0.001\n",
    "\n",
    "loss_train = []\n",
    "loss_test = []\n",
    "acc_train = []\n",
    "acc_test = []\n",
    "for i in range(num_iters):\n",
    "  model.gradient_step(x_train_e6, t_train_e6, eta)\n",
    "  loss_train.append(model.loss(x_train_e6, t_train_e6))\n",
    "  acc_train.append(model.accuracy(x_train_e6, t_train_e6))\n",
    "  loss_test.append(model.loss(x_test_e6, t_test_e6))\n",
    "  acc_test.append(model.accuracy(x_test_e6, t_test_e6))"
   ]
  },
  {
   "cell_type": "code",
   "execution_count": null,
   "metadata": {
    "id": "ikK8LwZ5niCI"
   },
   "outputs": [],
   "source": [
    "plt.figure(figsize=(12, 4))\n",
    "plt.subplot(1, 2, 1)\n",
    "plt.plot(range(num_iters), loss_train, label=\"train\")\n",
    "plt.plot(range(num_iters), loss_test, label=\"test\")\n",
    "plt.grid(True)\n",
    "plt.xlabel(\"epoch\")\n",
    "plt.ylabel(\"loss\")\n",
    "plt.legend()\n",
    "\n",
    "plt.subplot(1,2,2)\n",
    "plt.plot(range(num_iters), acc_train, label=\"train\")\n",
    "plt.plot(range(num_iters), acc_test, label=\"test\")\n",
    "plt.grid(True)\n",
    "plt.xlabel(\"epoch\")\n",
    "plt.ylabel(\"acc\")\n",
    "plt.legend()\n",
    "plt.show()"
   ]
  },
  {
   "cell_type": "code",
   "execution_count": null,
   "metadata": {
    "id": "5lr1BP-pnqe5"
   },
   "outputs": [],
   "source": [
    "acc_test[-1]"
   ]
  },
  {
   "cell_type": "code",
   "execution_count": null,
   "metadata": {
    "id": "r2DSneF3nkNc"
   },
   "outputs": [],
   "source": [
    "xx, yy = np.meshgrid(np.arange(x_train_e7[0, :].min()-0.2, x_train_e7[0, :].max()+0.2, 0.1), \n",
    "                     np.arange(x_train_e7[1, :].min()-0.2, x_train_e7[1, :].max()+0.2, 0.1))\n",
    "xy = np.concatenate([xx.reshape([1, -1]), yy.reshape([1, -1])],axis=0).T\n",
    "xy.shape"
   ]
  },
  {
   "cell_type": "code",
   "execution_count": null,
   "metadata": {
    "id": "xPsO486VnthK"
   },
   "outputs": [],
   "source": [
    "z = model.predict(xy.T).T\n",
    "z.shape"
   ]
  },
  {
   "cell_type": "code",
   "execution_count": null,
   "metadata": {
    "id": "e_lXss2cnx5e"
   },
   "outputs": [],
   "source": [
    "plt.figure(figsize=(8, 4))\n",
    "\n",
    "plt.contourf(xx, yy, z[:, 0].reshape(xx.shape), 100, cmap=\"bwr\", alpha=0.4, vmin=0.0, vmax=1.0)\n",
    "\n",
    "plt.plot(x_test_e7[0, t_test_e7.ravel()==0], x_test_e7[1, t_test_e7.ravel()==0], 'o', label=\"others\", color='blue')\n",
    "plt.plot(x_test_e7[0, t_test_e7.ravel()==1], x_test_e7[1, t_test_e7.ravel()==1], 'o', label=\"versicolor\", color='red')\n",
    "\n",
    "plt.xlabel(iris.feature_names[2])\n",
    "plt.ylabel(iris.feature_names[3])\n",
    "plt.grid(True)     \n",
    "plt.legend(loc=2)\n",
    "plt.colorbar()\n",
    "plt.show()"
   ]
  },
  {
   "cell_type": "markdown",
   "metadata": {
    "id": "IUDPBCvouH2j"
   },
   "source": [
    "### <font color=\"#CA3532\">Preguntas para el próximo día</font>\n",
    "\n",
    "¿Cómo podríamos diseñar una clase genérica de red neuronal con un número arbitrario de capas?\n",
    "\n",
    "¿Cómo podríamos construir un modelo que clasifique las tres clases?\n",
    "\n",
    "1. Con regresión logística, ¿qué podemos hacer?\n",
    "\n",
    "2. Con redes neuronales, ¿qué podemos hacer?"
   ]
  },
  {
   "cell_type": "code",
   "execution_count": null,
   "metadata": {
    "id": "LSi5EAH-k1cq"
   },
   "outputs": [],
   "source": []
  }
 ],
 "metadata": {
  "colab": {
   "provenance": [],
   "toc_visible": true
  },
  "kernelspec": {
   "display_name": "Python 3 (ipykernel)",
   "language": "python",
   "name": "python3"
  },
  "language_info": {
   "codemirror_mode": {
    "name": "ipython",
    "version": 3
   },
   "file_extension": ".py",
   "mimetype": "text/x-python",
   "name": "python",
   "nbconvert_exporter": "python",
   "pygments_lexer": "ipython3",
   "version": "3.11.5"
  }
 },
 "nbformat": 4,
 "nbformat_minor": 1
}
